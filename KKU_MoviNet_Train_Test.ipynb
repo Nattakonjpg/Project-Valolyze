{
  "cells": [
    {
      "cell_type": "markdown",
      "metadata": {
        "id": "view-in-github",
        "colab_type": "text"
      },
      "source": [
        "<a href=\"https://colab.research.google.com/github/Nattakonjpg/Project-Valolyze/blob/main/KKU_MoviNet_Train_Test.ipynb\" target=\"_parent\"><img src=\"https://colab.research.google.com/assets/colab-badge.svg\" alt=\"Open In Colab\"/></a>"
      ]
    },
    {
      "cell_type": "markdown",
      "metadata": {
        "id": "vd5t8zqx__nD"
      },
      "source": [
        "## Coonect Google Drive (ใช้)\n",
        "- Add Shortcut from Shared with me drive to main drive in google drive to easy find path in google colab\n"
      ]
    },
    {
      "cell_type": "code",
      "execution_count": 1,
      "metadata": {
        "colab": {
          "base_uri": "https://localhost:8080/"
        },
        "id": "KEOkROT2AB2w",
        "outputId": "c6a28c24-76d1-4c15-a291-4ff8dde463f0"
      },
      "outputs": [
        {
          "output_type": "stream",
          "name": "stdout",
          "text": [
            "Mounted at /content/drive\n"
          ]
        }
      ],
      "source": [
        "from google.colab import drive\n",
        "drive.mount('/content/drive')"
      ]
    },
    {
      "cell_type": "code",
      "execution_count": 2,
      "metadata": {
        "colab": {
          "base_uri": "https://localhost:8080/"
        },
        "id": "m0OghwqY55zl",
        "outputId": "43773656-f983-4657-e662-99664600c341"
      },
      "outputs": [
        {
          "output_type": "stream",
          "name": "stdout",
          "text": [
            "/content/drive/.shortcut-targets-by-id/1jusOl_HN_QQ9kYMlGXffiLoyy9tUOXuM/Game analysis/Video/Vdo_model\n",
            " \u001b[0m\u001b[01;34mJett\u001b[0m/                       \u001b[01;34mtest_train_splits_3\u001b[0m/              \u001b[01;34mvideo_data_3_jett\u001b[0m/\n",
            " \u001b[01;34mModel\u001b[0m/                      \u001b[01;34mtest_train_splits_4_yoru+habor\u001b[0m/   \u001b[01;34mvideo_data_4_yoru+habor\u001b[0m/\n",
            "\u001b[01;34m'Other Video'\u001b[0m/               \u001b[01;34mtest_train_splits_5_sova\u001b[0m/         \u001b[01;34mvideo_data_5_sova\u001b[0m/\n",
            " \u001b[01;34m__pycache__\u001b[0m/                \u001b[01;34mtest_train_splits_yoru\u001b[0m/           \u001b[01;34mvideo_data_yoru\u001b[0m/\n",
            " \u001b[01;34mtest_file_other\u001b[0m/            transforms.py                    \u001b[01;34m'video แบ่งรอบไม่ตัด'\u001b[0m\u001b[K/\n",
            " \u001b[01;34mtest_train_splits\u001b[0m/          \u001b[01;34mvideo_data\u001b[0m/                      \u001b[01;34m'เก็บ csv ผลโมเดล'\u001b[0m\u001b[K/\n",
            " \u001b[01;34mtest_train_splits_2_Sage\u001b[0m/   \u001b[01;34mvideo_data_2_Sage\u001b[0m/\n"
          ]
        }
      ],
      "source": [
        "%cd /content/drive/MyDrive/Game analysis/Video/Vdo_model\n",
        "%ls"
      ]
    },
    {
      "cell_type": "markdown",
      "metadata": {
        "id": "wsXl-K_I4Q66"
      },
      "source": [
        "## Drive tung"
      ]
    },
    {
      "cell_type": "code",
      "execution_count": null,
      "metadata": {
        "colab": {
          "base_uri": "https://localhost:8080/"
        },
        "id": "TX3T-kCa4S-c",
        "outputId": "e569c9a7-15a7-4507-a73c-7ed9091e8b98"
      },
      "outputs": [
        {
          "name": "stdout",
          "output_type": "stream",
          "text": [
            "/content/drive/.shortcut-targets-by-id/1DcpZviGZgfrnwbqJCHW81CqwIPfVaxBy/Project Harbor\n",
            " A4_yoru+habor_8class_yoru_Checkpoint_round1.pth   A4_yoru+habor_checkpoint_epoch_round17.pth\n",
            " A4_yoru+habor_checkpoint_epoch_round110.pth       A4_yoru+habor_checkpoint_epoch_round18.pth\n",
            " A4_yoru+habor_checkpoint_epoch_round111.pth       A4_yoru+habor_checkpoint_epoch_round19.pth\n",
            " A4_yoru+habor_checkpoint_epoch_round112.pth       \u001b[0m\u001b[01;34mModel\u001b[0m/\n",
            " A4_yoru+habor_checkpoint_epoch_round11.pth        \u001b[01;36m__pycache__\u001b[0m@\n",
            " A4_yoru+habor_checkpoint_epoch_round12.pth       \u001b[01;34m'Save model A5'\u001b[0m/\n",
            " A4_yoru+habor_checkpoint_epoch_round13.pth        \u001b[01;34mtest_train_splits\u001b[0m/\n",
            " A4_yoru+habor_checkpoint_epoch_round14.pth        transforms.py\n",
            " A4_yoru+habor_checkpoint_epoch_round15.pth        \u001b[01;34mvideo_data\u001b[0m/\n",
            " A4_yoru+habor_checkpoint_epoch_round16.pth\n"
          ]
        }
      ],
      "source": [
        "%cd /content/drive/MyDrive/Game analysis_tung/Project Harbor\n",
        "%ls"
      ]
    },
    {
      "cell_type": "markdown",
      "metadata": {
        "id": "UhaQ6ZkO7re1"
      },
      "source": [
        "## Install Package and Library (ใช้)\n"
      ]
    },
    {
      "cell_type": "code",
      "execution_count": 3,
      "metadata": {
        "colab": {
          "base_uri": "https://localhost:8080/"
        },
        "id": "v5XUp6LhLgDT",
        "outputId": "9f81ab28-56c0-43b9-9ba7-4e3fd0d4e01b"
      },
      "outputs": [
        {
          "output_type": "stream",
          "name": "stdout",
          "text": [
            "Collecting av\n",
            "  Downloading av-11.0.0-cp310-cp310-manylinux_2_17_x86_64.manylinux2014_x86_64.whl (32.9 MB)\n",
            "\u001b[2K     \u001b[90m━━━━━━━━━━━━━━━━━━━━━━━━━━━━━━━━━━━━━━━━\u001b[0m \u001b[32m32.9/32.9 MB\u001b[0m \u001b[31m28.0 MB/s\u001b[0m eta \u001b[36m0:00:00\u001b[0m\n",
            "\u001b[?25hInstalling collected packages: av\n",
            "Successfully installed av-11.0.0\n"
          ]
        }
      ],
      "source": [
        "!pip install av"
      ]
    },
    {
      "cell_type": "code",
      "execution_count": 4,
      "metadata": {
        "colab": {
          "base_uri": "https://localhost:8080/"
        },
        "id": "XEu2JhJK0sO7",
        "outputId": "3f3e1389-aa2a-47c1-e867-7f21419717cd"
      },
      "outputs": [
        {
          "output_type": "stream",
          "name": "stdout",
          "text": [
            "Collecting git+https://github.com/Atze00/MoViNet-pytorch.git\n",
            "  Cloning https://github.com/Atze00/MoViNet-pytorch.git to /tmp/pip-req-build-bw9izrip\n",
            "  Running command git clone --filter=blob:none --quiet https://github.com/Atze00/MoViNet-pytorch.git /tmp/pip-req-build-bw9izrip\n",
            "  Resolved https://github.com/Atze00/MoViNet-pytorch.git to commit c2d1edf48fc6c5259707f9d833f22171b4f63493\n",
            "  Preparing metadata (setup.py) ... \u001b[?25l\u001b[?25hdone\n",
            "Requirement already satisfied: torch in /usr/local/lib/python3.10/dist-packages (from MoViNet-pytorch==0.2.2) (2.1.0+cu121)\n",
            "Collecting fvcore (from MoViNet-pytorch==0.2.2)\n",
            "  Downloading fvcore-0.1.5.post20221221.tar.gz (50 kB)\n",
            "\u001b[2K     \u001b[90m━━━━━━━━━━━━━━━━━━━━━━━━━━━━━━━━━━━━━━━━\u001b[0m \u001b[32m50.2/50.2 kB\u001b[0m \u001b[31m1.6 MB/s\u001b[0m eta \u001b[36m0:00:00\u001b[0m\n",
            "\u001b[?25h  Preparing metadata (setup.py) ... \u001b[?25l\u001b[?25hdone\n",
            "Collecting einops (from MoViNet-pytorch==0.2.2)\n",
            "  Downloading einops-0.7.0-py3-none-any.whl (44 kB)\n",
            "\u001b[2K     \u001b[90m━━━━━━━━━━━━━━━━━━━━━━━━━━━━━━━━━━━━━━━━\u001b[0m \u001b[32m44.6/44.6 kB\u001b[0m \u001b[31m4.7 MB/s\u001b[0m eta \u001b[36m0:00:00\u001b[0m\n",
            "\u001b[?25hRequirement already satisfied: numpy in /usr/local/lib/python3.10/dist-packages (from fvcore->MoViNet-pytorch==0.2.2) (1.25.2)\n",
            "Collecting yacs>=0.1.6 (from fvcore->MoViNet-pytorch==0.2.2)\n",
            "  Downloading yacs-0.1.8-py3-none-any.whl (14 kB)\n",
            "Requirement already satisfied: pyyaml>=5.1 in /usr/local/lib/python3.10/dist-packages (from fvcore->MoViNet-pytorch==0.2.2) (6.0.1)\n",
            "Requirement already satisfied: tqdm in /usr/local/lib/python3.10/dist-packages (from fvcore->MoViNet-pytorch==0.2.2) (4.66.2)\n",
            "Requirement already satisfied: termcolor>=1.1 in /usr/local/lib/python3.10/dist-packages (from fvcore->MoViNet-pytorch==0.2.2) (2.4.0)\n",
            "Requirement already satisfied: Pillow in /usr/local/lib/python3.10/dist-packages (from fvcore->MoViNet-pytorch==0.2.2) (9.4.0)\n",
            "Requirement already satisfied: tabulate in /usr/local/lib/python3.10/dist-packages (from fvcore->MoViNet-pytorch==0.2.2) (0.9.0)\n",
            "Collecting iopath>=0.1.7 (from fvcore->MoViNet-pytorch==0.2.2)\n",
            "  Downloading iopath-0.1.10.tar.gz (42 kB)\n",
            "\u001b[2K     \u001b[90m━━━━━━━━━━━━━━━━━━━━━━━━━━━━━━━━━━━━━━━━\u001b[0m \u001b[32m42.2/42.2 kB\u001b[0m \u001b[31m4.3 MB/s\u001b[0m eta \u001b[36m0:00:00\u001b[0m\n",
            "\u001b[?25h  Preparing metadata (setup.py) ... \u001b[?25l\u001b[?25hdone\n",
            "Requirement already satisfied: filelock in /usr/local/lib/python3.10/dist-packages (from torch->MoViNet-pytorch==0.2.2) (3.13.1)\n",
            "Requirement already satisfied: typing-extensions in /usr/local/lib/python3.10/dist-packages (from torch->MoViNet-pytorch==0.2.2) (4.9.0)\n",
            "Requirement already satisfied: sympy in /usr/local/lib/python3.10/dist-packages (from torch->MoViNet-pytorch==0.2.2) (1.12)\n",
            "Requirement already satisfied: networkx in /usr/local/lib/python3.10/dist-packages (from torch->MoViNet-pytorch==0.2.2) (3.2.1)\n",
            "Requirement already satisfied: jinja2 in /usr/local/lib/python3.10/dist-packages (from torch->MoViNet-pytorch==0.2.2) (3.1.3)\n",
            "Requirement already satisfied: fsspec in /usr/local/lib/python3.10/dist-packages (from torch->MoViNet-pytorch==0.2.2) (2023.6.0)\n",
            "Requirement already satisfied: triton==2.1.0 in /usr/local/lib/python3.10/dist-packages (from torch->MoViNet-pytorch==0.2.2) (2.1.0)\n",
            "Collecting portalocker (from iopath>=0.1.7->fvcore->MoViNet-pytorch==0.2.2)\n",
            "  Downloading portalocker-2.8.2-py3-none-any.whl (17 kB)\n",
            "Requirement already satisfied: MarkupSafe>=2.0 in /usr/local/lib/python3.10/dist-packages (from jinja2->torch->MoViNet-pytorch==0.2.2) (2.1.5)\n",
            "Requirement already satisfied: mpmath>=0.19 in /usr/local/lib/python3.10/dist-packages (from sympy->torch->MoViNet-pytorch==0.2.2) (1.3.0)\n",
            "Building wheels for collected packages: MoViNet-pytorch, fvcore, iopath\n",
            "  Building wheel for MoViNet-pytorch (setup.py) ... \u001b[?25l\u001b[?25hdone\n",
            "  Created wheel for MoViNet-pytorch: filename=MoViNet_pytorch-0.2.2-py3-none-any.whl size=11959 sha256=17d27db645d0c21a95138f83c7757c2cb78ae00e78b73d96badda84783a8dea0\n",
            "  Stored in directory: /tmp/pip-ephem-wheel-cache-2l19dlux/wheels/a4/76/cf/b8a087460d770e5a44eff9ed975e225d43f007c8c14f8e26d2\n",
            "  Building wheel for fvcore (setup.py) ... \u001b[?25l\u001b[?25hdone\n",
            "  Created wheel for fvcore: filename=fvcore-0.1.5.post20221221-py3-none-any.whl size=61400 sha256=de55aded23ae34ff6720a230f9aeacf74446dc04c3fb26e8dc6644ceec013a77\n",
            "  Stored in directory: /root/.cache/pip/wheels/01/c0/af/77c1cf53a1be9e42a52b48e5af2169d40ec2e89f7362489dd0\n",
            "  Building wheel for iopath (setup.py) ... \u001b[?25l\u001b[?25hdone\n",
            "  Created wheel for iopath: filename=iopath-0.1.10-py3-none-any.whl size=31532 sha256=d2667bed5a4d8192715c2582beb01a8c9e8fcef8e63794db28881203b0a99a8e\n",
            "  Stored in directory: /root/.cache/pip/wheels/9a/a3/b6/ac0fcd1b4ed5cfeb3db92e6a0e476cfd48ed0df92b91080c1d\n",
            "Successfully built MoViNet-pytorch fvcore iopath\n",
            "Installing collected packages: yacs, portalocker, einops, iopath, fvcore, MoViNet-pytorch\n",
            "Successfully installed MoViNet-pytorch-0.2.2 einops-0.7.0 fvcore-0.1.5.post20221221 iopath-0.1.10 portalocker-2.8.2 yacs-0.1.8\n"
          ]
        }
      ],
      "source": [
        "pip install git+https://github.com/Atze00/MoViNet-pytorch.git"
      ]
    },
    {
      "cell_type": "markdown",
      "metadata": {
        "id": "rUlpNpbeWedl"
      },
      "source": [
        "##Import Dataset (ใช้)"
      ]
    },
    {
      "cell_type": "code",
      "execution_count": 5,
      "metadata": {
        "id": "44Go3gdmRh-b"
      },
      "outputs": [],
      "source": [
        "import time\n",
        "import torchvision\n",
        "import torch.nn.functional as F\n",
        "import torchvision.transforms as transforms\n",
        "import torch.optim as optim\n",
        "from torch.utils.data import random_split, DataLoader\n",
        "import torch\n",
        "import transforms as T\n",
        "from movinets import MoViNet\n",
        "from movinets.config import _C"
      ]
    },
    {
      "cell_type": "markdown",
      "metadata": {
        "id": "NA8ukNeGQLXh"
      },
      "source": [
        "##Prepare Dataset"
      ]
    },
    {
      "cell_type": "markdown",
      "metadata": {
        "id": "F2nDiJauZOIB"
      },
      "source": [
        "###For A0 model"
      ]
    },
    {
      "cell_type": "code",
      "execution_count": null,
      "metadata": {
        "id": "qfnFybM6LVm0"
      },
      "outputs": [],
      "source": [
        "torch.manual_seed(97)\n",
        "num_frames = 24 # 16\n",
        "clip_steps = 12\n",
        "Bs_Train = 1\n",
        "Bs_Test = 1\n",
        "\n",
        "transform = transforms.Compose([\n",
        "\n",
        "                                 T.ToFloatTensorInZeroOne(),\n",
        "                                 T.Resize((200, 200)),\n",
        "                                 T.RandomHorizontalFlip(),\n",
        "                                 #T.Normalize(mean=[0.43216, 0.394666, 0.37645], std=[0.22803, 0.22145, 0.216989]),\n",
        "                                 T.RandomCrop((172, 172))]) # Size for model\n",
        "transform_test = transforms.Compose([\n",
        "                                 T.ToFloatTensorInZeroOne(),\n",
        "                                 T.Resize((200, 200)),\n",
        "                                 #T.Normalize(mean=[0.43216, 0.394666, 0.37645], std=[0.22803, 0.22145, 0.216989]),\n",
        "                                 T.CenterCrop((172, 172))]) #Size for model\n"
      ]
    },
    {
      "cell_type": "code",
      "execution_count": null,
      "metadata": {
        "id": "ttpY2fO78Wdc"
      },
      "outputs": [],
      "source": [
        "hmdb51_train = torchvision.datasets.HMDB51('video_data/', 'test_train_splits/', num_frames,frame_rate=None,\n",
        "                                                step_between_clips = clip_steps, fold=1, train=True,\n",
        "                                                transform=transform, num_workers=2)\n",
        "\n",
        "hmdb51_test = torchvision.datasets.HMDB51('video_data/', 'test_train_splits/', num_frames,frame_rate=None,\n",
        "                                                step_between_clips = clip_steps, fold=1, train=False,\n",
        "                                                transform=transform_test, num_workers=2)"
      ]
    },
    {
      "cell_type": "code",
      "execution_count": null,
      "metadata": {
        "id": "7h6Ou7LhL-CT"
      },
      "outputs": [],
      "source": [
        "train_loader = DataLoader(hmdb51_train, batch_size=Bs_Train, shuffle=True)\n",
        "test_loader  = DataLoader(hmdb51_test, batch_size=Bs_Test, shuffle=False)"
      ]
    },
    {
      "cell_type": "code",
      "execution_count": null,
      "metadata": {
        "colab": {
          "base_uri": "https://localhost:8080/"
        },
        "id": "PTq82VlvskkZ",
        "outputId": "58a3c504-bc67-4c8f-f35f-18e3d0de306b"
      },
      "outputs": [
        {
          "name": "stderr",
          "output_type": "stream",
          "text": [
            "100%|██████████| 54/54 [09:16<00:00, 10.31s/it]\n",
            "/usr/local/lib/python3.10/dist-packages/torchvision/datasets/video_utils.py:219: UserWarning: There aren't enough frames in the current video to get a clip for the given clip length and frames between clips. The video (and potentially others) will be skipped.\n",
            "  warnings.warn(\n"
          ]
        }
      ],
      "source": [
        "hmdb51_test_2 = torchvision.datasets.HMDB51('video_data_3/', 'test_train_splits_3/', num_frames,frame_rate=None,\n",
        "                                                step_between_clips = clip_steps, fold=1, train=False,\n",
        "                                                transform=transform_test, num_workers=2)\n",
        "test_loader_2  = DataLoader(hmdb51_test_2, batch_size=Bs_Test, shuffle=False)"
      ]
    },
    {
      "cell_type": "markdown",
      "metadata": {
        "id": "UfExloFD62Ik"
      },
      "source": [
        "###For A1 Model"
      ]
    },
    {
      "cell_type": "code",
      "execution_count": null,
      "metadata": {
        "id": "tg8W-QmS65Yx"
      },
      "outputs": [],
      "source": [
        "torch.manual_seed(97)\n",
        "num_frames = 24 # 16\n",
        "clip_steps = 12\n",
        "Bs_Train = 1\n",
        "Bs_Test = 1\n",
        "\n",
        "transform_A1 = transforms.Compose([\n",
        "\n",
        "                                 T.ToFloatTensorInZeroOne(),\n",
        "                                 T.Resize((200, 200)),\n",
        "                                 T.RandomHorizontalFlip(),\n",
        "                                 #T.Normalize(mean=[0.43216, 0.394666, 0.37645], std=[0.22803, 0.22145, 0.216989]),\n",
        "                                 T.RandomCrop((172, 172))]) # Size for model\n",
        "transform_test_A1 = transforms.Compose([\n",
        "                                 T.ToFloatTensorInZeroOne(),\n",
        "                                 T.Resize((200, 200)),\n",
        "                                 #T.Normalize(mean=[0.43216, 0.394666, 0.37645], std=[0.22803, 0.22145, 0.216989]),\n",
        "                                 T.CenterCrop((172, 172))]) #Size for model\n"
      ]
    },
    {
      "cell_type": "code",
      "execution_count": null,
      "metadata": {
        "colab": {
          "base_uri": "https://localhost:8080/"
        },
        "id": "xpSeRwUq7HcA",
        "outputId": "f6d900fd-2b06-46e5-985a-34ae0a18252f"
      },
      "outputs": [
        {
          "name": "stderr",
          "output_type": "stream",
          "text": [
            "100%|██████████| 54/54 [00:57<00:00,  1.07s/it]\n",
            "/usr/local/lib/python3.10/dist-packages/torchvision/datasets/video_utils.py:219: UserWarning: There aren't enough frames in the current video to get a clip for the given clip length and frames between clips. The video (and potentially others) will be skipped.\n",
            "  warnings.warn(\n",
            "100%|██████████| 54/54 [00:57<00:00,  1.06s/it]\n"
          ]
        }
      ],
      "source": [
        "hmdb51_train_A1 = torchvision.datasets.HMDB51('video_data_2/', 'test_train_splits_2/', num_frames,frame_rate=None,\n",
        "                                                step_between_clips = clip_steps, fold=1, train=True,\n",
        "                                                transform=transform_A1, num_workers=2)\n",
        "\n",
        "hmdb51_test_A1 = torchvision.datasets.HMDB51('video_data_2/', 'test_train_splits_2/', num_frames,frame_rate=None,\n",
        "                                                step_between_clips = clip_steps, fold=1, train=False,\n",
        "                                                transform=transform_test_A1, num_workers=2)"
      ]
    },
    {
      "cell_type": "code",
      "execution_count": null,
      "metadata": {
        "id": "Oj987T3X7Sad"
      },
      "outputs": [],
      "source": [
        "train_loader_A1 = DataLoader(hmdb51_train_A1, batch_size=Bs_Train, shuffle=True)\n",
        "test_loader_A1  = DataLoader(hmdb51_test_A1, batch_size=Bs_Test, shuffle=False)"
      ]
    },
    {
      "cell_type": "code",
      "execution_count": null,
      "metadata": {
        "colab": {
          "base_uri": "https://localhost:8080/"
        },
        "id": "UnaE8MtfDinM",
        "outputId": "d88da169-e3ab-4f7f-add3-a7f7f4c27808"
      },
      "outputs": [
        {
          "name": "stderr",
          "output_type": "stream",
          "text": [
            "100%|██████████| 54/54 [01:18<00:00,  1.46s/it]"
          ]
        },
        {
          "name": "stdout",
          "output_type": "stream",
          "text": [
            "Dataset HMDB51\n",
            "    Number of datapoints: 719\n",
            "    Root location: video_data_3/\n"
          ]
        },
        {
          "name": "stderr",
          "output_type": "stream",
          "text": [
            "\n",
            "/usr/local/lib/python3.10/dist-packages/torchvision/datasets/video_utils.py:219: UserWarning: There aren't enough frames in the current video to get a clip for the given clip length and frames between clips. The video (and potentially others) will be skipped.\n",
            "  warnings.warn(\n"
          ]
        }
      ],
      "source": [
        "hmdb51_test_A1 = torchvision.datasets.HMDB51('video_data_3/', 'test_train_splits_3/', num_frames,frame_rate=None,\n",
        "                                                step_between_clips = clip_steps, fold=1, train=False,\n",
        "                                                transform=transform_test_A1, num_workers=2)\n",
        "test_loader_A1  = DataLoader(hmdb51_test_A1, batch_size=Bs_Test, shuffle=False)\n",
        "print(hmdb51_test_A1)"
      ]
    },
    {
      "cell_type": "code",
      "execution_count": null,
      "metadata": {
        "colab": {
          "base_uri": "https://localhost:8080/"
        },
        "id": "2suGYdJHJSYM",
        "outputId": "1fcd90f3-b618-4b07-f157-3499e70c6f87"
      },
      "outputs": [
        {
          "name": "stdout",
          "output_type": "stream",
          "text": [
            "Dataset HMDB51\n",
            "    Number of datapoints: 719\n",
            "    Root location: video_data_3/\n"
          ]
        }
      ],
      "source": [
        "print(hmdb51_test_A1)"
      ]
    },
    {
      "cell_type": "markdown",
      "metadata": {
        "id": "b5vaZXKqZQiq"
      },
      "source": [
        "### For A2 model"
      ]
    },
    {
      "cell_type": "code",
      "execution_count": null,
      "metadata": {
        "id": "LoaZoAkWZTfT"
      },
      "outputs": [],
      "source": [
        "torch.manual_seed(97)\n",
        "num_frames = 24 # 16\n",
        "clip_steps = 12\n",
        "Bs_Train = 1\n",
        "Bs_Test = 1\n",
        "\n",
        "transform_A2 = transforms.Compose([\n",
        "\n",
        "                                 T.ToFloatTensorInZeroOne(),\n",
        "                                 T.Resize((300, 300)),\n",
        "                                 T.RandomHorizontalFlip(),\n",
        "                                 #T.Normalize(mean=[0.43216, 0.394666, 0.37645], std=[0.22803, 0.22145, 0.216989]),\n",
        "                                 T.RandomCrop((224, 224))]) # Size for model\n",
        "transform_test_A2 = transforms.Compose([\n",
        "                                 T.ToFloatTensorInZeroOne(),\n",
        "                                 T.Resize((300, 300)),\n",
        "                                 #T.Normalize(mean=[0.43216, 0.394666, 0.37645], std=[0.22803, 0.22145, 0.216989]),\n",
        "                                 T.CenterCrop((224, 224))]) #Size for model\n"
      ]
    },
    {
      "cell_type": "code",
      "execution_count": null,
      "metadata": {
        "colab": {
          "base_uri": "https://localhost:8080/"
        },
        "id": "PYW8bUgUaqPL",
        "outputId": "92d0bcb4-0b3e-41db-b310-2c5a728a2795"
      },
      "outputs": [
        {
          "name": "stderr",
          "output_type": "stream",
          "text": [
            "100%|██████████| 54/54 [08:23<00:00,  9.32s/it]\n",
            "/usr/local/lib/python3.10/dist-packages/torchvision/datasets/video_utils.py:219: UserWarning: There aren't enough frames in the current video to get a clip for the given clip length and frames between clips. The video (and potentially others) will be skipped.\n",
            "  warnings.warn(\n",
            "100%|██████████| 54/54 [00:59<00:00,  1.09s/it]\n"
          ]
        }
      ],
      "source": [
        "hmdb51_train_A2 = torchvision.datasets.HMDB51('video_data/', 'test_train_splits/', num_frames,frame_rate=None,\n",
        "                                                step_between_clips = clip_steps, fold=1, train=True,\n",
        "                                                transform=transform_A2, num_workers=2)\n",
        "\n",
        "hmdb51_test_A2 = torchvision.datasets.HMDB51('video_data/', 'test_train_splits/', num_frames,frame_rate=None,\n",
        "                                                step_between_clips = clip_steps, fold=1, train=False,\n",
        "                                                transform=transform_test_A2, num_workers=2)"
      ]
    },
    {
      "cell_type": "code",
      "execution_count": null,
      "metadata": {
        "id": "Yky2ATjwatV5"
      },
      "outputs": [],
      "source": [
        "train_loader_A2 = DataLoader(hmdb51_train_A2, batch_size=Bs_Train, shuffle=True)\n",
        "test_loader_A2  = DataLoader(hmdb51_test_A2, batch_size=Bs_Test, shuffle=False)"
      ]
    },
    {
      "cell_type": "code",
      "execution_count": null,
      "metadata": {
        "colab": {
          "base_uri": "https://localhost:8080/"
        },
        "id": "dS1G0icYOi4d",
        "outputId": "4196e97f-eaac-417d-a723-b2b6d3a0f885"
      },
      "outputs": [
        {
          "name": "stderr",
          "output_type": "stream",
          "text": [
            "100%|██████████| 54/54 [09:01<00:00, 10.03s/it]\n",
            "/usr/local/lib/python3.10/dist-packages/torchvision/datasets/video_utils.py:219: UserWarning: There aren't enough frames in the current video to get a clip for the given clip length and frames between clips. The video (and potentially others) will be skipped.\n",
            "  warnings.warn(\n"
          ]
        }
      ],
      "source": [
        "hmdb51_test_A2 = torchvision.datasets.HMDB51('video_data_2/', 'test_train_splits_2/', num_frames,frame_rate=None,\n",
        "                                                step_between_clips = clip_steps, fold=1, train=False,\n",
        "                                                transform=transform_test_A2, num_workers=2)\n",
        "test_loader_A2  = DataLoader(hmdb51_test_A2, batch_size=Bs_Test, shuffle=False)"
      ]
    },
    {
      "cell_type": "markdown",
      "metadata": {
        "id": "331t5Ov1Ph6l"
      },
      "source": [
        "###For A3 Model"
      ]
    },
    {
      "cell_type": "code",
      "execution_count": null,
      "metadata": {
        "id": "kGf6FHQePhYu"
      },
      "outputs": [],
      "source": [
        "torch.manual_seed(97)\n",
        "num_frames = 24 # 16\n",
        "clip_steps = 12\n",
        "Bs_Train = 1\n",
        "Bs_Test = 1\n",
        "\n",
        "transform_A3 = transforms.Compose([\n",
        "\n",
        "                                 T.ToFloatTensorInZeroOne(),\n",
        "                                 T.Resize((300, 300)),\n",
        "                                 T.RandomHorizontalFlip(),\n",
        "                                 #T.Normalize(mean=[0.43216, 0.394666, 0.37645], std=[0.22803, 0.22145, 0.216989]),\n",
        "                                 T.RandomCrop((256, 256))]) # Size for model\n",
        "transform_test_A3 = transforms.Compose([\n",
        "                                 T.ToFloatTensorInZeroOne(),\n",
        "                                 T.Resize((300, 300)),\n",
        "                                 #T.Normalize(mean=[0.43216, 0.394666, 0.37645], std=[0.22803, 0.22145, 0.216989]),\n",
        "                                 T.CenterCrop((256, 256))]) #Size for model\n"
      ]
    },
    {
      "cell_type": "code",
      "execution_count": null,
      "metadata": {
        "colab": {
          "base_uri": "https://localhost:8080/"
        },
        "id": "ObIZqjTVPuaI",
        "outputId": "e0a9028d-6218-4a1d-ea94-28507a6c29eb"
      },
      "outputs": [
        {
          "name": "stderr",
          "output_type": "stream",
          "text": [
            "100%|██████████| 54/54 [03:43<00:00,  4.14s/it]\n",
            "/usr/local/lib/python3.10/dist-packages/torchvision/datasets/video_utils.py:219: UserWarning: There aren't enough frames in the current video to get a clip for the given clip length and frames between clips. The video (and potentially others) will be skipped.\n",
            "  warnings.warn(\n",
            "100%|██████████| 54/54 [00:58<00:00,  1.08s/it]\n"
          ]
        }
      ],
      "source": [
        "hmdb51_train_A3 = torchvision.datasets.HMDB51('video_data/', 'test_train_splits/', num_frames,frame_rate=None,\n",
        "                                                step_between_clips = clip_steps, fold=1, train=True,\n",
        "                                                transform=transform_A3, num_workers=2)\n",
        "\n",
        "hmdb51_test_A3 = torchvision.datasets.HMDB51('video_data/', 'test_train_splits/', num_frames,frame_rate=None,\n",
        "                                                step_between_clips = clip_steps, fold=1, train=False,\n",
        "                                                transform=transform_A3, num_workers=2)"
      ]
    },
    {
      "cell_type": "code",
      "execution_count": null,
      "metadata": {
        "id": "5rWsILWYPxGN"
      },
      "outputs": [],
      "source": [
        "train_loader_A3 = DataLoader(hmdb51_train_A3, batch_size=Bs_Train, shuffle=True)\n",
        "test_loader_A3  = DataLoader(hmdb51_test_A3 , batch_size=Bs_Test, shuffle=False)"
      ]
    },
    {
      "cell_type": "markdown",
      "metadata": {
        "id": "Uxho7EyfeHO6"
      },
      "source": [
        "###For Model A4"
      ]
    },
    {
      "cell_type": "code",
      "execution_count": null,
      "metadata": {
        "colab": {
          "base_uri": "https://localhost:8080/"
        },
        "id": "NZxxs54ld2Bb",
        "outputId": "1e4fd9dd-d523-4c0f-d4bd-3d2e1e0ebc77"
      },
      "outputs": [
        {
          "name": "stderr",
          "output_type": "stream",
          "text": [
            "100%|██████████| 51/51 [08:44<00:00, 10.28s/it]\n",
            "/usr/local/lib/python3.10/dist-packages/torchvision/datasets/video_utils.py:219: UserWarning: There aren't enough frames in the current video to get a clip for the given clip length and frames between clips. The video (and potentially others) will be skipped.\n",
            "  warnings.warn(\n",
            "100%|██████████| 51/51 [01:09<00:00,  1.37s/it]\n"
          ]
        }
      ],
      "source": [
        "torch.manual_seed(97)\n",
        "num_frames = 24 # 16\n",
        "clip_steps = 12\n",
        "Bs_Train = 1\n",
        "Bs_Test = 1\n",
        "\n",
        "transform_A4 = transforms.Compose([\n",
        "\n",
        "                                 T.ToFloatTensorInZeroOne(),\n",
        "                                 T.Resize((300, 300)),\n",
        "                                 T.RandomHorizontalFlip(),\n",
        "                                 #T.Normalize(mean=[0.43216, 0.394666, 0.37645], std=[0.22803, 0.22145, 0.216989]),\n",
        "                                 T.RandomCrop((290, 290))]) # Size for model\n",
        "transform_test_A4 = transforms.Compose([\n",
        "                                 T.ToFloatTensorInZeroOne(),\n",
        "                                 T.Resize((300, 300)),\n",
        "                                 #T.Normalize(mean=[0.43216, 0.394666, 0.37645], std=[0.22803, 0.22145, 0.216989]),\n",
        "                                 T.CenterCrop((290, 290))]) #Size for model\n",
        "hmdb51_train_A4 = torchvision.datasets.HMDB51('video_data_2', 'test_train_splits', num_frames,frame_rate=None,\n",
        "                                                step_between_clips = clip_steps, fold=1, train=True,\n",
        "                                                transform=transform_A4, num_workers=2)\n",
        "\n",
        "hmdb51_test_A4 = torchvision.datasets.HMDB51('video_data', 'test_train_splits', num_frames,frame_rate=None,\n",
        "                                                step_between_clips = clip_steps, fold=1, train=False,\n",
        "                                                transform=transform_test_A4, num_workers=2)\n",
        "\n",
        "train_loader_A4 = DataLoader(hmdb51_train_A4, batch_size=Bs_Train, shuffle=True)\n",
        "test_loader_A4  = DataLoader(hmdb51_test_A4 , batch_size=Bs_Test, shuffle=False)"
      ]
    },
    {
      "cell_type": "markdown",
      "metadata": {
        "id": "at08RywSXm3k"
      },
      "source": [
        "###For Model A5"
      ]
    },
    {
      "cell_type": "code",
      "execution_count": null,
      "metadata": {
        "colab": {
          "base_uri": "https://localhost:8080/"
        },
        "id": "Prp3B3g4X6cv",
        "outputId": "c06ca3a9-9d94-49e5-e0e1-0b7215201481"
      },
      "outputs": [
        {
          "name": "stderr",
          "output_type": "stream",
          "text": [
            "100%|██████████| 54/54 [01:04<00:00,  1.19s/it]\n",
            "100%|██████████| 54/54 [01:03<00:00,  1.18s/it]\n"
          ]
        }
      ],
      "source": [
        "torch.manual_seed(97)\n",
        "num_frames = 24 # 16\n",
        "clip_steps = 12\n",
        "Bs_Train = 1\n",
        "Bs_Test = 1\n",
        "\n",
        "transform_A5 = transforms.Compose([\n",
        "\n",
        "                                 T.ToFloatTensorInZeroOne(),\n",
        "                                 T.Resize((400, 400)),\n",
        "                                 T.RandomHorizontalFlip(),\n",
        "                                 #T.Normalize(mean=[0.43216, 0.394666, 0.37645], std=[0.22803, 0.22145, 0.216989]),\n",
        "                                 T.RandomCrop((320, 320))]) # Size for model\n",
        "transform_test_A5 = transforms.Compose([\n",
        "                                 T.ToFloatTensorInZeroOne(),\n",
        "                                 T.Resize((400, 400)),\n",
        "                                 #T.Normalize(mean=[0.43216, 0.394666, 0.37645], std=[0.22803, 0.22145, 0.216989]),\n",
        "                                 T.CenterCrop((320, 320))]) #Size for model\n",
        "hmdb51_train_A5 = torchvision.datasets.HMDB51('video_data_4_yoru+habor', 'test_train_splits_4_yoru+habor', num_frames,frame_rate=None,\n",
        "                                                step_between_clips = clip_steps, fold=1, train=True,\n",
        "                                                transform=transform_A5, num_workers=2)\n",
        "\n",
        "hmdb51_test_A5 = torchvision.datasets.HMDB51('video_data_4_yoru+habor', 'test_train_splits_4_yoru+habor', num_frames,frame_rate=None,\n",
        "                                                step_between_clips = clip_steps, fold=1, train=False,\n",
        "                                                transform=transform_test_A5, num_workers=2)\n",
        "\n",
        "train_loader_A5 = DataLoader(hmdb51_train_A5, batch_size=Bs_Train, shuffle=True)\n",
        "test_loader_A5  = DataLoader(hmdb51_test_A5 , batch_size=Bs_Test, shuffle=False)"
      ]
    },
    {
      "cell_type": "markdown",
      "metadata": {
        "id": "S_B4HWxzUVYi"
      },
      "source": [
        "#Function train , evaluate (ใช้)"
      ]
    },
    {
      "cell_type": "code",
      "execution_count": null,
      "metadata": {
        "id": "wUawNw9scph7"
      },
      "outputs": [],
      "source": [
        "def train_iter(model, optimz, data_load, loss_val):\n",
        "    samples = len(data_load.dataset)\n",
        "    model.train()\n",
        "    model.cuda()\n",
        "    model.clean_activation_buffers()\n",
        "    optimz.zero_grad()\n",
        "    for i, (data,_ , target) in enumerate(data_load):\n",
        "        out = F.log_softmax(model(data.cuda()), dim=1)\n",
        "        loss = F.nll_loss(out, target.cuda())\n",
        "        loss.backward()\n",
        "        optimz.step()\n",
        "        optimz.zero_grad()\n",
        "        model.clean_activation_buffers()\n",
        "        if i % 50 == 0:\n",
        "            print('[' +  '{:5}'.format(i * len(data)) + '/' + '{:5}'.format(samples) +\n",
        "                  ' (' + '{:3.0f}'.format(100 * i / len(data_load)) + '%)]  Loss: ' +\n",
        "                  '{:6.4f}'.format(loss.item()))\n",
        "            loss_val.append(loss.item())\n",
        "\n",
        "def evaluate(model, data_load, loss_val):\n",
        "    model.eval()\n",
        "\n",
        "    samples = len(data_load.dataset)\n",
        "    csamp = 0\n",
        "    tloss = 0\n",
        "    model.clean_activation_buffers()\n",
        "    with torch.no_grad():\n",
        "        for data, _, target in data_load:\n",
        "            output = F.log_softmax(model(data.cuda()), dim=1)\n",
        "            loss = F.nll_loss(output, target.cuda(), reduction='sum')\n",
        "            _, pred = torch.max(output, dim=1)\n",
        "\n",
        "            tloss += loss.item()\n",
        "            csamp += pred.eq(target.cuda()).sum()\n",
        "            model.clean_activation_buffers()\n",
        "    aloss = tloss / samples\n",
        "    loss_val.append(aloss)\n",
        "    print('\\nAverage test loss: ' + '{:.4f}'.format(aloss) +\n",
        "          '  Accuracy:' + '{:5}'.format(csamp) + '/' +\n",
        "          '{:5}'.format(samples) + ' (' +\n",
        "          '{:4.2f}'.format(100.0 * csamp / samples) + '%)\\n')\n",
        "\n",
        "def train_iter_stream(model, optimz, data_load, loss_val, n_clips = 2, n_clip_frames=8):\n",
        "    \"\"\"\n",
        "    In causal mode with stream buffer a single video is fed to the network\n",
        "    using subclips of lenght n_clip_frames.\n",
        "    n_clips*n_clip_frames should be equal to the total number of frames presents\n",
        "    in the video.\n",
        "\n",
        "    n_clips : number of clips that are used\n",
        "    n_clip_frames : number of frame contained in each clip\n",
        "    \"\"\"\n",
        "    #clean the buffer of activations\n",
        "    samples = len(data_load.dataset)\n",
        "    model.cuda()\n",
        "    model.train()\n",
        "    model.clean_activation_buffers()\n",
        "    optimz.zero_grad()\n",
        "\n",
        "    for i, (data,_, target) in enumerate(data_load):\n",
        "        data = data.cuda()\n",
        "        target = target.cuda()\n",
        "        l_batch = 0\n",
        "        #backward pass for each clip\n",
        "        for j in range(n_clips):\n",
        "          output = F.log_softmax(model(data[:,:,(n_clip_frames)*(j):(n_clip_frames)*(j+1)]), dim=1)\n",
        "          loss = F.nll_loss(output, target)\n",
        "          _, pred = torch.max(output, dim=1)\n",
        "          loss = F.nll_loss(output, target)/n_clips\n",
        "          loss.backward()\n",
        "        l_batch += loss.item()*n_clips\n",
        "        optimz.step()\n",
        "        optimz.zero_grad()\n",
        "\n",
        "        #clean the buffer of activations\n",
        "        model.clean_activation_buffers()\n",
        "        if i % 50 == 0:\n",
        "            print('[' +  '{:5}'.format(i * len(data)) + '/' + '{:5}'.format(samples) +\n",
        "                  ' (' + '{:3.0f}'.format(100 * i / len(data_load)) + '%)]  Loss: ' +\n",
        "                  '{:6.4f}'.format(l_batch))\n",
        "            loss_val.append(l_batch)\n",
        "\n",
        "def evaluate_stream(model, data_load, loss_val, n_clips = 2, n_clip_frames=8):\n",
        "    model.eval()\n",
        "    model.cuda()\n",
        "    samples = len(data_load.dataset)\n",
        "    csamp = 0\n",
        "    tloss = 0\n",
        "    with torch.no_grad():\n",
        "        for data, _, target in data_load:\n",
        "            data = data.cuda()\n",
        "            target = target.cuda()\n",
        "            model.clean_activation_buffers()\n",
        "            for j in range(n_clips):\n",
        "              output = F.log_softmax(model(data[:,:,(n_clip_frames)*(j):(n_clip_frames)*(j+1)]), dim=1)\n",
        "              loss = F.nll_loss(output, target)\n",
        "            _, pred = torch.max(output, dim=1)\n",
        "            tloss += loss.item()\n",
        "            csamp += pred.eq(target).sum()\n",
        "\n",
        "    aloss = tloss /  len(data_load)\n",
        "    loss_val.append(aloss)\n",
        "    print('\\nAverage test loss: ' + '{:.4f}'.format(aloss) +\n",
        "          '  Accuracy:' + '{:5}'.format(csamp) + '/' +\n",
        "          '{:5}'.format(samples) + ' (' +\n",
        "          '{:4.2f}'.format(100.0 * csamp / samples) + '%)\\n')"
      ]
    },
    {
      "cell_type": "markdown",
      "metadata": {
        "id": "1NTIgedif8w9"
      },
      "source": [
        "#Train Model ครั้งแรก (เฉพาะอันที่ใช้)"
      ]
    },
    {
      "cell_type": "markdown",
      "metadata": {
        "id": "kC0PBaD2svJr"
      },
      "source": [
        "##Load model (ใช้ Checkpoint)"
      ]
    },
    {
      "cell_type": "markdown",
      "metadata": {
        "id": "USAxQblmUS6U"
      },
      "source": [
        "### Movinet with Stream Buffer (ไม่ใช้)\n"
      ]
    },
    {
      "cell_type": "code",
      "execution_count": null,
      "metadata": {
        "colab": {
          "base_uri": "https://localhost:8080/"
        },
        "id": "li0WtIYWKHEg",
        "outputId": "c0a3a07d-57a4-4562-d6ad-533828f273e0"
      },
      "outputs": [
        {
          "name": "stderr",
          "output_type": "stream",
          "text": [
            "Downloading: \"https://github.com/Atze00/MoViNet-pytorch/blob/main/weights/modelA0_stream_statedict_v3?raw=true\" to /root/.cache/torch/hub/checkpoints/modelA0_stream_statedict_v3\n",
            "100%|██████████| 14.5M/14.5M [00:00<00:00, 251MB/s]\n"
          ]
        },
        {
          "name": "stdout",
          "output_type": "stream",
          "text": [
            "Epoch: 1\n"
          ]
        },
        {
          "name": "stderr",
          "output_type": "stream",
          "text": [
            "/usr/local/lib/python3.10/dist-packages/torchvision/io/video.py:161: UserWarning: The pts_unit 'pts' gives wrong results. Please use pts_unit 'sec'.\n",
            "  warnings.warn(\"The pts_unit 'pts' gives wrong results. Please use pts_unit 'sec'.\")\n"
          ]
        },
        {
          "name": "stdout",
          "output_type": "stream",
          "text": [
            "[    0/  704 (  0%)]  Loss: 1.4174\n",
            "[   50/  704 (  7%)]  Loss: 1.5107\n",
            "[  100/  704 ( 14%)]  Loss: 1.4535\n",
            "[  150/  704 ( 21%)]  Loss: 1.2726\n",
            "[  200/  704 ( 28%)]  Loss: 1.5484\n",
            "[  250/  704 ( 36%)]  Loss: 0.9403\n",
            "[  300/  704 ( 43%)]  Loss: 1.1122\n",
            "[  350/  704 ( 50%)]  Loss: 1.4510\n",
            "[  400/  704 ( 57%)]  Loss: 1.5566\n",
            "[  450/  704 ( 64%)]  Loss: 0.7315\n",
            "[  500/  704 ( 71%)]  Loss: 0.5535\n",
            "[  550/  704 ( 78%)]  Loss: 1.6108\n",
            "[  600/  704 ( 85%)]  Loss: 1.0401\n",
            "[  650/  704 ( 92%)]  Loss: 1.5362\n",
            "[  700/  704 ( 99%)]  Loss: 1.0641\n",
            "\n",
            "Average test loss: 1.1245  Accuracy:  159/  392 (40.56%)\n",
            "\n",
            "Execution time: 862.66 seconds\n"
          ]
        }
      ],
      "source": [
        "N_EPOCHS = 1\n",
        "\n",
        "model_BF_8= MoViNet(_C.MODEL.MoViNetA0, causal = True, pretrained = True )\n",
        "start_time = time.time()\n",
        "\n",
        "trloss_val, tsloss_val = [], []\n",
        "model_BF_8.classifier[3] = torch.nn.Conv3d(2048, 8, (1,1,1))\n",
        "optimz = optim.Adam(model_BF_8.parameters(), lr=0.00005)\n",
        "for epoch in range(1, N_EPOCHS + 1):\n",
        "    print('Epoch:', epoch)\n",
        "    train_iter_stream(model_BF_8, optimz, train_loader, trloss_val)\n",
        "    evaluate_stream(model_BF_8, test_loader, tsloss_val)\n",
        "\n",
        "print('Execution time:', '{:5.2f}'.format(time.time() - start_time), 'seconds')"
      ]
    },
    {
      "cell_type": "code",
      "execution_count": null,
      "metadata": {
        "id": "khmwbIAjTHqx"
      },
      "outputs": [],
      "source": [
        "# Save and load only the model state dictionary (parameters)\n",
        "torch.save(model_BF.state_dict(), 'movinet_BF_40%_state_dict.pth')\n"
      ]
    },
    {
      "cell_type": "markdown",
      "metadata": {
        "id": "n_uO5JRvVKrW"
      },
      "source": [
        "###Movinet with  No stream (ไม่ใช้)"
      ]
    },
    {
      "cell_type": "code",
      "execution_count": null,
      "metadata": {
        "id": "OasE22NachbA"
      },
      "outputs": [],
      "source": [
        "N_EPOCHS = 5\n",
        "\n",
        "model = MoViNet(_C.MODEL.MoViNetA0, causal = False, pretrained = True )\n",
        "start_time = time.time()\n",
        "\n",
        "trloss_val, tsloss_val = [], []\n",
        "model.classifier[3] = torch.nn.Conv3d(2048, 8, (1,1,1))\n",
        "optimz = optim.Adam(model.parameters(), lr=0.00005)\n",
        "for epoch in range(1, N_EPOCHS + 1):\n",
        "    print('Epoch:', epoch)\n",
        "    train_iter(model, optimz, train_loader, trloss_val)\n",
        "    #evaluate(model_NoBF_8_2, test_loader, tsloss_val)\n",
        "\n",
        "print('Execution time:', '{:5.2f}'.format(time.time() - start_time), 'seconds')\n",
        "\n",
        "# Save and load only the model state dictionary (parameters)\n",
        "torch.save(model.state_dict(), 'model_8class_yoru_Newest.pth')"
      ]
    },
    {
      "cell_type": "markdown",
      "metadata": {
        "id": "REF8jRA4UQf1"
      },
      "source": [
        "###Movinet with  No stream Buffer Checkpoint (ใช้อันนี้เทรน) A0\n"
      ]
    },
    {
      "cell_type": "code",
      "execution_count": null,
      "metadata": {
        "id": "b5pNo3v9Pp4D"
      },
      "outputs": [],
      "source": [
        "N_EPOCHS = 1\n",
        "# สร้างโมเดล MoViNet\n",
        "model = MoViNet(_C.MODEL.MoViNetA0, causal=False, pretrained=True)\n",
        "start_time = time.time()\n",
        "\n",
        "# เตรียม list เพื่อเก็บค่า loss ของการฝึกอบรม\n",
        "trloss_val, tsloss_val = [], []\n",
        "\n",
        "# ปรับแต่งชั้น classifier ของโมเดล\n",
        "model.classifier[3] = torch.nn.Conv3d(2048, 8, (1, 1, 1))\n",
        "\n",
        "# กำหนด optimizer\n",
        "optimizer = optim.Adam(model.parameters(), lr=0.00005)\n",
        "\n",
        "# วน loop ตามจำนวน epoch ที่กำหนด\n",
        "for epoch in range(1, N_EPOCHS + 1):\n",
        "    print('Epoch:', epoch)\n",
        "\n",
        "    # ทำการฝึกอบรมและบันทึกค่า loss\n",
        "    loss = train_iter(model, optimizer, train_loader, trloss_val)\n",
        "\n",
        "    # บันทึก checkpoint\n",
        "    checkpoint_path = 'checkpoint_epoch{}.pth'.format(epoch)\n",
        "    torch.save({\n",
        "        'epoch': epoch,\n",
        "        'model_state_dict': model.state_dict(),\n",
        "        'optimizer_state_dict': optimizer.state_dict(),\n",
        "        'loss': loss,\n",
        "    }, checkpoint_path)\n",
        "\n",
        "    # บันทึกโมเดลสุดท้าย\n",
        "    if epoch == N_EPOCHS:\n",
        "        torch.save(model.state_dict(), 'model8class_yoru_Checkpoint.pth')\n",
        "\n",
        "print('Training Execution time:', '{:5.2f}'.format(time.time() - start_time), 'seconds')\n"
      ]
    },
    {
      "cell_type": "markdown",
      "metadata": {
        "id": "kE9s9Cmu7Wu0"
      },
      "source": [
        "###Movinet with  No stream Buffer Checkpoint (ใช้อันนี้เทรน) A1\n"
      ]
    },
    {
      "cell_type": "code",
      "execution_count": null,
      "metadata": {
        "colab": {
          "base_uri": "https://localhost:8080/"
        },
        "id": "6k0b0q017ZOQ",
        "outputId": "6d042252-267e-4992-de42-d7bffe0d7b12"
      },
      "outputs": [
        {
          "name": "stderr",
          "output_type": "stream",
          "text": [
            "Downloading: \"https://github.com/Atze00/MoViNet-pytorch/blob/main/weights/modelA1_statedict_v3?raw=true\" to /root/.cache/torch/hub/checkpoints/modelA1_statedict_v3\n",
            "100%|██████████| 18.2M/18.2M [00:00<00:00, 155MB/s]\n",
            "/usr/local/lib/python3.10/dist-packages/torchvision/io/video.py:161: UserWarning: The pts_unit 'pts' gives wrong results. Please use pts_unit 'sec'.\n",
            "  warnings.warn(\"The pts_unit 'pts' gives wrong results. Please use pts_unit 'sec'.\")\n"
          ]
        },
        {
          "name": "stdout",
          "output_type": "stream",
          "text": [
            "Epoch: 1\n",
            "[    0/ 1718 (  0%)]  Loss: 2.0816\n",
            "[   50/ 1718 (  3%)]  Loss: 2.0880\n",
            "[  100/ 1718 (  6%)]  Loss: 2.0317\n",
            "[  150/ 1718 (  9%)]  Loss: 2.0389\n",
            "[  200/ 1718 ( 12%)]  Loss: 1.9514\n",
            "[  250/ 1718 ( 15%)]  Loss: 2.0874\n",
            "[  300/ 1718 ( 17%)]  Loss: 2.1217\n",
            "[  350/ 1718 ( 20%)]  Loss: 2.1811\n",
            "[  400/ 1718 ( 23%)]  Loss: 1.9388\n",
            "[  450/ 1718 ( 26%)]  Loss: 1.8508\n",
            "[  500/ 1718 ( 29%)]  Loss: 2.0451\n",
            "[  550/ 1718 ( 32%)]  Loss: 1.8651\n",
            "[  600/ 1718 ( 35%)]  Loss: 1.7860\n",
            "[  650/ 1718 ( 38%)]  Loss: 1.8495\n",
            "[  700/ 1718 ( 41%)]  Loss: 1.3133\n",
            "[  750/ 1718 ( 44%)]  Loss: 1.7302\n",
            "[  800/ 1718 ( 47%)]  Loss: 1.6703\n",
            "[  850/ 1718 ( 49%)]  Loss: 0.6168\n",
            "[  900/ 1718 ( 52%)]  Loss: 0.8391\n",
            "[  950/ 1718 ( 55%)]  Loss: 0.3196\n",
            "[ 1000/ 1718 ( 58%)]  Loss: 1.4322\n",
            "[ 1050/ 1718 ( 61%)]  Loss: 1.0212\n",
            "[ 1100/ 1718 ( 64%)]  Loss: 1.9871\n",
            "[ 1150/ 1718 ( 67%)]  Loss: 1.0519\n",
            "[ 1200/ 1718 ( 70%)]  Loss: 0.1257\n",
            "[ 1250/ 1718 ( 73%)]  Loss: 0.1403\n",
            "[ 1300/ 1718 ( 76%)]  Loss: 0.8502\n",
            "[ 1350/ 1718 ( 79%)]  Loss: 0.5893\n",
            "[ 1400/ 1718 ( 81%)]  Loss: 4.4638\n",
            "[ 1450/ 1718 ( 84%)]  Loss: 0.1402\n",
            "[ 1500/ 1718 ( 87%)]  Loss: 0.4534\n",
            "[ 1550/ 1718 ( 90%)]  Loss: 0.6673\n",
            "[ 1600/ 1718 ( 93%)]  Loss: 0.3352\n",
            "[ 1650/ 1718 ( 96%)]  Loss: 0.6237\n",
            "[ 1700/ 1718 ( 99%)]  Loss: 3.7467\n",
            "Epoch: 2\n",
            "[    0/ 1718 (  0%)]  Loss: 0.1559\n",
            "[   50/ 1718 (  3%)]  Loss: 0.0483\n",
            "[  100/ 1718 (  6%)]  Loss: 0.3991\n",
            "[  150/ 1718 (  9%)]  Loss: 0.2409\n",
            "[  200/ 1718 ( 12%)]  Loss: 0.2166\n",
            "[  250/ 1718 ( 15%)]  Loss: 0.3576\n",
            "[  300/ 1718 ( 17%)]  Loss: 0.6866\n",
            "[  350/ 1718 ( 20%)]  Loss: 0.0784\n",
            "[  400/ 1718 ( 23%)]  Loss: 0.1370\n",
            "[  450/ 1718 ( 26%)]  Loss: 0.0262\n",
            "[  500/ 1718 ( 29%)]  Loss: 0.0831\n",
            "[  550/ 1718 ( 32%)]  Loss: 0.0241\n",
            "[  600/ 1718 ( 35%)]  Loss: 0.0804\n",
            "[  650/ 1718 ( 38%)]  Loss: 0.1704\n",
            "[  700/ 1718 ( 41%)]  Loss: 0.0401\n",
            "[  750/ 1718 ( 44%)]  Loss: 0.1308\n",
            "[  800/ 1718 ( 47%)]  Loss: 0.0656\n",
            "[  850/ 1718 ( 49%)]  Loss: 0.0287\n",
            "[  900/ 1718 ( 52%)]  Loss: 0.1507\n",
            "[  950/ 1718 ( 55%)]  Loss: 0.1720\n",
            "[ 1000/ 1718 ( 58%)]  Loss: 0.0325\n",
            "[ 1050/ 1718 ( 61%)]  Loss: 0.8158\n",
            "[ 1100/ 1718 ( 64%)]  Loss: 0.0600\n",
            "[ 1150/ 1718 ( 67%)]  Loss: 0.0057\n",
            "[ 1200/ 1718 ( 70%)]  Loss: 0.0730\n",
            "[ 1250/ 1718 ( 73%)]  Loss: 0.0205\n",
            "[ 1300/ 1718 ( 76%)]  Loss: 0.0507\n",
            "[ 1350/ 1718 ( 79%)]  Loss: 0.0485\n",
            "[ 1400/ 1718 ( 81%)]  Loss: 0.0817\n",
            "[ 1450/ 1718 ( 84%)]  Loss: 0.0024\n",
            "[ 1500/ 1718 ( 87%)]  Loss: 0.0365\n",
            "[ 1550/ 1718 ( 90%)]  Loss: 0.3238\n",
            "[ 1600/ 1718 ( 93%)]  Loss: 0.0319\n",
            "[ 1650/ 1718 ( 96%)]  Loss: 0.3006\n",
            "[ 1700/ 1718 ( 99%)]  Loss: 0.0127\n",
            "Epoch: 3\n",
            "[    0/ 1718 (  0%)]  Loss: 0.1407\n",
            "[   50/ 1718 (  3%)]  Loss: 0.0851\n",
            "[  100/ 1718 (  6%)]  Loss: 0.5673\n",
            "[  150/ 1718 (  9%)]  Loss: 1.0307\n",
            "[  200/ 1718 ( 12%)]  Loss: 0.0033\n",
            "[  250/ 1718 ( 15%)]  Loss: 0.0738\n",
            "[  300/ 1718 ( 17%)]  Loss: 0.0519\n",
            "[  350/ 1718 ( 20%)]  Loss: 0.0073\n",
            "[  400/ 1718 ( 23%)]  Loss: 0.1685\n",
            "[  450/ 1718 ( 26%)]  Loss: 0.0020\n",
            "[  500/ 1718 ( 29%)]  Loss: 0.0219\n",
            "[  550/ 1718 ( 32%)]  Loss: 0.0285\n",
            "[  600/ 1718 ( 35%)]  Loss: 0.0089\n",
            "[  650/ 1718 ( 38%)]  Loss: 0.0680\n",
            "[  700/ 1718 ( 41%)]  Loss: 0.0009\n",
            "[  750/ 1718 ( 44%)]  Loss: 0.0126\n",
            "[  800/ 1718 ( 47%)]  Loss: 0.2033\n",
            "[  850/ 1718 ( 49%)]  Loss: 0.0108\n",
            "[  900/ 1718 ( 52%)]  Loss: 0.0031\n",
            "[  950/ 1718 ( 55%)]  Loss: 0.0053\n",
            "[ 1000/ 1718 ( 58%)]  Loss: 0.0486\n",
            "[ 1050/ 1718 ( 61%)]  Loss: 0.5201\n",
            "[ 1100/ 1718 ( 64%)]  Loss: 0.0003\n",
            "[ 1150/ 1718 ( 67%)]  Loss: 0.0963\n",
            "[ 1200/ 1718 ( 70%)]  Loss: 0.2112\n",
            "[ 1250/ 1718 ( 73%)]  Loss: 0.1452\n",
            "[ 1300/ 1718 ( 76%)]  Loss: 0.2598\n",
            "[ 1350/ 1718 ( 79%)]  Loss: 0.0162\n",
            "[ 1400/ 1718 ( 81%)]  Loss: 0.0014\n",
            "[ 1450/ 1718 ( 84%)]  Loss: 0.0442\n",
            "[ 1500/ 1718 ( 87%)]  Loss: 0.0045\n",
            "[ 1550/ 1718 ( 90%)]  Loss: 0.0577\n",
            "[ 1600/ 1718 ( 93%)]  Loss: 0.0116\n",
            "[ 1650/ 1718 ( 96%)]  Loss: 0.0019\n",
            "[ 1700/ 1718 ( 99%)]  Loss: 0.0205\n",
            "Epoch: 4\n",
            "[    0/ 1718 (  0%)]  Loss: 0.0067\n",
            "[   50/ 1718 (  3%)]  Loss: 0.0213\n",
            "[  100/ 1718 (  6%)]  Loss: 0.0095\n",
            "[  150/ 1718 (  9%)]  Loss: 0.0658\n",
            "[  200/ 1718 ( 12%)]  Loss: 0.0019\n",
            "[  250/ 1718 ( 15%)]  Loss: 0.0071\n",
            "[  300/ 1718 ( 17%)]  Loss: 0.0209\n",
            "[  350/ 1718 ( 20%)]  Loss: 0.0812\n",
            "[  400/ 1718 ( 23%)]  Loss: 0.0017\n",
            "[  450/ 1718 ( 26%)]  Loss: 0.0007\n",
            "[  500/ 1718 ( 29%)]  Loss: 0.0168\n",
            "[  550/ 1718 ( 32%)]  Loss: 0.0007\n",
            "[  600/ 1718 ( 35%)]  Loss: 0.0246\n",
            "[  650/ 1718 ( 38%)]  Loss: 0.0383\n",
            "[  700/ 1718 ( 41%)]  Loss: 0.0021\n",
            "[  750/ 1718 ( 44%)]  Loss: 0.3055\n",
            "[  800/ 1718 ( 47%)]  Loss: 0.0003\n",
            "[  850/ 1718 ( 49%)]  Loss: 0.1078\n",
            "[  900/ 1718 ( 52%)]  Loss: 0.0067\n",
            "[  950/ 1718 ( 55%)]  Loss: 0.0017\n",
            "[ 1000/ 1718 ( 58%)]  Loss: 0.0034\n",
            "[ 1050/ 1718 ( 61%)]  Loss: 0.0014\n",
            "[ 1100/ 1718 ( 64%)]  Loss: 0.0246\n",
            "[ 1150/ 1718 ( 67%)]  Loss: 0.0015\n",
            "[ 1200/ 1718 ( 70%)]  Loss: 0.0016\n",
            "[ 1250/ 1718 ( 73%)]  Loss: 0.0013\n",
            "[ 1300/ 1718 ( 76%)]  Loss: 0.0003\n",
            "[ 1350/ 1718 ( 79%)]  Loss: 0.0010\n",
            "[ 1400/ 1718 ( 81%)]  Loss: 0.0006\n",
            "[ 1450/ 1718 ( 84%)]  Loss: 0.0004\n",
            "[ 1500/ 1718 ( 87%)]  Loss: 0.0007\n",
            "[ 1550/ 1718 ( 90%)]  Loss: 0.0052\n",
            "[ 1600/ 1718 ( 93%)]  Loss: 0.0316\n",
            "[ 1650/ 1718 ( 96%)]  Loss: 0.0012\n",
            "[ 1700/ 1718 ( 99%)]  Loss: 0.0178\n",
            "Epoch: 5\n",
            "[    0/ 1718 (  0%)]  Loss: 0.0008\n",
            "[   50/ 1718 (  3%)]  Loss: 0.0118\n",
            "[  100/ 1718 (  6%)]  Loss: 1.0838\n",
            "[  150/ 1718 (  9%)]  Loss: 0.0090\n",
            "[  200/ 1718 ( 12%)]  Loss: 0.0113\n",
            "[  250/ 1718 ( 15%)]  Loss: 0.0147\n",
            "[  300/ 1718 ( 17%)]  Loss: 0.0011\n",
            "[  350/ 1718 ( 20%)]  Loss: 0.0027\n",
            "[  400/ 1718 ( 23%)]  Loss: 0.0001\n",
            "[  450/ 1718 ( 26%)]  Loss: 0.0004\n",
            "[  500/ 1718 ( 29%)]  Loss: 0.0012\n",
            "[  550/ 1718 ( 32%)]  Loss: 0.0071\n",
            "[  600/ 1718 ( 35%)]  Loss: 0.0096\n",
            "[  650/ 1718 ( 38%)]  Loss: 0.0275\n",
            "[  700/ 1718 ( 41%)]  Loss: 0.0001\n",
            "[  750/ 1718 ( 44%)]  Loss: 0.0011\n",
            "[  800/ 1718 ( 47%)]  Loss: 0.0651\n",
            "[  850/ 1718 ( 49%)]  Loss: 0.0005\n",
            "[  900/ 1718 ( 52%)]  Loss: 0.0001\n",
            "[  950/ 1718 ( 55%)]  Loss: 0.0114\n",
            "[ 1000/ 1718 ( 58%)]  Loss: 0.0008\n",
            "[ 1050/ 1718 ( 61%)]  Loss: 0.0005\n",
            "[ 1100/ 1718 ( 64%)]  Loss: 0.0076\n",
            "[ 1150/ 1718 ( 67%)]  Loss: 0.0033\n",
            "[ 1200/ 1718 ( 70%)]  Loss: 0.0002\n",
            "[ 1250/ 1718 ( 73%)]  Loss: 0.0002\n",
            "[ 1300/ 1718 ( 76%)]  Loss: 0.0004\n",
            "[ 1350/ 1718 ( 79%)]  Loss: 0.0005\n",
            "[ 1400/ 1718 ( 81%)]  Loss: 0.0000\n",
            "[ 1450/ 1718 ( 84%)]  Loss: 0.0004\n",
            "[ 1500/ 1718 ( 87%)]  Loss: 0.0001\n",
            "[ 1550/ 1718 ( 90%)]  Loss: 0.0025\n",
            "[ 1600/ 1718 ( 93%)]  Loss: 0.0009\n",
            "[ 1650/ 1718 ( 96%)]  Loss: 0.0091\n",
            "[ 1700/ 1718 ( 99%)]  Loss: 1.9787\n",
            "Epoch: 6\n",
            "[    0/ 1718 (  0%)]  Loss: 0.0006\n",
            "[   50/ 1718 (  3%)]  Loss: 0.0011\n",
            "[  100/ 1718 (  6%)]  Loss: 0.0020\n",
            "[  150/ 1718 (  9%)]  Loss: 0.0231\n",
            "[  200/ 1718 ( 12%)]  Loss: 0.0034\n",
            "[  250/ 1718 ( 15%)]  Loss: 0.0009\n",
            "[  300/ 1718 ( 17%)]  Loss: 0.0013\n",
            "[  350/ 1718 ( 20%)]  Loss: 0.0002\n",
            "[  400/ 1718 ( 23%)]  Loss: 0.0001\n",
            "[  450/ 1718 ( 26%)]  Loss: 0.0001\n",
            "[  500/ 1718 ( 29%)]  Loss: 0.0014\n",
            "[  550/ 1718 ( 32%)]  Loss: 0.0001\n",
            "[  600/ 1718 ( 35%)]  Loss: 0.4492\n",
            "[  650/ 1718 ( 38%)]  Loss: 0.0066\n",
            "[  700/ 1718 ( 41%)]  Loss: 0.0012\n",
            "[  750/ 1718 ( 44%)]  Loss: 0.0001\n",
            "[  800/ 1718 ( 47%)]  Loss: 0.0182\n",
            "[  850/ 1718 ( 49%)]  Loss: 0.0064\n",
            "[  900/ 1718 ( 52%)]  Loss: 0.0059\n",
            "[  950/ 1718 ( 55%)]  Loss: 0.0009\n",
            "[ 1000/ 1718 ( 58%)]  Loss: 0.0001\n",
            "[ 1050/ 1718 ( 61%)]  Loss: 0.0002\n",
            "[ 1100/ 1718 ( 64%)]  Loss: 0.0260\n",
            "[ 1150/ 1718 ( 67%)]  Loss: 0.0000\n",
            "[ 1200/ 1718 ( 70%)]  Loss: 0.0000\n",
            "[ 1250/ 1718 ( 73%)]  Loss: 0.0001\n",
            "[ 1300/ 1718 ( 76%)]  Loss: 0.0004\n",
            "[ 1350/ 1718 ( 79%)]  Loss: 0.0002\n",
            "[ 1400/ 1718 ( 81%)]  Loss: 0.0000\n",
            "[ 1450/ 1718 ( 84%)]  Loss: 0.0008\n",
            "[ 1500/ 1718 ( 87%)]  Loss: 0.0023\n",
            "[ 1550/ 1718 ( 90%)]  Loss: 0.0002\n",
            "[ 1600/ 1718 ( 93%)]  Loss: 0.0003\n",
            "[ 1650/ 1718 ( 96%)]  Loss: 0.0001\n",
            "[ 1700/ 1718 ( 99%)]  Loss: 0.0001\n",
            "Training Execution time: 4977.76 seconds\n"
          ]
        }
      ],
      "source": [
        "N_EPOCHS = 6\n",
        "# สร้างโมเดล MoViNet\n",
        "model = MoViNet(_C.MODEL.MoViNetA1, causal=False, pretrained=True)\n",
        "start_time = time.time()\n",
        "\n",
        "# เตรียม list เพื่อเก็บค่า loss ของการฝึกอบรม\n",
        "trloss_val, tsloss_val = [], []\n",
        "\n",
        "# ปรับแต่งชั้น classifier ของโมเดล\n",
        "model.classifier[3] = torch.nn.Conv3d(2048, 8, (1, 1, 1))\n",
        "\n",
        "# กำหนด optimizer\n",
        "optimizer = optim.Adam(model.parameters(), lr=0.00005)\n",
        "\n",
        "# วน loop ตามจำนวน epoch ที่กำหนด\n",
        "for epoch in range(1, N_EPOCHS + 1):\n",
        "    print('Epoch:', epoch)\n",
        "\n",
        "    # ทำการฝึกอบรมและบันทึกค่า loss\n",
        "    loss = train_iter(model, optimizer, train_loader_A1, trloss_val)\n",
        "\n",
        "    # บันทึก checkpoint\n",
        "    checkpoint_path = 'A1_checkpoint_epoch_Round1{}.pth'.format(epoch)\n",
        "    torch.save({\n",
        "        'epoch': epoch,\n",
        "        'model_state_dict': model.state_dict(),\n",
        "        'optimizer_state_dict': optimizer.state_dict(),\n",
        "        'loss': loss,\n",
        "    }, checkpoint_path)\n",
        "\n",
        "    # บันทึกโมเดลสุดท้าย\n",
        "    if epoch == N_EPOCHS:\n",
        "        torch.save(model.state_dict(), 'A1_8class_yoru_Checkpoint_round1.pth')\n",
        "\n",
        "print('Training Execution time:', '{:5.2f}'.format(time.time() - start_time), 'seconds')\n"
      ]
    },
    {
      "cell_type": "code",
      "execution_count": null,
      "metadata": {
        "id": "ZCybOiPO7x8e"
      },
      "outputs": [],
      "source": [
        "import torch\n",
        "from torch.utils.data import DataLoader\n",
        "from sklearn.metrics import confusion_matrix\n",
        "import seaborn as sns\n",
        "import matplotlib.pyplot as plt\n",
        "import numpy as np\n",
        "from sklearn.metrics import confusion_matrix\n",
        "from sklearn.metrics import confusion_matrix, classification_report\n",
        "import matplotlib.pyplot as plt\n",
        "from prettytable import PrettyTable"
      ]
    },
    {
      "cell_type": "code",
      "execution_count": null,
      "metadata": {
        "colab": {
          "base_uri": "https://localhost:8080/",
          "height": 472
        },
        "id": "U7UsuHXc7zP0",
        "outputId": "90c024a1-c3d7-463f-fbb5-8504cb0ad957"
      },
      "outputs": [
        {
          "data": {
            "image/png": "[encoded data removed]",
            "text/plain": [
              "<Figure size 640x480 with 1 Axes>"
            ]
          },
          "metadata": {},
          "output_type": "display_data"
        }
      ],
      "source": [
        "N_EPOCHS = len(trloss_val)\n",
        "\n",
        "# Plotting the training loss\n",
        "plt.plot(range(1, N_EPOCHS + 1), trloss_val, label='Training Loss')\n",
        "\n",
        "# Adding labels and title\n",
        "plt.xlabel('Epoch')\n",
        "plt.ylabel('Loss')\n",
        "plt.title('Training Loss Over Epochs')\n",
        "\n",
        "# Adding a legend\n",
        "plt.legend()\n",
        "\n",
        "# Display the plot\n",
        "plt.show()\n"
      ]
    },
    {
      "cell_type": "markdown",
      "metadata": {
        "id": "DKIU9Xkvajnr"
      },
      "source": [
        "###Movinet with  No stream Buffer Checkpoint (ใช้อันนี้เทรน) A2\n"
      ]
    },
    {
      "cell_type": "code",
      "execution_count": null,
      "metadata": {
        "id": "gapFbYbmaiSO"
      },
      "outputs": [],
      "source": [
        "N_EPOCHS = 6\n",
        "# สร้างโมเดล MoViNet\n",
        "model_A2 = MoViNet(_C.MODEL.MoViNetA2, causal=False, pretrained=True)\n",
        "start_time = time.time()\n",
        "\n",
        "# เตรียม list เพื่อเก็บค่า loss ของการฝึกอบรม\n",
        "trloss_val, tsloss_val = [], []\n",
        "\n",
        "# ปรับแต่งชั้น classifier ของโมเดล\n",
        "model_A2.classifier[3] = torch.nn.Conv3d(2048, 8, (1, 1, 1))\n",
        "\n",
        "# กำหนด optimizer\n",
        "optimizer = optim.Adam(model_A2.parameters(), lr=0.00005)\n",
        "\n",
        "# วน loop ตามจำนวน epoch ที่กำหนด\n",
        "for epoch in range(1, N_EPOCHS + 1):\n",
        "    print('Epoch:', epoch)\n",
        "\n",
        "    # ทำการฝึกอบรมและบันทึกค่า loss\n",
        "    loss = train_iter(model_A2, optimizer, train_loader_A2, trloss_val)\n",
        "\n",
        "    # บันทึก checkpoint\n",
        "    checkpoint_path = 'A2_checkpoint_epoch_round1{}.pth'.format(epoch)\n",
        "    torch.save({\n",
        "        'epoch': epoch,\n",
        "        'model_state_dict': model_A2.state_dict(),\n",
        "        'optimizer_state_dict': optimizer.state_dict(),\n",
        "        'loss': loss,\n",
        "    }, checkpoint_path)\n",
        "\n",
        "    # บันทึกโมเดลสุดท้าย\n",
        "    if epoch == N_EPOCHS:\n",
        "        torch.save(model_A2.state_dict(), 'A2_8class_yoru_Checkpoint_round1.pth')\n",
        "\n",
        "print('Training Execution time:', '{:5.2f}'.format(time.time() - start_time), 'seconds')\n"
      ]
    },
    {
      "cell_type": "code",
      "execution_count": null,
      "metadata": {
        "id": "sN59W0E3Z9O0"
      },
      "outputs": [],
      "source": [
        "import torch\n",
        "from torch.utils.data import DataLoader\n",
        "from sklearn.metrics import confusion_matrix\n",
        "import seaborn as sns\n",
        "import matplotlib.pyplot as plt\n",
        "import numpy as np\n",
        "from sklearn.metrics import confusion_matrix\n",
        "from sklearn.metrics import confusion_matrix, classification_report\n",
        "import matplotlib.pyplot as plt\n",
        "from prettytable import PrettyTable"
      ]
    },
    {
      "cell_type": "code",
      "execution_count": null,
      "metadata": {
        "colab": {
          "base_uri": "https://localhost:8080/",
          "height": 472
        },
        "id": "Xk1JqwBRfna6",
        "outputId": "7849c093-2578-41e6-aadf-25144ce208ec"
      },
      "outputs": [
        {
          "data": {
            "image/png": "[encoded data removed]",
            "text/plain": [
              "<Figure size 640x480 with 1 Axes>"
            ]
          },
          "metadata": {},
          "output_type": "display_data"
        }
      ],
      "source": [
        "N_EPOCHS = len(trloss_val)\n",
        "\n",
        "# Plotting the training loss\n",
        "plt.plot(range(1, N_EPOCHS + 1), trloss_val, label='Training Loss')\n",
        "\n",
        "# Adding labels and title\n",
        "plt.xlabel('Epoch')\n",
        "plt.ylabel('Loss')\n",
        "plt.title('Training Loss Over Epochs')\n",
        "\n",
        "# Adding a legend\n",
        "plt.legend()\n",
        "\n",
        "# Display the plot\n",
        "plt.show()\n"
      ]
    },
    {
      "cell_type": "markdown",
      "metadata": {
        "id": "LzmvWZDDQ8hm"
      },
      "source": [
        "###Movinet with  No stream Buffer Checkpoint (ใช้อันนี้เทรน) A3\n"
      ]
    },
    {
      "cell_type": "code",
      "execution_count": null,
      "metadata": {
        "colab": {
          "base_uri": "https://localhost:8080/"
        },
        "id": "p_9UBS-yRAlH",
        "outputId": "539e402f-bf0b-460a-93e5-1016b2cabf6b"
      },
      "outputs": [
        {
          "name": "stderr",
          "output_type": "stream",
          "text": [
            "Downloading: \"https://github.com/Atze00/MoViNet-pytorch/blob/main/weights/modelA3_statedict_v3?raw=true\" to /root/.cache/torch/hub/checkpoints/modelA3_statedict_v3\n",
            "100%|██████████| 28.7M/28.7M [00:00<00:00, 388MB/s]\n"
          ]
        },
        {
          "name": "stdout",
          "output_type": "stream",
          "text": [
            "Epoch: 1\n"
          ]
        },
        {
          "name": "stderr",
          "output_type": "stream",
          "text": [
            "/usr/local/lib/python3.10/dist-packages/torchvision/io/video.py:161: UserWarning: The pts_unit 'pts' gives wrong results. Please use pts_unit 'sec'.\n",
            "  warnings.warn(\"The pts_unit 'pts' gives wrong results. Please use pts_unit 'sec'.\")\n"
          ]
        },
        {
          "name": "stdout",
          "output_type": "stream",
          "text": [
            "[    0/ 1718 (  0%)]  Loss: 2.0792\n",
            "[   50/ 1718 (  3%)]  Loss: 2.0960\n",
            "[  100/ 1718 (  6%)]  Loss: 2.0632\n",
            "[  150/ 1718 (  9%)]  Loss: 2.0685\n",
            "[  200/ 1718 ( 12%)]  Loss: 2.0630\n",
            "[  250/ 1718 ( 15%)]  Loss: 2.1065\n",
            "[  300/ 1718 ( 17%)]  Loss: 1.8782\n",
            "[  350/ 1718 ( 20%)]  Loss: 1.9915\n",
            "[  400/ 1718 ( 23%)]  Loss: 1.9917\n",
            "[  450/ 1718 ( 26%)]  Loss: 1.8629\n",
            "[  500/ 1718 ( 29%)]  Loss: 1.4838\n",
            "[  550/ 1718 ( 32%)]  Loss: 1.4850\n",
            "[  600/ 1718 ( 35%)]  Loss: 1.5666\n",
            "[  650/ 1718 ( 38%)]  Loss: 0.5329\n",
            "[  700/ 1718 ( 41%)]  Loss: 0.9394\n",
            "[  750/ 1718 ( 44%)]  Loss: 1.1080\n",
            "[  800/ 1718 ( 47%)]  Loss: 0.4560\n",
            "[  850/ 1718 ( 49%)]  Loss: 0.8025\n",
            "[  900/ 1718 ( 52%)]  Loss: 1.4995\n",
            "[  950/ 1718 ( 55%)]  Loss: 0.4312\n",
            "[ 1000/ 1718 ( 58%)]  Loss: 0.3792\n",
            "[ 1050/ 1718 ( 61%)]  Loss: 1.0326\n",
            "[ 1100/ 1718 ( 64%)]  Loss: 0.0961\n",
            "[ 1150/ 1718 ( 67%)]  Loss: 0.1326\n",
            "[ 1200/ 1718 ( 70%)]  Loss: 0.0865\n",
            "[ 1250/ 1718 ( 73%)]  Loss: 0.1471\n",
            "[ 1300/ 1718 ( 76%)]  Loss: 0.0647\n",
            "[ 1350/ 1718 ( 79%)]  Loss: 0.0644\n",
            "[ 1400/ 1718 ( 81%)]  Loss: 0.0170\n",
            "[ 1450/ 1718 ( 84%)]  Loss: 1.2364\n",
            "[ 1500/ 1718 ( 87%)]  Loss: 6.6100\n",
            "[ 1550/ 1718 ( 90%)]  Loss: 0.1412\n",
            "[ 1600/ 1718 ( 93%)]  Loss: 0.8061\n",
            "[ 1650/ 1718 ( 96%)]  Loss: 0.0281\n",
            "[ 1700/ 1718 ( 99%)]  Loss: 0.2025\n",
            "Epoch: 2\n",
            "[    0/ 1718 (  0%)]  Loss: 0.0155\n",
            "[   50/ 1718 (  3%)]  Loss: 0.0080\n",
            "[  100/ 1718 (  6%)]  Loss: 0.2864\n",
            "[  150/ 1718 (  9%)]  Loss: 0.0545\n",
            "[  200/ 1718 ( 12%)]  Loss: 0.1539\n",
            "[  250/ 1718 ( 15%)]  Loss: 0.0549\n",
            "[  300/ 1718 ( 17%)]  Loss: 0.5774\n",
            "[  350/ 1718 ( 20%)]  Loss: 0.1456\n",
            "[  400/ 1718 ( 23%)]  Loss: 0.7542\n",
            "[  450/ 1718 ( 26%)]  Loss: 0.0148\n",
            "[  500/ 1718 ( 29%)]  Loss: 0.2042\n",
            "[  550/ 1718 ( 32%)]  Loss: 0.0027\n",
            "[  600/ 1718 ( 35%)]  Loss: 0.2123\n",
            "[  650/ 1718 ( 38%)]  Loss: 0.0746\n",
            "[  700/ 1718 ( 41%)]  Loss: 0.0138\n",
            "[  750/ 1718 ( 44%)]  Loss: 0.0026\n",
            "[  800/ 1718 ( 47%)]  Loss: 0.0963\n",
            "[  850/ 1718 ( 49%)]  Loss: 0.0030\n",
            "[  900/ 1718 ( 52%)]  Loss: 0.2697\n",
            "[  950/ 1718 ( 55%)]  Loss: 0.0141\n",
            "[ 1000/ 1718 ( 58%)]  Loss: 0.0038\n",
            "[ 1050/ 1718 ( 61%)]  Loss: 0.0048\n",
            "[ 1100/ 1718 ( 64%)]  Loss: 0.0165\n",
            "[ 1150/ 1718 ( 67%)]  Loss: 0.0031\n",
            "[ 1200/ 1718 ( 70%)]  Loss: 0.2170\n",
            "[ 1250/ 1718 ( 73%)]  Loss: 0.0046\n",
            "[ 1300/ 1718 ( 76%)]  Loss: 0.1604\n",
            "[ 1350/ 1718 ( 79%)]  Loss: 0.0075\n",
            "[ 1400/ 1718 ( 81%)]  Loss: 0.0172\n",
            "[ 1450/ 1718 ( 84%)]  Loss: 0.0193\n",
            "[ 1500/ 1718 ( 87%)]  Loss: 0.0441\n",
            "[ 1550/ 1718 ( 90%)]  Loss: 0.0096\n",
            "[ 1600/ 1718 ( 93%)]  Loss: 0.0147\n",
            "[ 1650/ 1718 ( 96%)]  Loss: 0.0689\n",
            "[ 1700/ 1718 ( 99%)]  Loss: 0.0137\n",
            "Epoch: 3\n",
            "[    0/ 1718 (  0%)]  Loss: 0.0264\n",
            "[   50/ 1718 (  3%)]  Loss: 0.0040\n",
            "[  100/ 1718 (  6%)]  Loss: 0.0005\n",
            "[  150/ 1718 (  9%)]  Loss: 0.0055\n",
            "[  200/ 1718 ( 12%)]  Loss: 0.0036\n",
            "[  250/ 1718 ( 15%)]  Loss: 0.0173\n",
            "[  300/ 1718 ( 17%)]  Loss: 0.0087\n",
            "[  350/ 1718 ( 20%)]  Loss: 0.0008\n",
            "[  400/ 1718 ( 23%)]  Loss: 0.0045\n",
            "[  450/ 1718 ( 26%)]  Loss: 0.0006\n",
            "[  500/ 1718 ( 29%)]  Loss: 0.0107\n",
            "[  550/ 1718 ( 32%)]  Loss: 0.0020\n",
            "[  600/ 1718 ( 35%)]  Loss: 0.0308\n",
            "[  650/ 1718 ( 38%)]  Loss: 0.0748\n",
            "[  700/ 1718 ( 41%)]  Loss: 0.9466\n",
            "[  750/ 1718 ( 44%)]  Loss: 0.1409\n",
            "[  800/ 1718 ( 47%)]  Loss: 0.0432\n",
            "[  850/ 1718 ( 49%)]  Loss: 0.0022\n",
            "[  900/ 1718 ( 52%)]  Loss: 0.0123\n",
            "[  950/ 1718 ( 55%)]  Loss: 0.0008\n",
            "[ 1000/ 1718 ( 58%)]  Loss: 0.0080\n",
            "[ 1050/ 1718 ( 61%)]  Loss: 0.0011\n",
            "[ 1100/ 1718 ( 64%)]  Loss: 0.0202\n",
            "[ 1150/ 1718 ( 67%)]  Loss: 0.0048\n",
            "[ 1200/ 1718 ( 70%)]  Loss: 0.0025\n",
            "[ 1250/ 1718 ( 73%)]  Loss: 0.0037\n",
            "[ 1300/ 1718 ( 76%)]  Loss: 0.0007\n",
            "[ 1350/ 1718 ( 79%)]  Loss: 0.1823\n",
            "[ 1400/ 1718 ( 81%)]  Loss: 0.0025\n",
            "[ 1450/ 1718 ( 84%)]  Loss: 0.0019\n",
            "[ 1500/ 1718 ( 87%)]  Loss: 0.0024\n",
            "[ 1550/ 1718 ( 90%)]  Loss: 0.0004\n",
            "[ 1600/ 1718 ( 93%)]  Loss: 0.0008\n",
            "[ 1650/ 1718 ( 96%)]  Loss: 0.0088\n",
            "[ 1700/ 1718 ( 99%)]  Loss: 0.0122\n",
            "Epoch: 4\n",
            "[    0/ 1718 (  0%)]  Loss: 0.0014\n",
            "[   50/ 1718 (  3%)]  Loss: 0.0005\n",
            "[  100/ 1718 (  6%)]  Loss: 0.0101\n",
            "[  150/ 1718 (  9%)]  Loss: 0.0134\n",
            "[  200/ 1718 ( 12%)]  Loss: 0.0049\n",
            "[  250/ 1718 ( 15%)]  Loss: 0.0010\n",
            "[  300/ 1718 ( 17%)]  Loss: 0.0046\n",
            "[  350/ 1718 ( 20%)]  Loss: 0.0007\n",
            "[  400/ 1718 ( 23%)]  Loss: 0.0015\n",
            "[  450/ 1718 ( 26%)]  Loss: 0.0060\n",
            "[  500/ 1718 ( 29%)]  Loss: 0.1521\n",
            "[  550/ 1718 ( 32%)]  Loss: 0.0008\n",
            "[  600/ 1718 ( 35%)]  Loss: 0.0004\n",
            "[  650/ 1718 ( 38%)]  Loss: 0.0030\n",
            "[  700/ 1718 ( 41%)]  Loss: 0.0005\n",
            "[  750/ 1718 ( 44%)]  Loss: 0.0009\n",
            "[  800/ 1718 ( 47%)]  Loss: 0.0001\n",
            "[  850/ 1718 ( 49%)]  Loss: 0.0005\n",
            "[  900/ 1718 ( 52%)]  Loss: 0.0004\n",
            "[  950/ 1718 ( 55%)]  Loss: 0.0009\n",
            "[ 1000/ 1718 ( 58%)]  Loss: 0.0034\n",
            "[ 1050/ 1718 ( 61%)]  Loss: 0.0001\n",
            "[ 1100/ 1718 ( 64%)]  Loss: 0.0041\n",
            "[ 1150/ 1718 ( 67%)]  Loss: 0.0005\n",
            "[ 1200/ 1718 ( 70%)]  Loss: 0.0009\n",
            "[ 1250/ 1718 ( 73%)]  Loss: 0.0009\n",
            "[ 1300/ 1718 ( 76%)]  Loss: 0.0031\n",
            "[ 1350/ 1718 ( 79%)]  Loss: 0.1578\n",
            "[ 1400/ 1718 ( 81%)]  Loss: 0.0002\n",
            "[ 1450/ 1718 ( 84%)]  Loss: 0.0005\n",
            "[ 1500/ 1718 ( 87%)]  Loss: 0.0012\n",
            "[ 1550/ 1718 ( 90%)]  Loss: 0.0046\n",
            "[ 1600/ 1718 ( 93%)]  Loss: 0.0030\n",
            "[ 1650/ 1718 ( 96%)]  Loss: 0.0009\n",
            "[ 1700/ 1718 ( 99%)]  Loss: 0.0005\n",
            "Epoch: 5\n",
            "[    0/ 1718 (  0%)]  Loss: 0.0100\n",
            "[   50/ 1718 (  3%)]  Loss: 0.0007\n",
            "[  100/ 1718 (  6%)]  Loss: 0.0004\n",
            "[  150/ 1718 (  9%)]  Loss: 0.0013\n",
            "[  200/ 1718 ( 12%)]  Loss: 0.0015\n",
            "[  250/ 1718 ( 15%)]  Loss: 0.0002\n",
            "[  300/ 1718 ( 17%)]  Loss: 0.0076\n",
            "[  350/ 1718 ( 20%)]  Loss: 0.0033\n",
            "[  400/ 1718 ( 23%)]  Loss: 0.0038\n",
            "[  450/ 1718 ( 26%)]  Loss: 0.0000\n",
            "[  500/ 1718 ( 29%)]  Loss: 0.0018\n",
            "[  550/ 1718 ( 32%)]  Loss: 0.0004\n",
            "[  600/ 1718 ( 35%)]  Loss: 0.0009\n",
            "[  650/ 1718 ( 38%)]  Loss: 0.0001\n",
            "[  700/ 1718 ( 41%)]  Loss: 0.0007\n",
            "[  750/ 1718 ( 44%)]  Loss: 0.0258\n",
            "[  800/ 1718 ( 47%)]  Loss: 0.0002\n",
            "[  850/ 1718 ( 49%)]  Loss: 0.0014\n",
            "[  900/ 1718 ( 52%)]  Loss: 0.3041\n",
            "[  950/ 1718 ( 55%)]  Loss: 0.0620\n",
            "[ 1000/ 1718 ( 58%)]  Loss: 0.0001\n",
            "[ 1050/ 1718 ( 61%)]  Loss: 0.0001\n",
            "[ 1100/ 1718 ( 64%)]  Loss: 0.0015\n",
            "[ 1150/ 1718 ( 67%)]  Loss: 0.0001\n",
            "[ 1200/ 1718 ( 70%)]  Loss: 0.0001\n",
            "[ 1250/ 1718 ( 73%)]  Loss: 0.0014\n",
            "[ 1300/ 1718 ( 76%)]  Loss: 0.0014\n",
            "[ 1350/ 1718 ( 79%)]  Loss: 0.0003\n",
            "[ 1400/ 1718 ( 81%)]  Loss: 0.0001\n",
            "[ 1450/ 1718 ( 84%)]  Loss: 0.0001\n",
            "[ 1500/ 1718 ( 87%)]  Loss: 0.0027\n",
            "[ 1550/ 1718 ( 90%)]  Loss: 0.0004\n",
            "[ 1600/ 1718 ( 93%)]  Loss: 0.0002\n",
            "[ 1650/ 1718 ( 96%)]  Loss: 0.0125\n",
            "[ 1700/ 1718 ( 99%)]  Loss: 0.0000\n",
            "Epoch: 6\n",
            "[    0/ 1718 (  0%)]  Loss: 0.0017\n",
            "[   50/ 1718 (  3%)]  Loss: 0.0001\n",
            "[  100/ 1718 (  6%)]  Loss: 0.0001\n",
            "[  150/ 1718 (  9%)]  Loss: 0.0028\n",
            "[  200/ 1718 ( 12%)]  Loss: 0.0000\n",
            "[  250/ 1718 ( 15%)]  Loss: 0.0025\n",
            "[  300/ 1718 ( 17%)]  Loss: 0.0000\n",
            "[  350/ 1718 ( 20%)]  Loss: 0.0073\n",
            "[  400/ 1718 ( 23%)]  Loss: 0.0005\n",
            "[  450/ 1718 ( 26%)]  Loss: 0.0000\n",
            "[  500/ 1718 ( 29%)]  Loss: 0.0001\n",
            "[  550/ 1718 ( 32%)]  Loss: 0.0003\n",
            "[  600/ 1718 ( 35%)]  Loss: 0.0000\n",
            "[  650/ 1718 ( 38%)]  Loss: 0.0001\n",
            "[  700/ 1718 ( 41%)]  Loss: 0.0003\n",
            "[  750/ 1718 ( 44%)]  Loss: 0.0001\n",
            "[  800/ 1718 ( 47%)]  Loss: 0.0017\n",
            "[  850/ 1718 ( 49%)]  Loss: 0.0085\n",
            "[  900/ 1718 ( 52%)]  Loss: 0.0001\n",
            "[  950/ 1718 ( 55%)]  Loss: 0.0000\n",
            "[ 1000/ 1718 ( 58%)]  Loss: 0.0022\n",
            "[ 1050/ 1718 ( 61%)]  Loss: 0.0004\n",
            "[ 1100/ 1718 ( 64%)]  Loss: 0.0001\n",
            "[ 1150/ 1718 ( 67%)]  Loss: 0.0004\n",
            "[ 1200/ 1718 ( 70%)]  Loss: 0.0002\n",
            "[ 1250/ 1718 ( 73%)]  Loss: 0.0001\n",
            "[ 1300/ 1718 ( 76%)]  Loss: 0.0954\n",
            "[ 1350/ 1718 ( 79%)]  Loss: 0.0003\n",
            "[ 1400/ 1718 ( 81%)]  Loss: 0.0000\n",
            "[ 1450/ 1718 ( 84%)]  Loss: 0.0400\n",
            "[ 1500/ 1718 ( 87%)]  Loss: 0.0003\n",
            "[ 1550/ 1718 ( 90%)]  Loss: 0.0004\n",
            "[ 1600/ 1718 ( 93%)]  Loss: 0.0001\n",
            "[ 1650/ 1718 ( 96%)]  Loss: 0.0003\n",
            "[ 1700/ 1718 ( 99%)]  Loss: 0.0008\n",
            "Training Execution time: 5608.04 seconds\n"
          ]
        }
      ],
      "source": [
        "N_EPOCHS = 6\n",
        "# สร้างโมเดล MoViNet\n",
        "model_A3 = MoViNet(_C.MODEL.MoViNetA3, causal=False, pretrained=True)\n",
        "start_time = time.time()\n",
        "\n",
        "# เตรียม list เพื่อเก็บค่า loss ของการฝึกอบรม\n",
        "trloss_val, tsloss_val = [], []\n",
        "\n",
        "# ปรับแต่งชั้น classifier ของโมเดล\n",
        "model_A3.classifier[3] = torch.nn.Conv3d(2048, 8, (1, 1, 1))\n",
        "\n",
        "# กำหนด optimizer\n",
        "optimizer = optim.Adam(model_A3.parameters(), lr=0.00005)\n",
        "\n",
        "# วน loop ตามจำนวน epoch ที่กำหนด\n",
        "for epoch in range(1, N_EPOCHS + 1):\n",
        "    print('Epoch:', epoch)\n",
        "\n",
        "    # ทำการฝึกอบรมและบันทึกค่า loss\n",
        "    loss = train_iter(model_A3, optimizer, train_loader_A3, trloss_val)\n",
        "\n",
        "    # บันทึก checkpoint\n",
        "    checkpoint_path = 'A3_checkpoint_epoch_round1{}.pth'.format(epoch)\n",
        "    torch.save({\n",
        "        'epoch': epoch,\n",
        "        'model_state_dict': model_A3.state_dict(),\n",
        "        'optimizer_state_dict': optimizer.state_dict(),\n",
        "        'loss': loss,\n",
        "    }, checkpoint_path)\n",
        "\n",
        "    # บันทึกโมเดลสุดท้าย\n",
        "    if epoch == N_EPOCHS:\n",
        "        torch.save(model_A3.state_dict(), 'A3_8class_yoru_Checkpoint_round1.pth')\n",
        "\n",
        "print('Training Execution time:', '{:5.2f}'.format(time.time() - start_time), 'seconds')\n"
      ]
    },
    {
      "cell_type": "code",
      "execution_count": null,
      "metadata": {
        "colab": {
          "base_uri": "https://localhost:8080/",
          "height": 472
        },
        "id": "sfsB1yGCsmiZ",
        "outputId": "6dcefed9-7801-45f2-aa9b-71d312f42acf"
      },
      "outputs": [
        {
          "data": {
            "image/png": "[encoded data removed]",
            "text/plain": [
              "<Figure size 640x480 with 1 Axes>"
            ]
          },
          "metadata": {},
          "output_type": "display_data"
        }
      ],
      "source": [
        "import matplotlib.pyplot as plt\n",
        "N_EPOCHS = len(trloss_val)\n",
        "\n",
        "# Plotting the training loss\n",
        "plt.plot(range(1, N_EPOCHS + 1), trloss_val, label='Training Loss')\n",
        "\n",
        "# Adding labels and title\n",
        "plt.xlabel('Epoch')\n",
        "plt.ylabel('Loss')\n",
        "plt.title('Training Loss Over Epochs')\n",
        "\n",
        "# Adding a legend\n",
        "plt.legend()\n",
        "\n",
        "# Display the plot\n",
        "plt.show()\n"
      ]
    },
    {
      "cell_type": "markdown",
      "metadata": {
        "id": "Ia1sX-YLb_FO"
      },
      "source": [
        "###Movinet with  No stream Buffer Checkpoint (ใช้อันนี้เทรน) A4\n",
        "\n"
      ]
    },
    {
      "cell_type": "code",
      "execution_count": null,
      "metadata": {
        "colab": {
          "background_save": true,
          "base_uri": "https://localhost:8080/"
        },
        "id": "Osskqy0FcBzk",
        "outputId": "237e6d7f-8c11-4752-9aa0-4265144c31ef"
      },
      "outputs": [
        {
          "name": "stderr",
          "output_type": "stream",
          "text": [
            "Downloading: \"https://github.com/Atze00/MoViNet-pytorch/blob/main/weights/modelA4_statedict_v3?raw=true\" to /root/.cache/torch/hub/checkpoints/modelA4_statedict_v3\n",
            "100%|██████████| 44.0M/44.0M [00:00<00:00, 63.7MB/s]\n"
          ]
        },
        {
          "name": "stdout",
          "output_type": "stream",
          "text": [
            "Epoch: 1\n"
          ]
        },
        {
          "name": "stderr",
          "output_type": "stream",
          "text": [
            "/usr/local/lib/python3.10/dist-packages/torchvision/io/video.py:161: UserWarning: The pts_unit 'pts' gives wrong results. Please use pts_unit 'sec'.\n",
            "  warnings.warn(\"The pts_unit 'pts' gives wrong results. Please use pts_unit 'sec'.\")\n"
          ]
        },
        {
          "name": "stdout",
          "output_type": "stream",
          "text": [
            "[    0/ 1749 (  0%)]  Loss: 2.0986\n",
            "[   50/ 1749 (  3%)]  Loss: 2.0719\n",
            "[  100/ 1749 (  6%)]  Loss: 2.0555\n",
            "[  150/ 1749 (  9%)]  Loss: 2.0964\n",
            "[  200/ 1749 ( 11%)]  Loss: 1.9620\n",
            "[  250/ 1749 ( 14%)]  Loss: 1.8506\n",
            "[  300/ 1749 ( 17%)]  Loss: 1.1351\n",
            "[  350/ 1749 ( 20%)]  Loss: 1.5061\n",
            "[  400/ 1749 ( 23%)]  Loss: 1.4709\n",
            "[  450/ 1749 ( 26%)]  Loss: 0.6464\n",
            "[  500/ 1749 ( 29%)]  Loss: 0.9588\n",
            "[  550/ 1749 ( 31%)]  Loss: 0.3395\n",
            "[  600/ 1749 ( 34%)]  Loss: 0.4317\n",
            "[  650/ 1749 ( 37%)]  Loss: 1.5610\n",
            "[  700/ 1749 ( 40%)]  Loss: 0.0644\n",
            "[  750/ 1749 ( 43%)]  Loss: 0.0764\n",
            "[  800/ 1749 ( 46%)]  Loss: 0.3997\n",
            "[  850/ 1749 ( 49%)]  Loss: 0.1165\n",
            "[  900/ 1749 ( 51%)]  Loss: 0.1708\n",
            "[  950/ 1749 ( 54%)]  Loss: 0.0641\n",
            "[ 1000/ 1749 ( 57%)]  Loss: 0.0369\n",
            "[ 1050/ 1749 ( 60%)]  Loss: 0.0250\n",
            "[ 1100/ 1749 ( 63%)]  Loss: 0.2536\n",
            "[ 1150/ 1749 ( 66%)]  Loss: 0.0143\n",
            "[ 1200/ 1749 ( 69%)]  Loss: 0.3855\n",
            "[ 1250/ 1749 ( 71%)]  Loss: 0.0191\n",
            "[ 1300/ 1749 ( 74%)]  Loss: 0.0442\n",
            "[ 1350/ 1749 ( 77%)]  Loss: 0.0960\n",
            "[ 1400/ 1749 ( 80%)]  Loss: 0.0165\n",
            "[ 1450/ 1749 ( 83%)]  Loss: 0.0280\n",
            "[ 1500/ 1749 ( 86%)]  Loss: 0.0049\n",
            "[ 1550/ 1749 ( 89%)]  Loss: 0.0291\n",
            "[ 1600/ 1749 ( 91%)]  Loss: 0.2759\n",
            "[ 1650/ 1749 ( 94%)]  Loss: 0.1843\n",
            "[ 1700/ 1749 ( 97%)]  Loss: 0.0062\n",
            "Epoch: 2\n",
            "[    0/ 1749 (  0%)]  Loss: 0.0069\n",
            "[   50/ 1749 (  3%)]  Loss: 0.0085\n",
            "[  100/ 1749 (  6%)]  Loss: 0.0519\n",
            "[  150/ 1749 (  9%)]  Loss: 0.0050\n",
            "[  200/ 1749 ( 11%)]  Loss: 0.0161\n",
            "[  250/ 1749 ( 14%)]  Loss: 0.0048\n",
            "[  300/ 1749 ( 17%)]  Loss: 0.0341\n",
            "[  350/ 1749 ( 20%)]  Loss: 0.0060\n",
            "[  400/ 1749 ( 23%)]  Loss: 0.1154\n",
            "[  450/ 1749 ( 26%)]  Loss: 0.0029\n",
            "[  500/ 1749 ( 29%)]  Loss: 0.0030\n",
            "[  550/ 1749 ( 31%)]  Loss: 0.3480\n",
            "[  600/ 1749 ( 34%)]  Loss: 0.0024\n",
            "[  650/ 1749 ( 37%)]  Loss: 0.0051\n",
            "[  700/ 1749 ( 40%)]  Loss: 0.0121\n",
            "[  750/ 1749 ( 43%)]  Loss: 0.0130\n",
            "[  800/ 1749 ( 46%)]  Loss: 0.0151\n",
            "[  850/ 1749 ( 49%)]  Loss: 0.0022\n",
            "[  900/ 1749 ( 51%)]  Loss: 0.0030\n",
            "[  950/ 1749 ( 54%)]  Loss: 0.0034\n",
            "[ 1000/ 1749 ( 57%)]  Loss: 0.5311\n",
            "[ 1050/ 1749 ( 60%)]  Loss: 0.0108\n",
            "[ 1100/ 1749 ( 63%)]  Loss: 0.0018\n",
            "[ 1150/ 1749 ( 66%)]  Loss: 0.0023\n",
            "[ 1200/ 1749 ( 69%)]  Loss: 0.0151\n",
            "[ 1250/ 1749 ( 71%)]  Loss: 0.0017\n",
            "[ 1300/ 1749 ( 74%)]  Loss: 0.1074\n",
            "[ 1350/ 1749 ( 77%)]  Loss: 0.0005\n",
            "[ 1400/ 1749 ( 80%)]  Loss: 0.0168\n",
            "[ 1450/ 1749 ( 83%)]  Loss: 0.0011\n",
            "[ 1500/ 1749 ( 86%)]  Loss: 0.0006\n",
            "[ 1550/ 1749 ( 89%)]  Loss: 0.0130\n",
            "[ 1600/ 1749 ( 91%)]  Loss: 0.0060\n",
            "[ 1650/ 1749 ( 94%)]  Loss: 0.0004\n",
            "[ 1700/ 1749 ( 97%)]  Loss: 0.0012\n",
            "Epoch: 3\n",
            "[    0/ 1749 (  0%)]  Loss: 0.0015\n",
            "[   50/ 1749 (  3%)]  Loss: 0.0765\n",
            "[  100/ 1749 (  6%)]  Loss: 0.0016\n",
            "[  150/ 1749 (  9%)]  Loss: 0.0007\n",
            "[  200/ 1749 ( 11%)]  Loss: 0.0187\n",
            "[  250/ 1749 ( 14%)]  Loss: 0.0014\n",
            "[  300/ 1749 ( 17%)]  Loss: 0.0131\n",
            "[  350/ 1749 ( 20%)]  Loss: 0.0015\n",
            "[  400/ 1749 ( 23%)]  Loss: 0.0009\n",
            "[  450/ 1749 ( 26%)]  Loss: 0.0035\n",
            "[  500/ 1749 ( 29%)]  Loss: 0.0009\n",
            "[  550/ 1749 ( 31%)]  Loss: 0.1289\n",
            "[  600/ 1749 ( 34%)]  Loss: 0.0006\n",
            "[  650/ 1749 ( 37%)]  Loss: 0.0018\n",
            "[  700/ 1749 ( 40%)]  Loss: 0.0003\n",
            "[  750/ 1749 ( 43%)]  Loss: 0.0013\n",
            "[  800/ 1749 ( 46%)]  Loss: 0.0793\n",
            "[  850/ 1749 ( 49%)]  Loss: 0.0162\n",
            "[  900/ 1749 ( 51%)]  Loss: 0.0282\n",
            "[  950/ 1749 ( 54%)]  Loss: 0.0020\n",
            "[ 1000/ 1749 ( 57%)]  Loss: 0.0009\n",
            "[ 1050/ 1749 ( 60%)]  Loss: 0.0003\n",
            "[ 1100/ 1749 ( 63%)]  Loss: 0.0005\n",
            "[ 1150/ 1749 ( 66%)]  Loss: 0.0004\n",
            "[ 1200/ 1749 ( 69%)]  Loss: 0.0005\n",
            "[ 1250/ 1749 ( 71%)]  Loss: 0.0009\n",
            "[ 1300/ 1749 ( 74%)]  Loss: 0.0015\n",
            "[ 1350/ 1749 ( 77%)]  Loss: 0.0010\n",
            "[ 1400/ 1749 ( 80%)]  Loss: 0.0096\n",
            "[ 1450/ 1749 ( 83%)]  Loss: 0.0009\n",
            "[ 1500/ 1749 ( 86%)]  Loss: 0.0036\n",
            "[ 1550/ 1749 ( 89%)]  Loss: 0.0008\n",
            "[ 1600/ 1749 ( 91%)]  Loss: 0.0006\n",
            "[ 1650/ 1749 ( 94%)]  Loss: 0.0004\n",
            "[ 1700/ 1749 ( 97%)]  Loss: 0.0020\n",
            "Epoch: 4\n",
            "[    0/ 1749 (  0%)]  Loss: 0.0004\n",
            "[   50/ 1749 (  3%)]  Loss: 0.0004\n",
            "[  100/ 1749 (  6%)]  Loss: 0.0024\n",
            "[  150/ 1749 (  9%)]  Loss: 0.0002\n",
            "[  200/ 1749 ( 11%)]  Loss: 0.0005\n",
            "[  250/ 1749 ( 14%)]  Loss: 0.0002\n",
            "[  300/ 1749 ( 17%)]  Loss: 0.0004\n",
            "[  350/ 1749 ( 20%)]  Loss: 0.0393\n",
            "[  400/ 1749 ( 23%)]  Loss: 0.0002\n",
            "[  450/ 1749 ( 26%)]  Loss: 0.0033\n",
            "[  500/ 1749 ( 29%)]  Loss: 0.0002\n",
            "[  550/ 1749 ( 31%)]  Loss: 0.0002\n",
            "[  600/ 1749 ( 34%)]  Loss: 0.0004\n",
            "[  650/ 1749 ( 37%)]  Loss: 0.0004\n",
            "[  700/ 1749 ( 40%)]  Loss: 0.0221\n",
            "[  750/ 1749 ( 43%)]  Loss: 0.0005\n",
            "[  800/ 1749 ( 46%)]  Loss: 0.0004\n",
            "[  850/ 1749 ( 49%)]  Loss: 0.0088\n",
            "[  900/ 1749 ( 51%)]  Loss: 0.0089\n",
            "[  950/ 1749 ( 54%)]  Loss: 1.4697\n",
            "[ 1000/ 1749 ( 57%)]  Loss: 0.0035\n",
            "[ 1050/ 1749 ( 60%)]  Loss: 0.0003\n",
            "[ 1100/ 1749 ( 63%)]  Loss: 0.0030\n",
            "[ 1150/ 1749 ( 66%)]  Loss: 0.0050\n",
            "[ 1200/ 1749 ( 69%)]  Loss: 0.0006\n",
            "[ 1250/ 1749 ( 71%)]  Loss: 0.0027\n",
            "[ 1300/ 1749 ( 74%)]  Loss: 0.0001\n",
            "[ 1350/ 1749 ( 77%)]  Loss: 0.0005\n",
            "[ 1400/ 1749 ( 80%)]  Loss: 0.0008\n",
            "[ 1450/ 1749 ( 83%)]  Loss: 0.0002\n",
            "[ 1500/ 1749 ( 86%)]  Loss: 0.0003\n",
            "[ 1550/ 1749 ( 89%)]  Loss: 0.0004\n",
            "[ 1600/ 1749 ( 91%)]  Loss: 0.0189\n",
            "[ 1650/ 1749 ( 94%)]  Loss: 0.0006\n",
            "[ 1700/ 1749 ( 97%)]  Loss: 0.0164\n",
            "Epoch: 5\n",
            "[    0/ 1749 (  0%)]  Loss: 0.0013\n",
            "[   50/ 1749 (  3%)]  Loss: 0.0001\n",
            "[  100/ 1749 (  6%)]  Loss: 0.0004\n",
            "[  150/ 1749 (  9%)]  Loss: 0.0005\n",
            "[  200/ 1749 ( 11%)]  Loss: 0.0001\n",
            "[  250/ 1749 ( 14%)]  Loss: 0.0002\n",
            "[  300/ 1749 ( 17%)]  Loss: 0.0004\n",
            "[  350/ 1749 ( 20%)]  Loss: 0.0001\n",
            "[  400/ 1749 ( 23%)]  Loss: 0.0001\n",
            "[  450/ 1749 ( 26%)]  Loss: 0.0003\n",
            "[  500/ 1749 ( 29%)]  Loss: 0.0023\n",
            "[  550/ 1749 ( 31%)]  Loss: 0.0039\n",
            "[  600/ 1749 ( 34%)]  Loss: 0.0004\n",
            "[  650/ 1749 ( 37%)]  Loss: 0.0002\n",
            "[  700/ 1749 ( 40%)]  Loss: 0.0002\n",
            "[  750/ 1749 ( 43%)]  Loss: 0.0001\n",
            "[  800/ 1749 ( 46%)]  Loss: 0.0001\n",
            "[  850/ 1749 ( 49%)]  Loss: 0.0002\n",
            "[  900/ 1749 ( 51%)]  Loss: 0.0006\n",
            "[  950/ 1749 ( 54%)]  Loss: 0.0003\n",
            "[ 1000/ 1749 ( 57%)]  Loss: 0.0002\n",
            "[ 1050/ 1749 ( 60%)]  Loss: 0.0003\n",
            "[ 1100/ 1749 ( 63%)]  Loss: 0.0001\n",
            "[ 1150/ 1749 ( 66%)]  Loss: 0.0001\n",
            "[ 1200/ 1749 ( 69%)]  Loss: 0.0015\n",
            "[ 1250/ 1749 ( 71%)]  Loss: 0.0001\n",
            "[ 1300/ 1749 ( 74%)]  Loss: 0.0241\n",
            "[ 1350/ 1749 ( 77%)]  Loss: 0.0001\n",
            "[ 1400/ 1749 ( 80%)]  Loss: 0.0001\n",
            "[ 1450/ 1749 ( 83%)]  Loss: 0.0001\n",
            "[ 1500/ 1749 ( 86%)]  Loss: 0.0177\n",
            "[ 1550/ 1749 ( 89%)]  Loss: 0.0002\n",
            "[ 1600/ 1749 ( 91%)]  Loss: 0.0011\n",
            "[ 1650/ 1749 ( 94%)]  Loss: 0.0008\n",
            "[ 1700/ 1749 ( 97%)]  Loss: 0.0000\n",
            "Epoch: 6\n",
            "[    0/ 1749 (  0%)]  Loss: 0.0001\n",
            "[   50/ 1749 (  3%)]  Loss: 0.0001\n",
            "[  100/ 1749 (  6%)]  Loss: 0.0001\n",
            "[  150/ 1749 (  9%)]  Loss: 0.0000\n",
            "[  200/ 1749 ( 11%)]  Loss: 0.0168\n",
            "[  250/ 1749 ( 14%)]  Loss: 0.0004\n",
            "[  300/ 1749 ( 17%)]  Loss: 0.0000\n",
            "[  350/ 1749 ( 20%)]  Loss: 0.0000\n",
            "[  400/ 1749 ( 23%)]  Loss: 0.0003\n",
            "[  450/ 1749 ( 26%)]  Loss: 0.0001\n",
            "[  500/ 1749 ( 29%)]  Loss: 0.0000\n",
            "[  550/ 1749 ( 31%)]  Loss: 0.0001\n",
            "[  600/ 1749 ( 34%)]  Loss: 0.0001\n",
            "[  650/ 1749 ( 37%)]  Loss: 0.4481\n",
            "[  700/ 1749 ( 40%)]  Loss: 0.0003\n",
            "[  750/ 1749 ( 43%)]  Loss: 0.0021\n",
            "[  800/ 1749 ( 46%)]  Loss: 0.0000\n",
            "[  850/ 1749 ( 49%)]  Loss: 0.0053\n",
            "[  900/ 1749 ( 51%)]  Loss: 0.0000\n",
            "[  950/ 1749 ( 54%)]  Loss: 0.0000\n",
            "[ 1000/ 1749 ( 57%)]  Loss: 0.0014\n",
            "[ 1050/ 1749 ( 60%)]  Loss: 0.0000\n",
            "[ 1100/ 1749 ( 63%)]  Loss: 0.0000\n",
            "[ 1150/ 1749 ( 66%)]  Loss: 0.0003\n",
            "[ 1200/ 1749 ( 69%)]  Loss: 0.0001\n",
            "[ 1250/ 1749 ( 71%)]  Loss: 0.0001\n",
            "[ 1300/ 1749 ( 74%)]  Loss: 0.0002\n",
            "[ 1350/ 1749 ( 77%)]  Loss: 0.0001\n",
            "[ 1400/ 1749 ( 80%)]  Loss: 0.0047\n",
            "[ 1450/ 1749 ( 83%)]  Loss: 0.0001\n",
            "[ 1500/ 1749 ( 86%)]  Loss: 0.0001\n",
            "[ 1550/ 1749 ( 89%)]  Loss: 0.0000\n",
            "[ 1600/ 1749 ( 91%)]  Loss: 0.0003\n",
            "[ 1650/ 1749 ( 94%)]  Loss: 0.0002\n",
            "[ 1700/ 1749 ( 97%)]  Loss: 0.0014\n",
            "Epoch: 7\n",
            "[    0/ 1749 (  0%)]  Loss: 0.0005\n",
            "[   50/ 1749 (  3%)]  Loss: 0.0005\n",
            "[  100/ 1749 (  6%)]  Loss: 0.0001\n",
            "[  150/ 1749 (  9%)]  Loss: 0.0021\n",
            "[  200/ 1749 ( 11%)]  Loss: 0.0001\n",
            "[  250/ 1749 ( 14%)]  Loss: 0.0001\n",
            "[  300/ 1749 ( 17%)]  Loss: 0.0006\n",
            "[  350/ 1749 ( 20%)]  Loss: 0.0002\n",
            "[  400/ 1749 ( 23%)]  Loss: 0.0001\n",
            "[  450/ 1749 ( 26%)]  Loss: 0.0001\n",
            "[  500/ 1749 ( 29%)]  Loss: 0.0002\n",
            "[  550/ 1749 ( 31%)]  Loss: 0.0000\n",
            "[  600/ 1749 ( 34%)]  Loss: 0.0000\n",
            "[  650/ 1749 ( 37%)]  Loss: 0.0007\n",
            "[  700/ 1749 ( 40%)]  Loss: 0.0000\n",
            "[  750/ 1749 ( 43%)]  Loss: 0.0000\n",
            "[  800/ 1749 ( 46%)]  Loss: 0.0000\n",
            "[  850/ 1749 ( 49%)]  Loss: 0.0000\n",
            "[  900/ 1749 ( 51%)]  Loss: 0.0005\n",
            "[  950/ 1749 ( 54%)]  Loss: 0.0002\n",
            "[ 1000/ 1749 ( 57%)]  Loss: 0.0000\n",
            "[ 1050/ 1749 ( 60%)]  Loss: 0.0000\n",
            "[ 1100/ 1749 ( 63%)]  Loss: 0.0003\n",
            "[ 1150/ 1749 ( 66%)]  Loss: 0.0014\n",
            "[ 1200/ 1749 ( 69%)]  Loss: 0.0006\n",
            "[ 1250/ 1749 ( 71%)]  Loss: 0.0002\n",
            "[ 1300/ 1749 ( 74%)]  Loss: 0.0000\n",
            "[ 1350/ 1749 ( 77%)]  Loss: 0.0000\n",
            "[ 1400/ 1749 ( 80%)]  Loss: 0.0000\n",
            "[ 1450/ 1749 ( 83%)]  Loss: 0.0000\n",
            "[ 1500/ 1749 ( 86%)]  Loss: 0.0000\n",
            "[ 1550/ 1749 ( 89%)]  Loss: 0.0000\n",
            "[ 1600/ 1749 ( 91%)]  Loss: 0.0000\n",
            "[ 1650/ 1749 ( 94%)]  Loss: 0.0001\n",
            "[ 1700/ 1749 ( 97%)]  Loss: 0.8496\n",
            "Epoch: 8\n",
            "[    0/ 1749 (  0%)]  Loss: 0.0022\n",
            "[   50/ 1749 (  3%)]  Loss: 0.0000\n",
            "[  100/ 1749 (  6%)]  Loss: 0.0000\n",
            "[  150/ 1749 (  9%)]  Loss: 0.0001\n",
            "[  200/ 1749 ( 11%)]  Loss: 0.0001\n",
            "[  250/ 1749 ( 14%)]  Loss: 0.0001\n",
            "[  300/ 1749 ( 17%)]  Loss: 0.0001\n",
            "[  350/ 1749 ( 20%)]  Loss: 0.0000\n",
            "[  400/ 1749 ( 23%)]  Loss: 0.0001\n",
            "[  450/ 1749 ( 26%)]  Loss: 0.0000\n",
            "[  500/ 1749 ( 29%)]  Loss: 0.0000\n",
            "[  550/ 1749 ( 31%)]  Loss: 0.0004\n",
            "[  600/ 1749 ( 34%)]  Loss: 0.0000\n",
            "[  650/ 1749 ( 37%)]  Loss: 0.0000\n",
            "[  700/ 1749 ( 40%)]  Loss: 0.0012\n",
            "[  750/ 1749 ( 43%)]  Loss: 0.0000\n",
            "[  800/ 1749 ( 46%)]  Loss: 0.0001\n",
            "[  850/ 1749 ( 49%)]  Loss: 0.0000\n",
            "[  900/ 1749 ( 51%)]  Loss: 0.0000\n",
            "[  950/ 1749 ( 54%)]  Loss: 0.0000\n",
            "[ 1000/ 1749 ( 57%)]  Loss: 0.0000\n",
            "[ 1050/ 1749 ( 60%)]  Loss: 0.0000\n",
            "[ 1100/ 1749 ( 63%)]  Loss: 0.0001\n",
            "[ 1150/ 1749 ( 66%)]  Loss: 0.0000\n",
            "[ 1200/ 1749 ( 69%)]  Loss: 0.0000\n",
            "[ 1250/ 1749 ( 71%)]  Loss: 0.0002\n",
            "[ 1300/ 1749 ( 74%)]  Loss: 0.0007\n",
            "[ 1350/ 1749 ( 77%)]  Loss: 0.0000\n",
            "[ 1400/ 1749 ( 80%)]  Loss: 0.0007\n",
            "[ 1450/ 1749 ( 83%)]  Loss: 0.0012\n",
            "[ 1500/ 1749 ( 86%)]  Loss: 0.0000\n",
            "[ 1550/ 1749 ( 89%)]  Loss: 0.0000\n",
            "[ 1600/ 1749 ( 91%)]  Loss: 0.0001\n",
            "[ 1650/ 1749 ( 94%)]  Loss: 0.0024\n",
            "[ 1700/ 1749 ( 97%)]  Loss: 0.0003\n",
            "Epoch: 9\n",
            "[    0/ 1749 (  0%)]  Loss: 0.0001\n",
            "[   50/ 1749 (  3%)]  Loss: 0.0001\n",
            "[  100/ 1749 (  6%)]  Loss: 0.0000\n",
            "[  150/ 1749 (  9%)]  Loss: 0.0002\n",
            "[  200/ 1749 ( 11%)]  Loss: 0.0087\n",
            "[  250/ 1749 ( 14%)]  Loss: 0.0002\n",
            "[  300/ 1749 ( 17%)]  Loss: 0.0026\n",
            "[  350/ 1749 ( 20%)]  Loss: 0.0005\n",
            "[  400/ 1749 ( 23%)]  Loss: 0.0000\n",
            "[  450/ 1749 ( 26%)]  Loss: 0.2837\n",
            "[  500/ 1749 ( 29%)]  Loss: 0.0000\n",
            "[  550/ 1749 ( 31%)]  Loss: 0.0000\n",
            "[  600/ 1749 ( 34%)]  Loss: 0.0000\n",
            "[  650/ 1749 ( 37%)]  Loss: 0.0001\n",
            "[  700/ 1749 ( 40%)]  Loss: 0.0094\n",
            "[  750/ 1749 ( 43%)]  Loss: 0.0001\n",
            "[  800/ 1749 ( 46%)]  Loss: 0.0001\n",
            "[  850/ 1749 ( 49%)]  Loss: 0.0001\n",
            "[  900/ 1749 ( 51%)]  Loss: 0.0021\n",
            "[  950/ 1749 ( 54%)]  Loss: 0.0000\n",
            "[ 1000/ 1749 ( 57%)]  Loss: 0.0002\n",
            "[ 1050/ 1749 ( 60%)]  Loss: 0.0000\n",
            "[ 1100/ 1749 ( 63%)]  Loss: 0.0000\n",
            "[ 1150/ 1749 ( 66%)]  Loss: 0.0000\n",
            "[ 1200/ 1749 ( 69%)]  Loss: 0.0397\n",
            "[ 1250/ 1749 ( 71%)]  Loss: 0.0001\n",
            "[ 1300/ 1749 ( 74%)]  Loss: 0.0000\n",
            "[ 1350/ 1749 ( 77%)]  Loss: 0.0000\n",
            "[ 1400/ 1749 ( 80%)]  Loss: 0.0000\n",
            "[ 1450/ 1749 ( 83%)]  Loss: 0.7136\n",
            "[ 1500/ 1749 ( 86%)]  Loss: 0.0018\n",
            "[ 1550/ 1749 ( 89%)]  Loss: 0.0000\n",
            "[ 1600/ 1749 ( 91%)]  Loss: 0.0001\n",
            "[ 1650/ 1749 ( 94%)]  Loss: 0.0000\n",
            "[ 1700/ 1749 ( 97%)]  Loss: 0.0003\n",
            "Epoch: 10\n",
            "[    0/ 1749 (  0%)]  Loss: 0.0005\n",
            "[   50/ 1749 (  3%)]  Loss: 0.0002\n",
            "[  100/ 1749 (  6%)]  Loss: 0.0001\n",
            "[  150/ 1749 (  9%)]  Loss: 0.0002\n",
            "[  200/ 1749 ( 11%)]  Loss: 0.0000\n",
            "[  250/ 1749 ( 14%)]  Loss: 0.0000\n",
            "[  300/ 1749 ( 17%)]  Loss: 0.0000\n",
            "[  350/ 1749 ( 20%)]  Loss: 0.0139\n",
            "[  400/ 1749 ( 23%)]  Loss: 0.0001\n",
            "[  450/ 1749 ( 26%)]  Loss: 0.0001\n",
            "[  500/ 1749 ( 29%)]  Loss: 0.0000\n",
            "[  550/ 1749 ( 31%)]  Loss: 0.0000\n",
            "[  600/ 1749 ( 34%)]  Loss: 0.0001\n",
            "[  650/ 1749 ( 37%)]  Loss: 0.0000\n",
            "[  700/ 1749 ( 40%)]  Loss: 0.0032\n",
            "[  750/ 1749 ( 43%)]  Loss: 0.0000\n",
            "[  800/ 1749 ( 46%)]  Loss: 0.0002\n",
            "[  850/ 1749 ( 49%)]  Loss: 0.0000\n",
            "[  900/ 1749 ( 51%)]  Loss: 0.0002\n",
            "[  950/ 1749 ( 54%)]  Loss: 0.0000\n",
            "[ 1000/ 1749 ( 57%)]  Loss: 0.0001\n",
            "[ 1050/ 1749 ( 60%)]  Loss: 0.0086\n",
            "[ 1100/ 1749 ( 63%)]  Loss: 0.0000\n",
            "[ 1150/ 1749 ( 66%)]  Loss: 0.0000\n",
            "[ 1200/ 1749 ( 69%)]  Loss: 0.0000\n",
            "[ 1250/ 1749 ( 71%)]  Loss: 0.0001\n",
            "[ 1300/ 1749 ( 74%)]  Loss: 0.0000\n",
            "[ 1350/ 1749 ( 77%)]  Loss: 0.0004\n",
            "[ 1400/ 1749 ( 80%)]  Loss: 0.0000\n",
            "[ 1450/ 1749 ( 83%)]  Loss: 0.0000\n",
            "[ 1500/ 1749 ( 86%)]  Loss: 0.0000\n",
            "[ 1550/ 1749 ( 89%)]  Loss: 0.0000\n",
            "[ 1600/ 1749 ( 91%)]  Loss: 0.0036\n",
            "[ 1650/ 1749 ( 94%)]  Loss: 0.0000\n",
            "[ 1700/ 1749 ( 97%)]  Loss: 0.0000\n",
            "Epoch: 11\n",
            "[    0/ 1749 (  0%)]  Loss: 0.0065\n",
            "[   50/ 1749 (  3%)]  Loss: 0.0000\n",
            "[  100/ 1749 (  6%)]  Loss: 0.0011\n",
            "[  150/ 1749 (  9%)]  Loss: 0.0002\n",
            "[  200/ 1749 ( 11%)]  Loss: 0.0000\n",
            "[  250/ 1749 ( 14%)]  Loss: 0.0000\n",
            "[  300/ 1749 ( 17%)]  Loss: 0.0001\n",
            "[  350/ 1749 ( 20%)]  Loss: 0.0000\n",
            "[  400/ 1749 ( 23%)]  Loss: 0.0000\n",
            "[  450/ 1749 ( 26%)]  Loss: 0.0001\n",
            "[  500/ 1749 ( 29%)]  Loss: 0.0000\n",
            "[  550/ 1749 ( 31%)]  Loss: 0.0000\n",
            "[  600/ 1749 ( 34%)]  Loss: 0.0000\n",
            "[  650/ 1749 ( 37%)]  Loss: 0.0000\n",
            "[  700/ 1749 ( 40%)]  Loss: 0.0000\n",
            "[  750/ 1749 ( 43%)]  Loss: 0.0010\n",
            "[  800/ 1749 ( 46%)]  Loss: 0.0003\n",
            "[  850/ 1749 ( 49%)]  Loss: 0.0003\n",
            "[  900/ 1749 ( 51%)]  Loss: 0.0000\n",
            "[  950/ 1749 ( 54%)]  Loss: 0.0000\n",
            "[ 1000/ 1749 ( 57%)]  Loss: 0.0019\n",
            "[ 1050/ 1749 ( 60%)]  Loss: 0.0032\n",
            "[ 1100/ 1749 ( 63%)]  Loss: 0.0002\n",
            "[ 1150/ 1749 ( 66%)]  Loss: 0.0000\n",
            "[ 1200/ 1749 ( 69%)]  Loss: 0.0000\n",
            "[ 1250/ 1749 ( 71%)]  Loss: 0.0000\n",
            "[ 1300/ 1749 ( 74%)]  Loss: 0.0000\n",
            "[ 1350/ 1749 ( 77%)]  Loss: 0.0000\n",
            "[ 1400/ 1749 ( 80%)]  Loss: 0.0001\n",
            "[ 1450/ 1749 ( 83%)]  Loss: 0.0000\n",
            "[ 1500/ 1749 ( 86%)]  Loss: 0.0000\n",
            "[ 1550/ 1749 ( 89%)]  Loss: 0.0000\n",
            "[ 1600/ 1749 ( 91%)]  Loss: 0.0000\n",
            "[ 1650/ 1749 ( 94%)]  Loss: 0.0000\n",
            "[ 1700/ 1749 ( 97%)]  Loss: 0.0000\n",
            "Epoch: 12\n",
            "[    0/ 1749 (  0%)]  Loss: 0.0004\n",
            "[   50/ 1749 (  3%)]  Loss: 0.0000\n",
            "[  100/ 1749 (  6%)]  Loss: 0.0021\n",
            "[  150/ 1749 (  9%)]  Loss: 0.0000\n",
            "[  200/ 1749 ( 11%)]  Loss: 0.0038\n",
            "[  250/ 1749 ( 14%)]  Loss: 0.0000\n",
            "[  300/ 1749 ( 17%)]  Loss: 0.0013\n",
            "[  350/ 1749 ( 20%)]  Loss: 0.0027\n",
            "[  400/ 1749 ( 23%)]  Loss: 0.0000\n",
            "[  450/ 1749 ( 26%)]  Loss: 0.0001\n",
            "[  500/ 1749 ( 29%)]  Loss: 0.0000\n",
            "[  550/ 1749 ( 31%)]  Loss: 0.0000\n",
            "[  600/ 1749 ( 34%)]  Loss: 0.0000\n",
            "[  650/ 1749 ( 37%)]  Loss: 0.0000\n",
            "[  700/ 1749 ( 40%)]  Loss: 0.0000\n",
            "[  750/ 1749 ( 43%)]  Loss: 0.0000\n",
            "[  800/ 1749 ( 46%)]  Loss: 0.0000\n",
            "[  850/ 1749 ( 49%)]  Loss: 0.0000\n",
            "[  900/ 1749 ( 51%)]  Loss: 0.0004\n",
            "[  950/ 1749 ( 54%)]  Loss: 0.0002\n",
            "[ 1000/ 1749 ( 57%)]  Loss: 0.0000\n",
            "[ 1050/ 1749 ( 60%)]  Loss: 0.0001\n",
            "[ 1100/ 1749 ( 63%)]  Loss: 0.0000\n",
            "[ 1150/ 1749 ( 66%)]  Loss: 0.0000\n",
            "[ 1200/ 1749 ( 69%)]  Loss: 0.0001\n",
            "[ 1250/ 1749 ( 71%)]  Loss: 0.0000\n",
            "[ 1300/ 1749 ( 74%)]  Loss: 0.0010\n",
            "[ 1350/ 1749 ( 77%)]  Loss: 0.0000\n",
            "[ 1400/ 1749 ( 80%)]  Loss: 0.0000\n",
            "[ 1450/ 1749 ( 83%)]  Loss: 0.0000\n",
            "[ 1500/ 1749 ( 86%)]  Loss: 0.0000\n",
            "[ 1550/ 1749 ( 89%)]  Loss: 0.0000\n",
            "[ 1600/ 1749 ( 91%)]  Loss: 0.0006\n",
            "[ 1650/ 1749 ( 94%)]  Loss: 0.0000\n",
            "[ 1700/ 1749 ( 97%)]  Loss: 0.0000\n",
            "Training Execution time: 17447.35 seconds\n"
          ]
        }
      ],
      "source": [
        "N_EPOCHS = 12\n",
        "# สร้างโมเดล MoViNet\n",
        "model_A4 = MoViNet(_C.MODEL.MoViNetA4, causal=False, pretrained=True)\n",
        "start_time = time.time()\n",
        "\n",
        "# เตรียม list เพื่อเก็บค่า loss ของการฝึกอบรม\n",
        "trloss_val, tsloss_val = [], []\n",
        "\n",
        "# ปรับแต่งชั้น classifier ของโมเดล\n",
        "model_A4.classifier[3] = torch.nn.Conv3d(2048, 8, (1, 1, 1))\n",
        "\n",
        "# กำหนด optimizer\n",
        "optimizer = optim.Adam(model_A4.parameters(), lr=0.00005)\n",
        "\n",
        "# วน loop ตามจำนวน epoch ที่กำหนด\n",
        "for epoch in range(1, N_EPOCHS + 1):\n",
        "    print('Epoch:', epoch)\n",
        "\n",
        "    # ทำการฝึกอบรมและบันทึกค่า loss\n",
        "    loss = train_iter(model_A4, optimizer, train_loader_A4, trloss_val)\n",
        "\n",
        "    # บันทึก checkpoint\n",
        "    checkpoint_path = 'A4_yoru+habor_checkpoint_epoch_round1{}.pth'.format(epoch)\n",
        "    torch.save({\n",
        "        'epoch': epoch,\n",
        "        'model_state_dict': model_A4.state_dict(),\n",
        "        'optimizer_state_dict': optimizer.state_dict(),\n",
        "        'loss': loss,\n",
        "    }, checkpoint_path)\n",
        "\n",
        "    # บันทึกโมเดลสุดท้าย\n",
        "    if epoch == N_EPOCHS:\n",
        "        torch.save(model_A4.state_dict(), 'A4_yoru+habor_8class_yoru_Checkpoint_round1.pth')\n",
        "\n",
        "print('Training Execution time:', '{:5.2f}'.format(time.time() - start_time), 'seconds')\n"
      ]
    },
    {
      "cell_type": "code",
      "execution_count": null,
      "metadata": {
        "colab": {
          "background_save": true
        },
        "id": "xq8-AdKicLe7",
        "outputId": "4e42898c-b659-4d29-81a8-a834f41436b8"
      },
      "outputs": [
        {
          "data": {
            "image/png": "[encoded data removed]",
            "text/plain": [
              "<Figure size 640x480 with 1 Axes>"
            ]
          },
          "metadata": {},
          "output_type": "display_data"
        }
      ],
      "source": [
        "import matplotlib.pyplot as plt\n",
        "N_EPOCHS = len(trloss_val)\n",
        "\n",
        "# Plotting the training loss\n",
        "plt.plot(range(1, N_EPOCHS + 1), trloss_val, label='Training Loss')\n",
        "\n",
        "# Adding labels and title\n",
        "plt.xlabel('Epoch')\n",
        "plt.ylabel('Loss')\n",
        "plt.title('Training Loss Over Epochs')\n",
        "\n",
        "# Adding a legend\n",
        "plt.legend()\n",
        "\n",
        "# Display the plot\n",
        "plt.show()\n"
      ]
    },
    {
      "cell_type": "markdown",
      "metadata": {
        "id": "TSvsW1b7YHGc"
      },
      "source": [
        "###Movinet with  No stream Buffer Checkpoint (ใช้อันนี้เทรน) A5\n"
      ]
    },
    {
      "cell_type": "code",
      "execution_count": null,
      "metadata": {
        "colab": {
          "base_uri": "https://localhost:8080/"
        },
        "id": "IO1w8o4tYJk8",
        "outputId": "790a98a9-1ef0-40a1-800d-cf51554f9473"
      },
      "outputs": [
        {
          "name": "stdout",
          "output_type": "stream",
          "text": [
            "Epoch: 1\n",
            "[    0/ 1480 (  0%)]  Loss: 2.0567\n",
            "[   50/ 1480 (  3%)]  Loss: 2.0422\n",
            "[  100/ 1480 (  7%)]  Loss: 2.1074\n",
            "[  150/ 1480 ( 10%)]  Loss: 2.0621\n",
            "[  200/ 1480 ( 14%)]  Loss: 1.9419\n",
            "[  250/ 1480 ( 17%)]  Loss: 1.9349\n",
            "[  300/ 1480 ( 20%)]  Loss: 1.5538\n",
            "[  350/ 1480 ( 24%)]  Loss: 1.7887\n",
            "[  400/ 1480 ( 27%)]  Loss: 0.3664\n",
            "[  450/ 1480 ( 30%)]  Loss: 1.2976\n",
            "[  500/ 1480 ( 34%)]  Loss: 1.4335\n",
            "[  550/ 1480 ( 37%)]  Loss: 1.6296\n",
            "[  600/ 1480 ( 41%)]  Loss: 0.8311\n",
            "[  650/ 1480 ( 44%)]  Loss: 1.3224\n",
            "[  700/ 1480 ( 47%)]  Loss: 0.8487\n",
            "[  750/ 1480 ( 51%)]  Loss: 0.8568\n",
            "[  800/ 1480 ( 54%)]  Loss: 0.2422\n",
            "[  850/ 1480 ( 57%)]  Loss: 0.1600\n",
            "[  900/ 1480 ( 61%)]  Loss: 0.0897\n",
            "[  950/ 1480 ( 64%)]  Loss: 0.0751\n",
            "[ 1000/ 1480 ( 68%)]  Loss: 3.7138\n",
            "[ 1050/ 1480 ( 71%)]  Loss: 0.1478\n",
            "[ 1100/ 1480 ( 74%)]  Loss: 0.0362\n",
            "[ 1150/ 1480 ( 78%)]  Loss: 0.0451\n",
            "[ 1200/ 1480 ( 81%)]  Loss: 0.1184\n",
            "[ 1250/ 1480 ( 84%)]  Loss: 4.6249\n",
            "[ 1300/ 1480 ( 88%)]  Loss: 1.0877\n",
            "[ 1350/ 1480 ( 91%)]  Loss: 0.9409\n",
            "[ 1400/ 1480 ( 95%)]  Loss: 0.5884\n",
            "[ 1450/ 1480 ( 98%)]  Loss: 0.3011\n",
            "Epoch: 2\n",
            "[    0/ 1480 (  0%)]  Loss: 0.0174\n",
            "[   50/ 1480 (  3%)]  Loss: 0.0240\n",
            "[  100/ 1480 (  7%)]  Loss: 0.7127\n",
            "[  150/ 1480 ( 10%)]  Loss: 0.0389\n",
            "[  200/ 1480 ( 14%)]  Loss: 0.1232\n",
            "[  250/ 1480 ( 17%)]  Loss: 0.5970\n",
            "[  300/ 1480 ( 20%)]  Loss: 0.0129\n",
            "[  350/ 1480 ( 24%)]  Loss: 0.0124\n",
            "[  400/ 1480 ( 27%)]  Loss: 0.0253\n",
            "[  450/ 1480 ( 30%)]  Loss: 0.0072\n",
            "[  500/ 1480 ( 34%)]  Loss: 0.5583\n",
            "[  550/ 1480 ( 37%)]  Loss: 0.0127\n",
            "[  600/ 1480 ( 41%)]  Loss: 0.3533\n",
            "[  650/ 1480 ( 44%)]  Loss: 0.9095\n",
            "[  700/ 1480 ( 47%)]  Loss: 0.6513\n",
            "[  750/ 1480 ( 51%)]  Loss: 0.7334\n",
            "[  800/ 1480 ( 54%)]  Loss: 0.0195\n",
            "[  850/ 1480 ( 57%)]  Loss: 0.0229\n",
            "[  900/ 1480 ( 61%)]  Loss: 0.3295\n",
            "[  950/ 1480 ( 64%)]  Loss: 0.0085\n",
            "[ 1000/ 1480 ( 68%)]  Loss: 0.0163\n",
            "[ 1050/ 1480 ( 71%)]  Loss: 0.0103\n",
            "[ 1100/ 1480 ( 74%)]  Loss: 0.1535\n",
            "[ 1150/ 1480 ( 78%)]  Loss: 0.0088\n",
            "[ 1200/ 1480 ( 81%)]  Loss: 0.0067\n",
            "[ 1250/ 1480 ( 84%)]  Loss: 0.4129\n",
            "[ 1300/ 1480 ( 88%)]  Loss: 0.0120\n",
            "[ 1350/ 1480 ( 91%)]  Loss: 1.4772\n",
            "[ 1400/ 1480 ( 95%)]  Loss: 0.0070\n",
            "[ 1450/ 1480 ( 98%)]  Loss: 0.0057\n",
            "Epoch: 3\n",
            "[    0/ 1480 (  0%)]  Loss: 0.1518\n",
            "[   50/ 1480 (  3%)]  Loss: 0.1765\n",
            "[  100/ 1480 (  7%)]  Loss: 0.1883\n",
            "[  150/ 1480 ( 10%)]  Loss: 0.0025\n",
            "[  200/ 1480 ( 14%)]  Loss: 0.0052\n",
            "[  250/ 1480 ( 17%)]  Loss: 0.3218\n",
            "[  300/ 1480 ( 20%)]  Loss: 0.0024\n",
            "[  350/ 1480 ( 24%)]  Loss: 0.0219\n",
            "[  400/ 1480 ( 27%)]  Loss: 0.0045\n",
            "[  450/ 1480 ( 30%)]  Loss: 0.0104\n",
            "[  500/ 1480 ( 34%)]  Loss: 0.3508\n",
            "[  550/ 1480 ( 37%)]  Loss: 0.0041\n",
            "[  600/ 1480 ( 41%)]  Loss: 0.0089\n",
            "[  650/ 1480 ( 44%)]  Loss: 0.0016\n",
            "[  700/ 1480 ( 47%)]  Loss: 0.0030\n",
            "[  750/ 1480 ( 51%)]  Loss: 0.2586\n",
            "[  800/ 1480 ( 54%)]  Loss: 0.5222\n",
            "[  850/ 1480 ( 57%)]  Loss: 0.0014\n",
            "[  900/ 1480 ( 61%)]  Loss: 0.0767\n",
            "[  950/ 1480 ( 64%)]  Loss: 0.2580\n",
            "[ 1000/ 1480 ( 68%)]  Loss: 0.0011\n",
            "[ 1050/ 1480 ( 71%)]  Loss: 0.0005\n",
            "[ 1100/ 1480 ( 74%)]  Loss: 0.0025\n",
            "[ 1150/ 1480 ( 78%)]  Loss: 0.0008\n",
            "[ 1200/ 1480 ( 81%)]  Loss: 0.0624\n",
            "[ 1250/ 1480 ( 84%)]  Loss: 0.0437\n",
            "[ 1300/ 1480 ( 88%)]  Loss: 0.0983\n",
            "[ 1350/ 1480 ( 91%)]  Loss: 0.0066\n",
            "[ 1400/ 1480 ( 95%)]  Loss: 0.0015\n",
            "[ 1450/ 1480 ( 98%)]  Loss: 0.0003\n",
            "Epoch: 4\n",
            "[    0/ 1480 (  0%)]  Loss: 0.7672\n",
            "[   50/ 1480 (  3%)]  Loss: 0.0208\n",
            "[  100/ 1480 (  7%)]  Loss: 0.0736\n",
            "[  150/ 1480 ( 10%)]  Loss: 0.0012\n",
            "[  200/ 1480 ( 14%)]  Loss: 0.0521\n",
            "[  250/ 1480 ( 17%)]  Loss: 0.0037\n",
            "[  300/ 1480 ( 20%)]  Loss: 0.0021\n",
            "[  350/ 1480 ( 24%)]  Loss: 0.0188\n",
            "[  400/ 1480 ( 27%)]  Loss: 0.0148\n",
            "[  450/ 1480 ( 30%)]  Loss: 0.0042\n",
            "[  500/ 1480 ( 34%)]  Loss: 0.0008\n",
            "[  550/ 1480 ( 37%)]  Loss: 0.0025\n",
            "[  600/ 1480 ( 41%)]  Loss: 0.0005\n",
            "[  650/ 1480 ( 44%)]  Loss: 0.0778\n",
            "[  700/ 1480 ( 47%)]  Loss: 0.0575\n",
            "[  750/ 1480 ( 51%)]  Loss: 0.0157\n",
            "[  800/ 1480 ( 54%)]  Loss: 0.0107\n",
            "[  850/ 1480 ( 57%)]  Loss: 0.0005\n",
            "[  900/ 1480 ( 61%)]  Loss: 0.0021\n",
            "[  950/ 1480 ( 64%)]  Loss: 0.0042\n",
            "[ 1000/ 1480 ( 68%)]  Loss: 0.0276\n",
            "[ 1050/ 1480 ( 71%)]  Loss: 0.0476\n",
            "[ 1100/ 1480 ( 74%)]  Loss: 0.0004\n",
            "[ 1150/ 1480 ( 78%)]  Loss: 0.0868\n",
            "[ 1200/ 1480 ( 81%)]  Loss: 0.0003\n",
            "[ 1250/ 1480 ( 84%)]  Loss: 0.0020\n",
            "[ 1300/ 1480 ( 88%)]  Loss: 0.0006\n",
            "[ 1350/ 1480 ( 91%)]  Loss: 0.0017\n",
            "[ 1400/ 1480 ( 95%)]  Loss: 0.4813\n",
            "[ 1450/ 1480 ( 98%)]  Loss: 0.0017\n",
            "Epoch: 5\n",
            "[    0/ 1480 (  0%)]  Loss: 0.0011\n",
            "[   50/ 1480 (  3%)]  Loss: 0.0028\n",
            "[  100/ 1480 (  7%)]  Loss: 0.0002\n",
            "[  150/ 1480 ( 10%)]  Loss: 0.0006\n",
            "[  200/ 1480 ( 14%)]  Loss: 0.0046\n",
            "[  250/ 1480 ( 17%)]  Loss: 0.0003\n",
            "[  300/ 1480 ( 20%)]  Loss: 0.0004\n",
            "[  350/ 1480 ( 24%)]  Loss: 0.0036\n",
            "[  400/ 1480 ( 27%)]  Loss: 0.0002\n",
            "[  450/ 1480 ( 30%)]  Loss: 0.0385\n",
            "[  500/ 1480 ( 34%)]  Loss: 0.0005\n",
            "[  550/ 1480 ( 37%)]  Loss: 0.0004\n",
            "[  600/ 1480 ( 41%)]  Loss: 0.0007\n",
            "[  650/ 1480 ( 44%)]  Loss: 0.0014\n",
            "[  700/ 1480 ( 47%)]  Loss: 0.0014\n",
            "[  750/ 1480 ( 51%)]  Loss: 0.0056\n",
            "[  800/ 1480 ( 54%)]  Loss: 0.0002\n",
            "[  850/ 1480 ( 57%)]  Loss: 0.0200\n",
            "[  900/ 1480 ( 61%)]  Loss: 0.0021\n",
            "[  950/ 1480 ( 64%)]  Loss: 0.0003\n",
            "[ 1000/ 1480 ( 68%)]  Loss: 0.0007\n",
            "[ 1050/ 1480 ( 71%)]  Loss: 0.0002\n",
            "[ 1100/ 1480 ( 74%)]  Loss: 0.0001\n",
            "[ 1150/ 1480 ( 78%)]  Loss: 0.0001\n",
            "[ 1200/ 1480 ( 81%)]  Loss: 0.0002\n",
            "[ 1250/ 1480 ( 84%)]  Loss: 0.0460\n",
            "[ 1300/ 1480 ( 88%)]  Loss: 0.0078\n",
            "[ 1350/ 1480 ( 91%)]  Loss: 0.0006\n",
            "[ 1400/ 1480 ( 95%)]  Loss: 0.0002\n",
            "[ 1450/ 1480 ( 98%)]  Loss: 0.0007\n",
            "Epoch: 6\n",
            "[    0/ 1480 (  0%)]  Loss: 0.0002\n",
            "[   50/ 1480 (  3%)]  Loss: 0.0035\n",
            "[  100/ 1480 (  7%)]  Loss: 0.0013\n",
            "[  150/ 1480 ( 10%)]  Loss: 0.0002\n",
            "[  200/ 1480 ( 14%)]  Loss: 0.0028\n",
            "[  250/ 1480 ( 17%)]  Loss: 0.0001\n",
            "[  300/ 1480 ( 20%)]  Loss: 0.0001\n",
            "[  350/ 1480 ( 24%)]  Loss: 0.0005\n",
            "[  400/ 1480 ( 27%)]  Loss: 0.0002\n",
            "[  450/ 1480 ( 30%)]  Loss: 0.0001\n",
            "[  500/ 1480 ( 34%)]  Loss: 1.1259\n",
            "[  550/ 1480 ( 37%)]  Loss: 0.0055\n",
            "[  600/ 1480 ( 41%)]  Loss: 0.0051\n",
            "[  650/ 1480 ( 44%)]  Loss: 0.0010\n",
            "[  700/ 1480 ( 47%)]  Loss: 0.0001\n",
            "[  750/ 1480 ( 51%)]  Loss: 0.0003\n",
            "[  800/ 1480 ( 54%)]  Loss: 0.0001\n",
            "[  850/ 1480 ( 57%)]  Loss: 0.0001\n",
            "[  900/ 1480 ( 61%)]  Loss: 0.0002\n",
            "[  950/ 1480 ( 64%)]  Loss: 0.0001\n",
            "[ 1000/ 1480 ( 68%)]  Loss: 0.0010\n",
            "[ 1050/ 1480 ( 71%)]  Loss: 0.0007\n",
            "[ 1100/ 1480 ( 74%)]  Loss: 0.0119\n",
            "[ 1150/ 1480 ( 78%)]  Loss: 0.0003\n",
            "[ 1200/ 1480 ( 81%)]  Loss: 0.0055\n",
            "[ 1250/ 1480 ( 84%)]  Loss: 0.0001\n",
            "[ 1300/ 1480 ( 88%)]  Loss: 0.0005\n",
            "[ 1350/ 1480 ( 91%)]  Loss: 0.0040\n",
            "[ 1400/ 1480 ( 95%)]  Loss: 0.0003\n",
            "[ 1450/ 1480 ( 98%)]  Loss: 0.0146\n",
            "Epoch: 7\n",
            "[    0/ 1480 (  0%)]  Loss: 0.0014\n",
            "[   50/ 1480 (  3%)]  Loss: 0.0061\n",
            "[  100/ 1480 (  7%)]  Loss: 0.0041\n",
            "[  150/ 1480 ( 10%)]  Loss: 0.0007\n",
            "[  200/ 1480 ( 14%)]  Loss: 0.0053\n",
            "[  250/ 1480 ( 17%)]  Loss: 0.0964\n",
            "[  300/ 1480 ( 20%)]  Loss: 0.0016\n",
            "[  350/ 1480 ( 24%)]  Loss: 0.0023\n",
            "[  400/ 1480 ( 27%)]  Loss: 0.0000\n",
            "[  450/ 1480 ( 30%)]  Loss: 0.0001\n",
            "[  500/ 1480 ( 34%)]  Loss: 0.0001\n",
            "[  550/ 1480 ( 37%)]  Loss: 0.0002\n",
            "[  600/ 1480 ( 41%)]  Loss: 0.0001\n",
            "[  650/ 1480 ( 44%)]  Loss: 0.0001\n",
            "[  700/ 1480 ( 47%)]  Loss: 0.0000\n",
            "[  750/ 1480 ( 51%)]  Loss: 0.0000\n",
            "[  800/ 1480 ( 54%)]  Loss: 0.0006\n",
            "[  850/ 1480 ( 57%)]  Loss: 0.1457\n",
            "[  900/ 1480 ( 61%)]  Loss: 0.0008\n",
            "[  950/ 1480 ( 64%)]  Loss: 0.0000\n",
            "[ 1000/ 1480 ( 68%)]  Loss: 0.0001\n",
            "[ 1050/ 1480 ( 71%)]  Loss: 0.0002\n",
            "[ 1100/ 1480 ( 74%)]  Loss: 0.0051\n",
            "[ 1150/ 1480 ( 78%)]  Loss: 0.0000\n",
            "[ 1200/ 1480 ( 81%)]  Loss: 0.0008\n",
            "[ 1250/ 1480 ( 84%)]  Loss: 0.0033\n",
            "[ 1300/ 1480 ( 88%)]  Loss: 0.0026\n",
            "[ 1350/ 1480 ( 91%)]  Loss: 0.0044\n",
            "[ 1400/ 1480 ( 95%)]  Loss: 0.0004\n",
            "[ 1450/ 1480 ( 98%)]  Loss: 0.0014\n",
            "Epoch: 8\n",
            "[    0/ 1480 (  0%)]  Loss: 0.0015\n",
            "[   50/ 1480 (  3%)]  Loss: 0.0025\n",
            "[  100/ 1480 (  7%)]  Loss: 0.0005\n",
            "[  150/ 1480 ( 10%)]  Loss: 0.0020\n",
            "[  200/ 1480 ( 14%)]  Loss: 0.0023\n",
            "[  250/ 1480 ( 17%)]  Loss: 0.0001\n",
            "[  300/ 1480 ( 20%)]  Loss: 0.0001\n",
            "[  350/ 1480 ( 24%)]  Loss: 0.0003\n",
            "[  400/ 1480 ( 27%)]  Loss: 0.0025\n",
            "[  450/ 1480 ( 30%)]  Loss: 0.0005\n",
            "[  500/ 1480 ( 34%)]  Loss: 0.0000\n",
            "[  550/ 1480 ( 37%)]  Loss: 0.0001\n",
            "[  600/ 1480 ( 41%)]  Loss: 0.0001\n",
            "[  650/ 1480 ( 44%)]  Loss: 0.0002\n",
            "[  700/ 1480 ( 47%)]  Loss: 0.0010\n",
            "[  750/ 1480 ( 51%)]  Loss: 0.0003\n",
            "[  800/ 1480 ( 54%)]  Loss: 0.0001\n",
            "[  850/ 1480 ( 57%)]  Loss: 0.0001\n",
            "[  900/ 1480 ( 61%)]  Loss: 0.0004\n",
            "[  950/ 1480 ( 64%)]  Loss: 0.0002\n",
            "[ 1000/ 1480 ( 68%)]  Loss: 0.0001\n",
            "[ 1050/ 1480 ( 71%)]  Loss: 0.0003\n",
            "[ 1100/ 1480 ( 74%)]  Loss: 0.0001\n",
            "[ 1150/ 1480 ( 78%)]  Loss: 0.0035\n",
            "[ 1200/ 1480 ( 81%)]  Loss: 0.0001\n",
            "[ 1250/ 1480 ( 84%)]  Loss: 0.0001\n",
            "[ 1300/ 1480 ( 88%)]  Loss: 0.0001\n",
            "[ 1350/ 1480 ( 91%)]  Loss: 0.0000\n",
            "[ 1400/ 1480 ( 95%)]  Loss: 0.0006\n",
            "[ 1450/ 1480 ( 98%)]  Loss: 0.0531\n",
            "Epoch: 9\n",
            "[    0/ 1480 (  0%)]  Loss: 1.0539\n",
            "[   50/ 1480 (  3%)]  Loss: 0.0001\n",
            "[  100/ 1480 (  7%)]  Loss: 0.0000\n",
            "[  150/ 1480 ( 10%)]  Loss: 0.0000\n",
            "[  200/ 1480 ( 14%)]  Loss: 0.0000\n",
            "[  250/ 1480 ( 17%)]  Loss: 0.0000\n",
            "[  300/ 1480 ( 20%)]  Loss: 0.0000\n",
            "[  350/ 1480 ( 24%)]  Loss: 0.0001\n",
            "[  400/ 1480 ( 27%)]  Loss: 0.0001\n",
            "[  450/ 1480 ( 30%)]  Loss: 0.0002\n",
            "[  500/ 1480 ( 34%)]  Loss: 0.0000\n",
            "[  550/ 1480 ( 37%)]  Loss: 0.0002\n",
            "[  600/ 1480 ( 41%)]  Loss: 0.0002\n",
            "[  650/ 1480 ( 44%)]  Loss: 0.0000\n",
            "[  700/ 1480 ( 47%)]  Loss: 0.0000\n",
            "[  750/ 1480 ( 51%)]  Loss: 0.0027\n",
            "[  800/ 1480 ( 54%)]  Loss: 0.0001\n",
            "[  850/ 1480 ( 57%)]  Loss: 0.0006\n",
            "[  900/ 1480 ( 61%)]  Loss: 0.0037\n",
            "[  950/ 1480 ( 64%)]  Loss: 0.0012\n",
            "[ 1000/ 1480 ( 68%)]  Loss: 0.0000\n",
            "[ 1050/ 1480 ( 71%)]  Loss: 0.0001\n",
            "[ 1100/ 1480 ( 74%)]  Loss: 0.0048\n",
            "[ 1150/ 1480 ( 78%)]  Loss: 0.0017\n",
            "[ 1200/ 1480 ( 81%)]  Loss: 0.0052\n",
            "[ 1250/ 1480 ( 84%)]  Loss: 0.3737\n",
            "[ 1300/ 1480 ( 88%)]  Loss: 0.0001\n",
            "[ 1350/ 1480 ( 91%)]  Loss: 0.0002\n",
            "[ 1400/ 1480 ( 95%)]  Loss: 0.0012\n",
            "[ 1450/ 1480 ( 98%)]  Loss: 0.0003\n",
            "Epoch: 10\n",
            "[    0/ 1480 (  0%)]  Loss: 0.0001\n",
            "[   50/ 1480 (  3%)]  Loss: 0.0000\n",
            "[  100/ 1480 (  7%)]  Loss: 0.0001\n",
            "[  150/ 1480 ( 10%)]  Loss: 0.0073\n",
            "[  200/ 1480 ( 14%)]  Loss: 0.0007\n",
            "[  250/ 1480 ( 17%)]  Loss: 0.0001\n",
            "[  300/ 1480 ( 20%)]  Loss: 0.0003\n",
            "[  350/ 1480 ( 24%)]  Loss: 0.0002\n",
            "[  400/ 1480 ( 27%)]  Loss: 0.0000\n",
            "[  450/ 1480 ( 30%)]  Loss: 0.0003\n",
            "[  500/ 1480 ( 34%)]  Loss: 0.0000\n",
            "[  550/ 1480 ( 37%)]  Loss: 0.0000\n",
            "[  600/ 1480 ( 41%)]  Loss: 0.0025\n",
            "[  650/ 1480 ( 44%)]  Loss: 0.0001\n",
            "[  700/ 1480 ( 47%)]  Loss: 0.0009\n",
            "[  750/ 1480 ( 51%)]  Loss: 0.0002\n",
            "[  800/ 1480 ( 54%)]  Loss: 0.0030\n",
            "[  850/ 1480 ( 57%)]  Loss: 0.0000\n",
            "[  900/ 1480 ( 61%)]  Loss: 0.0032\n",
            "[  950/ 1480 ( 64%)]  Loss: 0.0003\n",
            "[ 1000/ 1480 ( 68%)]  Loss: 0.0004\n",
            "[ 1050/ 1480 ( 71%)]  Loss: 0.0368\n",
            "[ 1100/ 1480 ( 74%)]  Loss: 0.0223\n",
            "[ 1150/ 1480 ( 78%)]  Loss: 0.0000\n",
            "[ 1200/ 1480 ( 81%)]  Loss: 0.0006\n",
            "[ 1250/ 1480 ( 84%)]  Loss: 0.0000\n",
            "[ 1300/ 1480 ( 88%)]  Loss: 0.0002\n",
            "[ 1350/ 1480 ( 91%)]  Loss: 0.7901\n",
            "[ 1400/ 1480 ( 95%)]  Loss: 0.0000\n",
            "[ 1450/ 1480 ( 98%)]  Loss: 0.0004\n",
            "Epoch: 11\n",
            "[    0/ 1480 (  0%)]  Loss: 0.0001\n",
            "[   50/ 1480 (  3%)]  Loss: 0.0000\n",
            "[  100/ 1480 (  7%)]  Loss: 0.0001\n",
            "[  150/ 1480 ( 10%)]  Loss: 0.0004\n",
            "[  200/ 1480 ( 14%)]  Loss: 0.0004\n",
            "[  250/ 1480 ( 17%)]  Loss: 0.0000\n",
            "[  300/ 1480 ( 20%)]  Loss: 0.0006\n",
            "[  350/ 1480 ( 24%)]  Loss: 0.0007\n",
            "[  400/ 1480 ( 27%)]  Loss: 0.0001\n",
            "[  450/ 1480 ( 30%)]  Loss: 0.0062\n",
            "[  500/ 1480 ( 34%)]  Loss: 0.0003\n",
            "[  550/ 1480 ( 37%)]  Loss: 0.0001\n",
            "[  600/ 1480 ( 41%)]  Loss: 0.0723\n",
            "[  650/ 1480 ( 44%)]  Loss: 0.0002\n",
            "[  700/ 1480 ( 47%)]  Loss: 0.0000\n",
            "[  750/ 1480 ( 51%)]  Loss: 0.0003\n",
            "[  800/ 1480 ( 54%)]  Loss: 0.0003\n",
            "[  850/ 1480 ( 57%)]  Loss: 0.0000\n",
            "[  900/ 1480 ( 61%)]  Loss: 0.0003\n",
            "[  950/ 1480 ( 64%)]  Loss: 0.0000\n",
            "[ 1000/ 1480 ( 68%)]  Loss: 0.0002\n",
            "[ 1050/ 1480 ( 71%)]  Loss: 0.0007\n",
            "[ 1100/ 1480 ( 74%)]  Loss: 0.0003\n",
            "[ 1150/ 1480 ( 78%)]  Loss: 0.0014\n",
            "[ 1200/ 1480 ( 81%)]  Loss: 0.0002\n",
            "[ 1250/ 1480 ( 84%)]  Loss: 0.0004\n",
            "[ 1300/ 1480 ( 88%)]  Loss: 0.2160\n",
            "[ 1350/ 1480 ( 91%)]  Loss: 0.0001\n",
            "[ 1400/ 1480 ( 95%)]  Loss: 0.0000\n",
            "[ 1450/ 1480 ( 98%)]  Loss: 0.0248\n",
            "Epoch: 12\n",
            "[    0/ 1480 (  0%)]  Loss: 0.0000\n",
            "[   50/ 1480 (  3%)]  Loss: 0.0000\n",
            "[  100/ 1480 (  7%)]  Loss: 0.0025\n",
            "[  150/ 1480 ( 10%)]  Loss: 0.0001\n",
            "[  200/ 1480 ( 14%)]  Loss: 0.0471\n",
            "[  250/ 1480 ( 17%)]  Loss: 0.0002\n",
            "[  300/ 1480 ( 20%)]  Loss: 0.0008\n",
            "[  350/ 1480 ( 24%)]  Loss: 0.0013\n",
            "[  400/ 1480 ( 27%)]  Loss: 0.0000\n",
            "[  450/ 1480 ( 30%)]  Loss: 0.0000\n",
            "[  500/ 1480 ( 34%)]  Loss: 0.0002\n",
            "[  550/ 1480 ( 37%)]  Loss: 0.0010\n",
            "[  650/ 1480 ( 44%)]  Loss: 0.0000\n",
            "[  700/ 1480 ( 47%)]  Loss: 0.0001\n",
            "[  750/ 1480 ( 51%)]  Loss: 0.0000\n",
            "[  800/ 1480 ( 54%)]  Loss: 0.0397\n",
            "[  850/ 1480 ( 57%)]  Loss: 0.0005\n",
            "[  900/ 1480 ( 61%)]  Loss: 0.0000\n",
            "[  950/ 1480 ( 64%)]  Loss: 0.0001\n",
            "[ 1000/ 1480 ( 68%)]  Loss: 0.0001\n",
            "[ 1050/ 1480 ( 71%)]  Loss: 0.3713\n",
            "[ 1100/ 1480 ( 74%)]  Loss: 0.0008\n",
            "[ 1150/ 1480 ( 78%)]  Loss: 0.0000\n",
            "[ 1200/ 1480 ( 81%)]  Loss: 0.0006\n",
            "[ 1250/ 1480 ( 84%)]  Loss: 0.0003\n",
            "[ 1300/ 1480 ( 88%)]  Loss: 0.0006\n",
            "[ 1350/ 1480 ( 91%)]  Loss: 0.0001\n",
            "[ 1400/ 1480 ( 95%)]  Loss: 0.0000\n",
            "[ 1450/ 1480 ( 98%)]  Loss: 0.2650\n",
            "Training Execution time: 17148.32 seconds\n"
          ]
        }
      ],
      "source": [
        "N_EPOCHS = 12\n",
        "# สร้างโมเดล MoViNet\n",
        "model_A5 = MoViNet(_C.MODEL.MoViNetA5, causal=False, pretrained=True)\n",
        "start_time = time.time()\n",
        "\n",
        "# เตรียม list เพื่อเก็บค่า loss ของการฝึกอบรม\n",
        "trloss_val, tsloss_val = [], []\n",
        "\n",
        "# ปรับแต่งชั้น classifier ของโมเดล\n",
        "model_A5.classifier[3] = torch.nn.Conv3d(2048, 8, (1, 1, 1))\n",
        "\n",
        "# กำหนด optimizer\n",
        "optimizer = optim.Adam(model_A5.parameters(), lr=0.00005)\n",
        "\n",
        "# วน loop ตามจำนวน epoch ที่กำหนด\n",
        "for epoch in range(1, N_EPOCHS + 1):\n",
        "    print('Epoch:', epoch)\n",
        "\n",
        "    # ทำการฝึกอบรมและบันทึกค่า loss\n",
        "    loss = train_iter(model_A5, optimizer, train_loader_A5, trloss_val)\n",
        "\n",
        "    # บันทึก checkpoint\n",
        "    checkpoint_path = 'A5_yoru+habor_3_Checkpoint_epoch_round1{}.pth'.format(epoch)\n",
        "    torch.save({\n",
        "        'epoch': epoch,\n",
        "        'model_state_dict': model_A5.state_dict(),\n",
        "        'optimizer_state_dict': optimizer.state_dict(),\n",
        "        'loss': loss,\n",
        "    }, checkpoint_path)\n",
        "\n",
        "    # บันทึกโมเดลสุดท้าย\n",
        "    if epoch == N_EPOCHS:\n",
        "        torch.save(model_A5.state_dict(), 'A5_yoru+habor_3_Checkpoint_round1.pth')\n",
        "\n",
        "print('Training Execution time:', '{:5.2f}'.format(time.time() - start_time), 'seconds')\n"
      ]
    },
    {
      "cell_type": "code",
      "execution_count": null,
      "metadata": {
        "colab": {
          "base_uri": "https://localhost:8080/",
          "height": 472
        },
        "id": "TxUaZOqnYSIx",
        "outputId": "e0d392e3-c17c-4899-e41f-044df483e4be"
      },
      "outputs": [
        {
          "data": {
            "image/png": "[encoded data removed]",
            "text/plain": [
              "<Figure size 640x480 with 1 Axes>"
            ]
          },
          "metadata": {},
          "output_type": "display_data"
        }
      ],
      "source": [
        "import matplotlib.pyplot as plt\n",
        "N_EPOCHS = len(trloss_val)\n",
        "\n",
        "# Plotting the training loss\n",
        "plt.plot(range(1, N_EPOCHS + 1), trloss_val, label='Training Loss')\n",
        "\n",
        "# Adding labels and title\n",
        "plt.xlabel('Epoch')\n",
        "plt.ylabel('Loss')\n",
        "plt.title('Training Loss Over Epochs')\n",
        "\n",
        "# Adding a legend\n",
        "plt.legend()\n",
        "\n",
        "# Display the plot\n",
        "plt.show()\n"
      ]
    },
    {
      "cell_type": "markdown",
      "metadata": {
        "id": "C2-llb6H0cmr"
      },
      "source": [
        "### Evaluate\n"
      ]
    },
    {
      "cell_type": "code",
      "execution_count": null,
      "metadata": {
        "id": "nERYoBWL0dvd"
      },
      "outputs": [],
      "source": [
        "def evaluate1(model, data_load, loss_val, device):\n",
        "    model.eval()\n",
        "\n",
        "    samples = len(data_load.dataset)\n",
        "    csamp = 0\n",
        "    tloss = 0\n",
        "    model.clean_activation_buffers()\n",
        "    with torch.no_grad():\n",
        "        for data, _, target in data_load:\n",
        "            # Move data and target to the same device as the model\n",
        "            data, target = data.to(device), target.to(device)\n",
        "\n",
        "            output = F.log_softmax(model(data), dim=1)\n",
        "            loss = F.nll_loss(output, target, reduction='sum')\n",
        "            _, pred = torch.max(output, dim=1)\n",
        "\n",
        "            tloss += loss.item()\n",
        "            csamp += pred.eq(target).sum()\n",
        "            model.clean_activation_buffers()\n",
        "    aloss = tloss / samples\n",
        "    loss_val.append(aloss)\n",
        "    print('\\nAverage test loss: ' + '{:.4f}'.format(aloss) +\n",
        "          '  Accuracy:' + '{:5}'.format(csamp) + '/' +\n",
        "          '{:5}'.format(samples) + ' (' +\n",
        "          '{:4.2f}'.format(100.0 * csamp / samples) + '%)\\n')"
      ]
    },
    {
      "cell_type": "code",
      "execution_count": null,
      "metadata": {
        "colab": {
          "background_save": true
        },
        "id": "fByeNsaF0gvP",
        "outputId": "36fb4627-82fa-4eb6-caea-9695246b6240"
      },
      "outputs": [
        {
          "name": "stdout",
          "output_type": "stream",
          "text": [
            "\n",
            "Average test loss: 1.2774  Accuracy:  562/  683 (82.28%)\n",
            "\n"
          ]
        }
      ],
      "source": [
        "from sklearn.metrics import confusion_matrix\n",
        "trloss_val, tsloss_val = [], []\n",
        "device = next(model_A5.parameters()).device\n",
        "evaluate1(model_A5, test_loader_A5, trloss_val, device)"
      ]
    },
    {
      "cell_type": "markdown",
      "metadata": {
        "id": "CkUjXUJSfzDL"
      },
      "source": [
        "## Predict"
      ]
    },
    {
      "cell_type": "code",
      "execution_count": null,
      "metadata": {
        "id": "now9gDZ81YkY"
      },
      "outputs": [],
      "source": [
        "device = next(model_A5.parameters()).device\n",
        "true_labels, predicted_labels = [], []\n",
        "with torch.no_grad():\n",
        "    for data, _, target in test_loader_A5:\n",
        "        # Move data and target to the same device as the model\n",
        "        data, target = data.to(device), target.to(device)\n",
        "\n",
        "        output = F.log_softmax(model_A5(data), dim=1)\n",
        "        _, predicted = torch.max(output, dim=1)\n",
        "\n",
        "        true_labels.extend(target.cpu().numpy())\n",
        "        predicted_labels.extend(predicted.cpu().numpy())"
      ]
    },
    {
      "cell_type": "code",
      "execution_count": null,
      "metadata": {
        "id": "zfFaLM5WsTsc"
      },
      "outputs": [],
      "source": [
        "from sklearn.metrics import confusion_matrix\n",
        "import numpy as np\n",
        "import torch\n",
        "from torch.utils.data import DataLoader\n",
        "from sklearn.metrics import confusion_matrix\n",
        "import seaborn as sns\n",
        "import matplotlib.pyplot as plt\n",
        "import numpy as np\n",
        "from sklearn.metrics import classification_report\n",
        "from prettytable import PrettyTable\n"
      ]
    },
    {
      "cell_type": "code",
      "execution_count": null,
      "metadata": {
        "id": "9F14s7DHgdV4"
      },
      "outputs": [],
      "source": [
        "conf_matrix = confusion_matrix(true_labels, predicted_labels)\n",
        "print(\"Confusion Matrix:\")\n",
        "print(conf_matrix)"
      ]
    },
    {
      "cell_type": "code",
      "execution_count": null,
      "metadata": {
        "id": "29z11sKIgaoV"
      },
      "outputs": [],
      "source": [
        "# Print classification report\n",
        "print(\"Classification Report:\")\n",
        "print(classification_report(true_labels, predicted_labels));"
      ]
    },
    {
      "cell_type": "code",
      "execution_count": null,
      "metadata": {
        "id": "eOKzKbYSggRT"
      },
      "outputs": [],
      "source": [
        "# Assuming binary classification (positive and negative)\n",
        "positive_class_index = 1  # Index of the positive class in your class_names list\n",
        "\n",
        "# Extract relevant values from the confusion matrix\n",
        "true_positive = conf_matrix[positive_class_index, positive_class_index]\n",
        "false_positive = conf_matrix[:, positive_class_index].sum() - true_positive\n",
        "false_negative = conf_matrix[positive_class_index, :].sum() - true_positive\n",
        "true_negative = conf_matrix.sum() - (true_positive + false_positive + false_negative)\n",
        "\n",
        "# Create a PrettyTable\n",
        "table = PrettyTable([\"\", \"Predicted Positive\", \"Predicted Negative\", \"Total\"])\n",
        "table.add_row([\"Actual Positive\", true_positive, false_negative, true_positive + false_negative])\n",
        "table.add_row([\"Actual Negative\", false_positive, true_negative, false_positive + true_negative])\n",
        "table.add_row([\"Total\", true_positive + false_positive, false_negative + true_negative, conf_matrix.sum()])\n",
        "\n",
        "# Print the table\n",
        "print(table)\n"
      ]
    },
    {
      "cell_type": "code",
      "execution_count": null,
      "metadata": {
        "id": "IIBM0zdyRT1l"
      },
      "outputs": [],
      "source": [
        "class_names = hmdb51_test_A5.classes\n",
        "class_names_test = class_names\n",
        "plt.figure(figsize=(10, 6))\n",
        "sns.heatmap(conf_matrix, annot=True, fmt='d', cmap='Blues', xticklabels=class_names_test, yticklabels=class_names_test)\n",
        "plt.xlabel('Predicted Label')\n",
        "plt.ylabel('True Label')\n",
        "plt.title('Confusion Matrix')\n",
        "plt.show()\n"
      ]
    },
    {
      "cell_type": "code",
      "execution_count": null,
      "metadata": {
        "id": "7f63NSx9RW4b"
      },
      "outputs": [],
      "source": [
        "from prettytable import PrettyTable\n",
        "from sklearn.metrics import accuracy_score, precision_score, recall_score, f1_score\n",
        "\n",
        "# สมมติว่าคุณคำนวณ true_labels และ predicted_labels มาแล้ว\n",
        "\n",
        "# คำนวณค่า precision, recall, f1-score และ accuracy สำหรับแต่ละคลาส\n",
        "precision_per_class = precision_score(true_labels, predicted_labels, average=None)\n",
        "recall_per_class = recall_score(true_labels, predicted_labels, average=None)\n",
        "f1_per_class = f1_score(true_labels, predicted_labels, average=None)\n",
        "accuracy_per_class = accuracy_score(true_labels, predicted_labels)\n",
        "\n",
        "# สร้าง PrettyTable\n",
        "table = PrettyTable([\"Class\", \"Precision\", \"Recall\", \"F1-Score\", \"Accuracy\"])\n",
        "\n",
        "# เพิ่มแถวลงในตารางสำหรับแต่ละคลาส\n",
        "for class_label, precision, recall, f1 in zip(range(len(precision_per_class)), precision_per_class, recall_per_class, f1_per_class):\n",
        "    table.add_row([f\"Class {class_label}\", f\"{precision:.4f}\", f\"{recall:.4f}\", f\"{f1:.4f}\", \"\"])\n",
        "\n",
        "# เพิ่มแถวสำหรับ accuracy ของทั้งหมด\n",
        "table.add_row([\"Overall\", \"\", \"\", \"\", f\"{accuracy_per_class:.4f}\"])\n",
        "\n",
        "# แสดงตาราง\n",
        "print(table)\n"
      ]
    },
    {
      "cell_type": "markdown",
      "metadata": {
        "id": "nMSQ2d692qt_"
      },
      "source": [
        "# Train Model ต่อแบบเพิ่มรอบ (ใช้)"
      ]
    },
    {
      "cell_type": "markdown",
      "metadata": {
        "id": "Elx-UMFnfr51"
      },
      "source": [
        "##train"
      ]
    },
    {
      "cell_type": "code",
      "execution_count": null,
      "metadata": {
        "id": "arnsbJjdnzt2"
      },
      "outputs": [],
      "source": [
        "def train_iter(model, optimz, data_load, loss_val):\n",
        "    samples = len(data_load.dataset)\n",
        "    model.train()\n",
        "    model.cuda()\n",
        "    model.clean_activation_buffers()\n",
        "    optimz.zero_grad()\n",
        "    for i, (data,_ , target) in enumerate(data_load):\n",
        "        out = F.log_softmax(model(data.cuda()), dim=1)\n",
        "        loss = F.nll_loss(out, target.cuda())\n",
        "        loss.backward()\n",
        "        optimz.step()\n",
        "        optimz.zero_grad()\n",
        "        model.clean_activation_buffers()\n",
        "        if i % 50 == 0:\n",
        "            print('[' +  '{:5}'.format(i * len(data)) + '/' + '{:5}'.format(samples) +\n",
        "                  ' (' + '{:3.0f}'.format(100 * i / len(data_load)) + '%)]  Loss: ' +\n",
        "                  '{:6.4f}'.format(loss.item()))\n",
        "            loss_val.append(loss.item())"
      ]
    },
    {
      "cell_type": "code",
      "execution_count": null,
      "metadata": {
        "id": "xff-1ypsZ36C"
      },
      "outputs": [],
      "source": [
        "loaded_model_A2 = MoViNet(_C.MODEL.MoViNetA2, causal=False, pretrained=True)\n",
        "loaded_model_A2.classifier[3] = torch.nn.Conv3d(2048, 8, (1, 1, 1))\n",
        "# ระบุ path ของ checkpoint ที่คุณต้องการโหลด\n",
        "best_checkpoint_path = '/content/drive/MyDrive/Game analysis/Video/Vdo_model/Model Yoru Checkpoint/A2/A2_checkpoint_epoch_rounde25.pth'\n",
        "\n",
        "# Load checkpoint\n",
        "best_checkpoint = torch.load(best_checkpoint_path)\n",
        "\n",
        "# Load model state dictionary\n",
        "loaded_model_A2.load_state_dict(best_checkpoint['model_state_dict'])\n",
        "\n",
        "# ทดสอบโมเดล\n",
        "loaded_model_A2.eval()\n"
      ]
    },
    {
      "cell_type": "markdown",
      "metadata": {
        "id": "lDW4EomIK4FZ"
      },
      "source": [
        "###Train"
      ]
    },
    {
      "cell_type": "code",
      "execution_count": null,
      "metadata": {
        "id": "FYC_EKmKgFPb"
      },
      "outputs": [],
      "source": [
        "N_EPOCHS = 6\n",
        "\n",
        "# สร้างโมเดล MoViNet\n",
        "start_time = time.time()\n",
        "# เตรียม list เพื่อเก็บค่า loss ของการฝึกอบรม\n",
        "trloss_val, tsloss_val = [], []\n",
        "# ปรับแต่งชั้น classifier ของโมเดล\n",
        "loaded_model.classifier[3] = torch.nn.Conv3d(2048, 8, (1, 1, 1))\n",
        "# กำหนด optimizer\n",
        "optimizer = optim.Adam(loaded_model.parameters(), lr=0.00005)\n",
        "# วน loop ตามจำนวน epoch ที่กำหนด\n",
        "for epoch in range(1, N_EPOCHS + 1):\n",
        "    print('Epoch:', epoch)\n",
        "\n",
        "    # ทำการฝึกอบรมและบันทึกค่า loss\n",
        "    loss = train_iter(loaded_model, optimizer, train_loader_A4, trloss_val)\n",
        "\n",
        "    # บันทึก checkpoint\n",
        "    checkpoint_path = 'A4_checkpoint_epoch_rounde2{}.pth'.format(epoch)\n",
        "    torch.save({\n",
        "        'epoch': epoch,\n",
        "        'model_state_dict': loaded_model.state_dict(),\n",
        "        'optimizer_state_dict': optimizer.state_dict(),\n",
        "        'loss': loss,\n",
        "    }, checkpoint_path)\n",
        "\n",
        "    # บันทึกโมเดลสุดท้าย\n",
        "    if epoch == N_EPOCHS:\n",
        "        torch.save(loaded_model.state_dict(), 'A4_model8class_yoru_Checkpoint_round2.pth')\n",
        "\n",
        "print('Training Execution time:', '{:5.2f}'.format(time.time() - start_time), 'seconds')\n"
      ]
    },
    {
      "cell_type": "markdown",
      "metadata": {
        "id": "pxAWJLfTfYkh"
      },
      "source": [
        "##Graph loss (ใช้)"
      ]
    },
    {
      "cell_type": "code",
      "execution_count": null,
      "metadata": {
        "id": "5Nf0Uu1uZ4qH"
      },
      "outputs": [],
      "source": [
        "import torch\n",
        "from torch.utils.data import DataLoader\n",
        "from sklearn.metrics import confusion_matrix\n",
        "import seaborn as sns\n",
        "import matplotlib.pyplot as plt\n",
        "import numpy as np\n",
        "from sklearn.metrics import confusion_matrix\n",
        "from sklearn.metrics import confusion_matrix, classification_report\n"
      ]
    },
    {
      "cell_type": "code",
      "execution_count": null,
      "metadata": {
        "colab": {
          "base_uri": "https://localhost:8080/",
          "height": 472
        },
        "id": "Xacm4cpgKihc",
        "outputId": "9e2d4030-8f1f-4351-f00b-cc837719c463"
      },
      "outputs": [
        {
          "data": {
            "image/png": "[encoded data removed]",
            "text/plain": [
              "<Figure size 640x480 with 1 Axes>"
            ]
          },
          "metadata": {},
          "output_type": "display_data"
        }
      ],
      "source": [
        "import matplotlib.pyplot as plt\n",
        "N_EPOCHS = len(trloss_val)\n",
        "\n",
        "# Plotting the training loss\n",
        "plt.plot(range(1, N_EPOCHS + 1), trloss_val, label='Training Loss')\n",
        "\n",
        "# Adding labels and title\n",
        "plt.xlabel('Epoch')\n",
        "plt.ylabel('Loss')\n",
        "plt.title('Training Loss Over Epochs')\n",
        "\n",
        "# Adding a legend\n",
        "plt.legend()\n",
        "\n",
        "# Display the plot\n",
        "plt.show()\n"
      ]
    },
    {
      "cell_type": "markdown",
      "metadata": {
        "id": "yzrINgl1fbXN"
      },
      "source": [
        "##Evaluate (ใช้)"
      ]
    },
    {
      "cell_type": "code",
      "execution_count": null,
      "metadata": {
        "id": "AquBkMVPR4ui"
      },
      "outputs": [],
      "source": [
        "def evaluate1(model, data_load, loss_val, device):\n",
        "    model.eval()\n",
        "\n",
        "    samples = len(data_load.dataset)\n",
        "    csamp = 0\n",
        "    tloss = 0\n",
        "    model.clean_activation_buffers()\n",
        "    with torch.no_grad():\n",
        "        for data, _, target in data_load:\n",
        "            # Move data and target to the same device as the model\n",
        "            data, target = data.to(device), target.to(device)\n",
        "\n",
        "            output = F.log_softmax(model(data), dim=1)\n",
        "            loss = F.nll_loss(output, target, reduction='sum')\n",
        "            _, pred = torch.max(output, dim=1)\n",
        "\n",
        "            tloss += loss.item()\n",
        "            csamp += pred.eq(target).sum()\n",
        "            model.clean_activation_buffers()\n",
        "    aloss = tloss / samples\n",
        "    loss_val.append(aloss)\n",
        "    print('\\nAverage test loss: ' + '{:.4f}'.format(aloss) +\n",
        "          '  Accuracy:' + '{:5}'.format(csamp) + '/' +\n",
        "          '{:5}'.format(samples) + ' (' +\n",
        "          '{:4.2f}'.format(100.0 * csamp / samples) + '%)\\n')"
      ]
    },
    {
      "cell_type": "code",
      "execution_count": null,
      "metadata": {
        "id": "IYu55AGSRoql"
      },
      "outputs": [],
      "source": [
        "from sklearn.metrics import confusion_matrix\n",
        "trloss_val, tsloss_val = [], []\n",
        "device = next(loaded_model.parameters()).device\n",
        "evaluate1(loaded_model, test_loader, trloss_val, device)"
      ]
    },
    {
      "cell_type": "markdown",
      "metadata": {
        "id": "IjGXykFBfcqT"
      },
      "source": [
        "##Predict (ใช้)"
      ]
    },
    {
      "cell_type": "code",
      "execution_count": null,
      "metadata": {
        "colab": {
          "base_uri": "https://localhost:8080/"
        },
        "id": "6Z256_tlU9hy",
        "outputId": "dc3033ad-5747-4e99-f136-4782f9c81699"
      },
      "outputs": [
        {
          "name": "stderr",
          "output_type": "stream",
          "text": [
            "/usr/local/lib/python3.10/dist-packages/torchvision/io/video.py:161: UserWarning: The pts_unit 'pts' gives wrong results. Please use pts_unit 'sec'.\n",
            "  warnings.warn(\"The pts_unit 'pts' gives wrong results. Please use pts_unit 'sec'.\")\n"
          ]
        }
      ],
      "source": [
        "device = next(loaded_model_A2.parameters()).device\n",
        "true_labels, predicted_labels = [], []\n",
        "with torch.no_grad():\n",
        "    for data, _, target in test_loader_A2:\n",
        "        # Move data and target to the same device as the model\n",
        "        data, target = data.to(device), target.to(device)\n",
        "\n",
        "        output = F.log_softmax(loaded_model_A2(data), dim=1)\n",
        "        _, predicted = torch.max(output, dim=1)\n",
        "\n",
        "        true_labels.extend(target.cpu().numpy())\n",
        "        predicted_labels.extend(predicted.cpu().numpy())"
      ]
    },
    {
      "cell_type": "code",
      "execution_count": null,
      "metadata": {
        "colab": {
          "base_uri": "https://localhost:8080/"
        },
        "id": "nQSesvC2Fj84",
        "outputId": "034c572b-09d3-41d5-9283-2f9fc62973f4"
      },
      "outputs": [
        {
          "name": "stdout",
          "output_type": "stream",
          "text": [
            "Label Counts: Counter({3: 365, 1: 151, 5: 86, 4: 84, 7: 24, 6: 5, 0: 3, 2: 1})\n"
          ]
        }
      ],
      "source": [
        "from collections import Counter\n",
        "label_counts = Counter(predicted_labels)\n",
        "print(\"Label Counts:\", label_counts)"
      ]
    },
    {
      "cell_type": "code",
      "execution_count": null,
      "metadata": {
        "id": "Wa9USJ5boE7i"
      },
      "outputs": [],
      "source": [
        "from sklearn.metrics import confusion_matrix\n",
        "import numpy as np\n",
        "import torch\n",
        "from torch.utils.data import DataLoader\n",
        "from sklearn.metrics import confusion_matrix\n",
        "import seaborn as sns\n",
        "import matplotlib.pyplot as plt\n",
        "import numpy as np\n",
        "from sklearn.metrics import confusion_matrix"
      ]
    },
    {
      "cell_type": "code",
      "execution_count": null,
      "metadata": {
        "colab": {
          "base_uri": "https://localhost:8080/"
        },
        "id": "NTK5D1TkYkPe",
        "outputId": "65bd2172-2fd1-4543-f087-d1f8bec2015f"
      },
      "outputs": [
        {
          "name": "stdout",
          "output_type": "stream",
          "text": [
            "Confusion Matrix:\n",
            "[[  2   8   0  76   0   4   0   0]\n",
            " [  0  74   0  13   3   0   0   0]\n",
            " [  1  48   0 129   0   0   3  13]\n",
            " [  0   1   0  87   1   0   0   1]\n",
            " [  0   0   0   3  80   0   0   0]\n",
            " [  0   0   0   2   0  82   0   1]\n",
            " [  0   0   0   0   0   0   0   0]\n",
            " [  0  20   1  55   0   0   2   9]]\n"
          ]
        }
      ],
      "source": [
        "conf_matrix = confusion_matrix(true_labels, predicted_labels)\n",
        "print(\"Confusion Matrix:\")\n",
        "print(conf_matrix)"
      ]
    },
    {
      "cell_type": "code",
      "execution_count": null,
      "metadata": {
        "colab": {
          "base_uri": "https://localhost:8080/"
        },
        "id": "CjG2-RZcoDrV",
        "outputId": "7452de10-64c5-4dfa-8694-f05747974482"
      },
      "outputs": [
        {
          "name": "stdout",
          "output_type": "stream",
          "text": [
            "Classification Report:\n",
            "              precision    recall  f1-score   support\n",
            "\n",
            "           0       0.67      0.02      0.04        90\n",
            "           1       0.49      0.82      0.61        90\n",
            "           2       0.00      0.00      0.00       194\n",
            "           3       0.24      0.97      0.38        90\n",
            "           4       0.95      0.96      0.96        83\n",
            "           5       0.95      0.96      0.96        85\n",
            "           6       0.00      0.00      0.00         0\n",
            "           7       0.38      0.10      0.16        87\n",
            "\n",
            "    accuracy                           0.46       719\n",
            "   macro avg       0.46      0.48      0.39       719\n",
            "weighted avg       0.44      0.46      0.37       719\n",
            "\n"
          ]
        },
        {
          "name": "stderr",
          "output_type": "stream",
          "text": [
            "/usr/local/lib/python3.10/dist-packages/sklearn/metrics/_classification.py:1344: UndefinedMetricWarning: Recall and F-score are ill-defined and being set to 0.0 in labels with no true samples. Use `zero_division` parameter to control this behavior.\n",
            "  _warn_prf(average, modifier, msg_start, len(result))\n",
            "/usr/local/lib/python3.10/dist-packages/sklearn/metrics/_classification.py:1344: UndefinedMetricWarning: Recall and F-score are ill-defined and being set to 0.0 in labels with no true samples. Use `zero_division` parameter to control this behavior.\n",
            "  _warn_prf(average, modifier, msg_start, len(result))\n",
            "/usr/local/lib/python3.10/dist-packages/sklearn/metrics/_classification.py:1344: UndefinedMetricWarning: Recall and F-score are ill-defined and being set to 0.0 in labels with no true samples. Use `zero_division` parameter to control this behavior.\n",
            "  _warn_prf(average, modifier, msg_start, len(result))\n"
          ]
        }
      ],
      "source": [
        "  from sklearn.metrics import classification_report\n",
        "\n",
        "  # Print classification report\n",
        "  print(\"Classification Report:\")\n",
        "  print(classification_report(true_labels, predicted_labels));"
      ]
    },
    {
      "cell_type": "code",
      "execution_count": null,
      "metadata": {
        "colab": {
          "base_uri": "https://localhost:8080/"
        },
        "id": "EP60DeXXE2Ps",
        "outputId": "5f87c90e-25d0-4c5d-db2a-a4821270e124"
      },
      "outputs": [
        {
          "name": "stdout",
          "output_type": "stream",
          "text": [
            "Number of Classes: 8\n",
            "['Buy_Action', 'Class 0 Action', 'Class Jett_skill Action', 'Dead_Action', 'Defuse Action', 'Orb Action', 'Plant Action', 'Shoot Action']\n"
          ]
        }
      ],
      "source": [
        "class_names = hmdb51_test_A2.classes\n",
        "num_classes = len(class_names)\n",
        "print(\"Number of Classes:\", num_classes)\n",
        "print(class_names)"
      ]
    },
    {
      "cell_type": "code",
      "execution_count": null,
      "metadata": {
        "colab": {
          "base_uri": "https://localhost:8080/"
        },
        "id": "jL-4Fp7JluBx",
        "outputId": "87b1a54b-e9ce-43e8-9262-e91374603951"
      },
      "outputs": [
        {
          "name": "stdout",
          "output_type": "stream",
          "text": [
            "+-----------------+--------------------+--------------------+-------+\n",
            "|                 | Predicted Positive | Predicted Negative | Total |\n",
            "+-----------------+--------------------+--------------------+-------+\n",
            "| Actual Positive |         74         |         16         |   90  |\n",
            "| Actual Negative |         77         |        552         |  629  |\n",
            "|      Total      |        151         |        568         |  719  |\n",
            "+-----------------+--------------------+--------------------+-------+\n"
          ]
        }
      ],
      "source": [
        "from prettytable import PrettyTable\n",
        "\n",
        "# Assuming binary classification (positive and negative)\n",
        "positive_class_index = 1  # Index of the positive class in your class_names list\n",
        "\n",
        "# Extract relevant values from the confusion matrix\n",
        "true_positive = conf_matrix[positive_class_index, positive_class_index]\n",
        "false_positive = conf_matrix[:, positive_class_index].sum() - true_positive\n",
        "false_negative = conf_matrix[positive_class_index, :].sum() - true_positive\n",
        "true_negative = conf_matrix.sum() - (true_positive + false_positive + false_negative)\n",
        "\n",
        "# Create a PrettyTable\n",
        "table = PrettyTable([\"\", \"Predicted Positive\", \"Predicted Negative\", \"Total\"])\n",
        "table.add_row([\"Actual Positive\", true_positive, false_negative, true_positive + false_negative])\n",
        "table.add_row([\"Actual Negative\", false_positive, true_negative, false_positive + true_negative])\n",
        "table.add_row([\"Total\", true_positive + false_positive, false_negative + true_negative, conf_matrix.sum()])\n",
        "\n",
        "# Print the table\n",
        "print(table)\n"
      ]
    },
    {
      "cell_type": "code",
      "execution_count": null,
      "metadata": {
        "colab": {
          "base_uri": "https://localhost:8080/",
          "height": 696
        },
        "id": "eYRlQnfFbyBs",
        "outputId": "83ae23bd-3af2-4604-8528-cdb2491d8663"
      },
      "outputs": [
        {
          "data": {
            "image/png": "[encoded data removed]",
            "text/plain": [
              "<Figure size 1000x600 with 2 Axes>"
            ]
          },
          "metadata": {},
          "output_type": "display_data"
        }
      ],
      "source": [
        "class_names_test = class_names\n",
        "plt.figure(figsize=(10, 6))\n",
        "sns.heatmap(conf_matrix, annot=True, fmt='d', cmap='Blues', xticklabels=class_names_test, yticklabels=class_names_test)\n",
        "plt.xlabel('Predicted Label')\n",
        "plt.ylabel('True Label')\n",
        "plt.title('Confusion Matrix')\n",
        "plt.show()\n"
      ]
    },
    {
      "cell_type": "code",
      "execution_count": null,
      "metadata": {
        "colab": {
          "base_uri": "https://localhost:8080/"
        },
        "id": "Gz04wf9rY9kw",
        "outputId": "d3be2cd5-6543-49ec-dc64-b6d312585289"
      },
      "outputs": [
        {
          "name": "stdout",
          "output_type": "stream",
          "text": [
            "+---------+-----------+--------+----------+----------+\n",
            "|  Class  | Precision | Recall | F1-Score | Accuracy |\n",
            "+---------+-----------+--------+----------+----------+\n",
            "| Class 0 |   0.6667  | 0.0222 |  0.0430  |          |\n",
            "| Class 1 |   0.4901  | 0.8222 |  0.6141  |          |\n",
            "| Class 2 |   0.0000  | 0.0000 |  0.0000  |          |\n",
            "| Class 3 |   0.2384  | 0.9667 |  0.3824  |          |\n",
            "| Class 4 |   0.9524  | 0.9639 |  0.9581  |          |\n",
            "| Class 5 |   0.9535  | 0.9647 |  0.9591  |          |\n",
            "| Class 6 |   0.0000  | 0.0000 |  0.0000  |          |\n",
            "| Class 7 |   0.3750  | 0.1034 |  0.1622  |          |\n",
            "| Overall |           |        |          |  0.4645  |\n",
            "+---------+-----------+--------+----------+----------+\n"
          ]
        },
        {
          "name": "stderr",
          "output_type": "stream",
          "text": [
            "/usr/local/lib/python3.10/dist-packages/sklearn/metrics/_classification.py:1344: UndefinedMetricWarning: Recall is ill-defined and being set to 0.0 in labels with no true samples. Use `zero_division` parameter to control this behavior.\n",
            "  _warn_prf(average, modifier, msg_start, len(result))\n"
          ]
        }
      ],
      "source": [
        "from prettytable import PrettyTable\n",
        "from sklearn.metrics import accuracy_score, precision_score, recall_score, f1_score\n",
        "\n",
        "# สมมติว่าคุณคำนวณ true_labels และ predicted_labels มาแล้ว\n",
        "\n",
        "# คำนวณค่า precision, recall, f1-score และ accuracy สำหรับแต่ละคลาส\n",
        "precision_per_class = precision_score(true_labels, predicted_labels, average=None)\n",
        "recall_per_class = recall_score(true_labels, predicted_labels, average=None)\n",
        "f1_per_class = f1_score(true_labels, predicted_labels, average=None)\n",
        "accuracy_per_class = accuracy_score(true_labels, predicted_labels)\n",
        "\n",
        "# สร้าง PrettyTable\n",
        "table = PrettyTable([\"Class\", \"Precision\", \"Recall\", \"F1-Score\", \"Accuracy\"])\n",
        "\n",
        "# เพิ่มแถวลงในตารางสำหรับแต่ละคลาส\n",
        "for class_label, precision, recall, f1 in zip(range(len(precision_per_class)), precision_per_class, recall_per_class, f1_per_class):\n",
        "    table.add_row([f\"Class {class_label}\", f\"{precision:.4f}\", f\"{recall:.4f}\", f\"{f1:.4f}\", \"\"])\n",
        "\n",
        "# เพิ่มแถวสำหรับ accuracy ของทั้งหมด\n",
        "table.add_row([\"Overall\", \"\", \"\", \"\", f\"{accuracy_per_class:.4f}\"])\n",
        "\n",
        "# แสดงตาราง\n",
        "print(table)\n"
      ]
    },
    {
      "cell_type": "markdown",
      "metadata": {
        "id": "YHq8q7W1IiMs"
      },
      "source": [
        "## Other ไม่สำคัญ"
      ]
    },
    {
      "cell_type": "code",
      "execution_count": null,
      "metadata": {
        "colab": {
          "base_uri": "https://localhost:8080/"
        },
        "id": "WEQxqTlidODH",
        "outputId": "60acd865-94d0-4cf6-ce07-7cfe8f57402d"
      },
      "outputs": [
        {
          "name": "stdout",
          "output_type": "stream",
          "text": [
            "Number of Classes: 8\n",
            "Class Names: ['Buy_Action', 'Class 0 Action', 'Class Sage_skill Action', 'Dead_Action', 'Defuse Action', 'Orb Action', 'Plant Action', 'Shoot_Action']\n"
          ]
        }
      ],
      "source": [
        "# Assuming your model is named 'loaded_model'\n",
        "output_layer = loaded_model.classifier[3]\n",
        "class_names = hmdb51_test.classes\n",
        "\n",
        "# Assuming the output layer is a convolutional layer\n",
        "num_classes = output_layer.out_channels\n",
        "\n",
        "print(\"Number of Classes:\", num_classes)\n",
        "print(\"Class Names:\", class_names)\n"
      ]
    },
    {
      "cell_type": "markdown",
      "metadata": {
        "id": "ZaKEK-AZasbG"
      },
      "source": [
        "#Test new data หลัง Train ให้มาใช้ Section นี้เลย\n"
      ]
    },
    {
      "cell_type": "markdown",
      "metadata": {
        "id": "V28Q2P5CvSvJ"
      },
      "source": [
        "###Load model"
      ]
    },
    {
      "cell_type": "code",
      "execution_count": null,
      "metadata": {
        "id": "pqhfnrBWiDJw"
      },
      "outputs": [],
      "source": [
        "loaded_model1 = MoViNet(_C.MODEL.MoViNetA5, causal=False, pretrained=True)\n",
        "loaded_model1.classifier[3] = torch.nn.Conv3d(2048, 8, (1, 1, 1))\n",
        "# ระบุ path ของ checkpoint ที่คุณต้องการโหลด\n",
        "best_checkpoint_path = '/content/drive/MyDrive/Game analysis/Video/Vdo_model/Model Yoru Checkpoint/A5 Yoru+habor/A5_yoru+habor_Checkpoint_epoch_round112.pth'\n",
        "\n",
        "# Load checkpoint\n",
        "best_checkpoint = torch.load(best_checkpoint_path)\n",
        "\n",
        "# Load model state dictionary\n",
        "loaded_model1.load_state_dict(best_checkpoint['model_state_dict'])\n",
        "\n",
        "# ทดสอบโมเดล\n",
        "loaded_model1.eval()\n"
      ]
    },
    {
      "cell_type": "code",
      "execution_count": null,
      "metadata": {
        "id": "pYA2cDwyhgEL"
      },
      "outputs": [],
      "source": [
        "# Define the model architecture\n",
        "loaded_model1 = MoViNet(_C.MODEL.MoViNetA5, causal=False, pretrained=True)\n",
        "loaded_model1.classifier[3] = torch.nn.Conv3d(2048, 8, (1, 1, 1))\n",
        "\n",
        "# Specify the path to the checkpoint file\n",
        "best_checkpoint_path = '/content/drive/MyDrive/Game analysis/Video/Vdo_model/Model/Model Habor/A5_checkpoint_epoch_rounde64.pth'\n",
        "\n",
        "# Load the checkpoint, specifying map_location to CPU\n",
        "best_checkpoint = torch.load(best_checkpoint_path, map_location=torch.device('cpu'))\n",
        "\n",
        "# Load the model's state dictionary\n",
        "loaded_model1.load_state_dict(best_checkpoint['model_state_dict'])\n",
        "\n",
        "# Set the model to evaluation mode\n",
        "loaded_model1.eval()\n"
      ]
    },
    {
      "cell_type": "code",
      "execution_count": null,
      "metadata": {
        "colab": {
          "base_uri": "https://localhost:8080/"
        },
        "id": "_Qw2Y_fmSv7Z",
        "outputId": "cb39becc-0633-4ad1-f8a2-a776403a547b"
      },
      "outputs": [
        {
          "name": "stderr",
          "output_type": "stream",
          "text": [
            "100%|██████████| 51/51 [08:13<00:00,  9.67s/it]\n",
            "/usr/local/lib/python3.10/dist-packages/torchvision/datasets/video_utils.py:219: UserWarning: There aren't enough frames in the current video to get a clip for the given clip length and frames between clips. The video (and potentially others) will be skipped.\n",
            "  warnings.warn(\n"
          ]
        }
      ],
      "source": [
        "torch.manual_seed(97)\n",
        "num_frames = 24 # 16\n",
        "clip_steps = 12\n",
        "Bs_Train = 1\n",
        "Bs_Test = 1\n",
        "\n",
        "transform_test_A5 = transforms.Compose([\n",
        "                                 T.ToFloatTensorInZeroOne(),\n",
        "                                 T.Resize((400, 400)),\n",
        "                                 #T.Normalize(mean=[0.43216, 0.394666, 0.37645], std=[0.22803, 0.22145, 0.216989]),\n",
        "                                 T.CenterCrop((320, 320))]) #Size for model\n",
        "\n",
        "\n",
        "hmdb51_test_A5 = torchvision.datasets.HMDB51('/content/drive/MyDrive/Game analysis/Project Harbor/video_data', '/content/drive/MyDrive/Game analysis/Project Harbor/test_train_splits',\n",
        "                                              frames_per_clip=24,frame_rate=24,step_between_clips = clip_steps, fold=1, train=False,transform=transform_test_A5, num_workers=2)\n",
        "\n",
        "test_loader_A5  = DataLoader(hmdb51_test_A5 , batch_size=Bs_Test, shuffle=False)"
      ]
    },
    {
      "cell_type": "code",
      "execution_count": null,
      "metadata": {
        "colab": {
          "base_uri": "https://localhost:8080/"
        },
        "id": "xkm9ywzbT2Rk",
        "outputId": "3e2eecfc-6cdb-4408-dd8d-d2dd4a3cbd95"
      },
      "outputs": [
        {
          "name": "stdout",
          "output_type": "stream",
          "text": [
            "751\n"
          ]
        }
      ],
      "source": [
        "print(len(hmdb51_test_A5))"
      ]
    },
    {
      "cell_type": "markdown",
      "metadata": {
        "id": "Da_NNaLhuWIw"
      },
      "source": [
        "### Check dataset มีกี่ class, ชื่ออะไรบ้าง, ตั้งค่าให้ model เหลือ class ตรงกัน"
      ]
    },
    {
      "cell_type": "code",
      "execution_count": null,
      "metadata": {
        "colab": {
          "base_uri": "https://localhost:8080/"
        },
        "id": "_Tphn4nouXIw",
        "outputId": "9ac74ba3-c457-48e6-d89f-a4ade82b7bfc"
      },
      "outputs": [
        {
          "name": "stdout",
          "output_type": "stream",
          "text": [
            "Number of Classes: 8\n",
            "Class Names: ['Buy', 'Death', 'Defuse', 'Free', 'Kill', 'Orb', 'Plant', 'Skill']\n"
          ]
        }
      ],
      "source": [
        "class_names = hmdb51_test_A5.classes\n",
        "num_classes = len(class_names)\n",
        "\n",
        "print(\"Number of Classes:\", num_classes)\n",
        "print(\"Class Names:\", class_names)\n"
      ]
    },
    {
      "cell_type": "markdown",
      "metadata": {
        "id": "TtSDICQauZKt"
      },
      "source": [
        "### test model with dataloder"
      ]
    },
    {
      "cell_type": "code",
      "execution_count": null,
      "metadata": {
        "id": "Br4rG6LluZ2d"
      },
      "outputs": [],
      "source": [
        "from sklearn.metrics import confusion_matrix\n",
        "from prettytable import PrettyTable\n",
        "from sklearn.metrics import accuracy_score, precision_score, recall_score, f1_score\n",
        "import numpy as np\n",
        "import torch\n",
        "from torch.utils.data import DataLoader\n",
        "import seaborn as sns\n",
        "import matplotlib.pyplot as plt\n",
        "import numpy as np\n",
        "from sklearn.metrics import confusion_matrix\n",
        "from sklearn.metrics import classification_report"
      ]
    },
    {
      "cell_type": "code",
      "execution_count": null,
      "metadata": {
        "colab": {
          "base_uri": "https://localhost:8080/"
        },
        "id": "Ih579qbfHZC4",
        "outputId": "77944533-c7cf-4e7a-8fe9-e233ef171571"
      },
      "outputs": [
        {
          "name": "stderr",
          "output_type": "stream",
          "text": [
            "/usr/local/lib/python3.10/dist-packages/torchvision/io/video.py:161: UserWarning: The pts_unit 'pts' gives wrong results. Please use pts_unit 'sec'.\n",
            "  warnings.warn(\"The pts_unit 'pts' gives wrong results. Please use pts_unit 'sec'.\")\n"
          ]
        }
      ],
      "source": [
        "device = next(loaded_model1.parameters()).device\n",
        "true_labels, predicted_labels = [], []\n",
        "with torch.no_grad():\n",
        "    for data, _, target in test_loader_A5:\n",
        "        # Move data and target to the same device as the model\n",
        "        data, target = data.to(device), target.to(device)\n",
        "\n",
        "        output = F.log_softmax(loaded_model1(data), dim=1)\n",
        "        _, predicted = torch.max(output, dim=1)\n",
        "\n",
        "        true_labels.extend(target.cpu().numpy())\n",
        "        predicted_labels.extend(predicted.cpu().numpy())"
      ]
    },
    {
      "cell_type": "code",
      "execution_count": null,
      "metadata": {
        "id": "mSiVNFJCMw2W"
      },
      "outputs": [],
      "source": [
        "import pandas as pd\n",
        "\n",
        "# สร้าง DataFrame จาก true_labels และ predicted_labels\n",
        "df = pd.DataFrame({'true_label': true_labels, 'predicted_label': predicted_labels})\n",
        "\n",
        "# บันทึก DataFrame เป็นไฟล์ CSV\n",
        "df.to_csv('true_predict_A5_habor_habor.csv', index=False)"
      ]
    },
    {
      "cell_type": "markdown",
      "metadata": {
        "id": "a-h2L6GWuhdy"
      },
      "source": [
        "###Confusion matrix"
      ]
    },
    {
      "cell_type": "code",
      "execution_count": null,
      "metadata": {
        "colab": {
          "base_uri": "https://localhost:8080/"
        },
        "id": "R6DsVZ8Juh3z",
        "outputId": "f89eb9c8-f07c-4821-b4b2-48bfc2d75d27"
      },
      "outputs": [
        {
          "name": "stdout",
          "output_type": "stream",
          "text": [
            "Confusion Matrix:\n",
            "[[ 89   0   0   1   0   0   0   0]\n",
            " [  0 105   0   0   1   0   0   0]\n",
            " [  0   0  91   0   0   0   0   1]\n",
            " [  0   0   0  87   0   0   3   0]\n",
            " [  0   0   0   9  83   0   0   0]\n",
            " [  0   0   0   1   0  91   0   0]\n",
            " [  0   1   0   7   0   0  90   1]\n",
            " [  0   0   0   1   2   0   1  86]]\n"
          ]
        }
      ],
      "source": [
        "conf_matrix = confusion_matrix(true_labels, predicted_labels)\n",
        "print(\"Confusion Matrix:\")\n",
        "print(conf_matrix)"
      ]
    },
    {
      "cell_type": "code",
      "execution_count": null,
      "metadata": {
        "colab": {
          "base_uri": "https://localhost:8080/"
        },
        "id": "fzL4OV2PBSxv",
        "outputId": "5c332658-3755-489c-855c-5c0f8b7ca7c6"
      },
      "outputs": [
        {
          "name": "stdout",
          "output_type": "stream",
          "text": [
            "+-----------------+--------------------+--------------------+-------+\n",
            "|                 | Predicted Positive | Predicted Negative | Total |\n",
            "+-----------------+--------------------+--------------------+-------+\n",
            "| Actual Positive |        105         |         1          |  106  |\n",
            "| Actual Negative |         1          |        644         |  645  |\n",
            "|      Total      |        106         |        645         |  751  |\n",
            "+-----------------+--------------------+--------------------+-------+\n"
          ]
        }
      ],
      "source": [
        "from prettytable import PrettyTable\n",
        "\n",
        "# Assuming binary classification (positive and negative)\n",
        "positive_class_index = 1  # Index of the positive class in your class_names list\n",
        "\n",
        "# Extract relevant values from the confusion matrix\n",
        "true_positive = conf_matrix[positive_class_index, positive_class_index]\n",
        "false_positive = conf_matrix[:, positive_class_index].sum() - true_positive\n",
        "false_negative = conf_matrix[positive_class_index, :].sum() - true_positive\n",
        "true_negative = conf_matrix.sum() - (true_positive + false_positive + false_negative)\n",
        "\n",
        "# Create a PrettyTable\n",
        "table = PrettyTable([\"\", \"Predicted Positive\", \"Predicted Negative\", \"Total\"])\n",
        "table.add_row([\"Actual Positive\", true_positive, false_negative, true_positive + false_negative])\n",
        "table.add_row([\"Actual Negative\", false_positive, true_negative, false_positive + true_negative])\n",
        "table.add_row([\"Total\", true_positive + false_positive, false_negative + true_negative, conf_matrix.sum()])\n",
        "\n",
        "# Print the table\n",
        "print(table)\n"
      ]
    },
    {
      "cell_type": "code",
      "execution_count": null,
      "metadata": {
        "colab": {
          "base_uri": "https://localhost:8080/"
        },
        "id": "nB2Mceh8uj11",
        "outputId": "add5f12d-d10d-4657-d3fa-3505bd0bafbb"
      },
      "outputs": [
        {
          "name": "stdout",
          "output_type": "stream",
          "text": [
            "Classification Report:\n",
            "              precision    recall  f1-score   support\n",
            "\n",
            "           0       1.00      0.99      0.99        90\n",
            "           1       0.99      0.99      0.99       106\n",
            "           2       1.00      0.99      0.99        92\n",
            "           3       0.82      0.97      0.89        90\n",
            "           4       0.97      0.90      0.93        92\n",
            "           5       1.00      0.99      0.99        92\n",
            "           6       0.96      0.91      0.93        99\n",
            "           7       0.98      0.96      0.97        90\n",
            "\n",
            "    accuracy                           0.96       751\n",
            "   macro avg       0.96      0.96      0.96       751\n",
            "weighted avg       0.96      0.96      0.96       751\n",
            "\n"
          ]
        }
      ],
      "source": [
        "  # Print classification report\n",
        "  print(\"Classification Report:\")\n",
        "  print(classification_report(true_labels, predicted_labels));"
      ]
    },
    {
      "cell_type": "code",
      "execution_count": null,
      "metadata": {
        "colab": {
          "base_uri": "https://localhost:8080/",
          "height": 564
        },
        "id": "tgc-u02-vlzj",
        "outputId": "6f2de175-5b8f-4c60-b915-0fc8d0ee2235"
      },
      "outputs": [
        {
          "data": {
            "image/png": "[encoded data removed]",
            "text/plain": [
              "<Figure size 1000x600 with 2 Axes>"
            ]
          },
          "metadata": {},
          "output_type": "display_data"
        }
      ],
      "source": [
        "#class_names_test = ['Buy_Action', 'Class 0 Action', 'Class Skill Action', 'Dead_Action', 'Defuse Action', 'Orb Action', 'Plant Action', 'Shoot Action']\n",
        "plt.figure(figsize=(10, 6))\n",
        "sns.heatmap(conf_matrix, annot=True, fmt='d', cmap='Blues', xticklabels=class_names, yticklabels=class_names)\n",
        "plt.xlabel('Predicted Label')\n",
        "plt.ylabel('True Label')\n",
        "plt.title('Confusion Matrix')\n",
        "plt.show()\n"
      ]
    },
    {
      "cell_type": "code",
      "execution_count": null,
      "metadata": {
        "colab": {
          "base_uri": "https://localhost:8080/"
        },
        "id": "PAN7OcU0umfT",
        "outputId": "cef4000f-b0f7-4e46-fd0a-2a222bfa46af"
      },
      "outputs": [
        {
          "name": "stdout",
          "output_type": "stream",
          "text": [
            "+---------+-----------+--------+----------+----------+\n",
            "|  Class  | Precision | Recall | F1-Score | Accuracy |\n",
            "+---------+-----------+--------+----------+----------+\n",
            "|   Buy   |   1.0000  | 0.9889 |  0.9944  |          |\n",
            "|  Death  |   0.9906  | 0.9906 |  0.9906  |          |\n",
            "|  Defuse |   1.0000  | 0.9891 |  0.9945  |          |\n",
            "|   Free  |   0.8208  | 0.9667 |  0.8878  |          |\n",
            "|   Kill  |   0.9651  | 0.9022 |  0.9326  |          |\n",
            "|   Orb   |   1.0000  | 0.9891 |  0.9945  |          |\n",
            "|  Plant  |   0.9574  | 0.9091 |  0.9326  |          |\n",
            "|  Skill  |   0.9773  | 0.9556 |  0.9663  |          |\n",
            "| Overall |           |        |          |  0.9614  |\n",
            "+---------+-----------+--------+----------+----------+\n"
          ]
        }
      ],
      "source": [
        "from prettytable import PrettyTable\n",
        "from sklearn.metrics import accuracy_score, precision_score, recall_score, f1_score\n",
        "\n",
        "# Assuming you have true_labels and predicted_labels calculated\n",
        "\n",
        "# Custom class labels\n",
        "#class_labels =['Buy_Action', 'Class 0 Action', 'Class Skill Action', 'Dead_Action', 'Defuse Action', 'Orb Action', 'Plant Action', 'Shoot Action']\n",
        "class_labels = class_names\n",
        "\n",
        "# Calculate precision, recall, f1-score, and accuracy for each class\n",
        "precision_per_class = precision_score(true_labels, predicted_labels, average=None)\n",
        "recall_per_class = recall_score(true_labels, predicted_labels, average=None)\n",
        "f1_per_class = f1_score(true_labels, predicted_labels, average=None)\n",
        "accuracy_per_class = accuracy_score(true_labels, predicted_labels)\n",
        "\n",
        "# Create PrettyTable\n",
        "table = PrettyTable([\"Class\", \"Precision\", \"Recall\", \"F1-Score\", \"Accuracy\"])\n",
        "\n",
        "# Add rows to the table for each class\n",
        "for class_label, precision, recall, f1 in zip(class_labels, precision_per_class, recall_per_class, f1_per_class):\n",
        "    table.add_row([class_label, f\"{precision:.4f}\", f\"{recall:.4f}\", f\"{f1:.4f}\", \"\"])\n",
        "\n",
        "# Add a row for the overall accuracy\n",
        "table.add_row([\"Overall\", \"\", \"\", \"\", f\"{accuracy_per_class:.4f}\"])\n",
        "\n",
        "# Display the table\n",
        "print(table)\n"
      ]
    },
    {
      "cell_type": "markdown",
      "metadata": {
        "id": "gBpjiYOOqqy0"
      },
      "source": [
        "#Predict ไม่ถูก (ไม่ใช้)"
      ]
    },
    {
      "cell_type": "markdown",
      "metadata": {
        "id": "-Air01s1WG3c"
      },
      "source": [
        "###Predict with CPU"
      ]
    },
    {
      "cell_type": "code",
      "execution_count": null,
      "metadata": {
        "id": "QyxG3jEgSBSE"
      },
      "outputs": [],
      "source": [
        "# Make predictions\n",
        "with torch.no_grad():\n",
        "    output1 = loaded_model(test_loader)\n",
        "\n",
        "logits1= output1  # Replace this with your actual output tensor\n",
        "probabilities = F.softmax(logits1, dim=1)\n",
        "\n",
        "# Get the predicted class index and its probability\n",
        "predicted_class, highest_probability = torch.max(probabilities, dim=1)\n",
        "\n",
        "print(\"Highest Probability:\", highest_probability.item())\n",
        "print(\"Predicted Class:\", predicted_class.item())\n"
      ]
    },
    {
      "cell_type": "code",
      "execution_count": null,
      "metadata": {
        "id": "QXZhGB0-QdoO"
      },
      "outputs": [],
      "source": [
        "# Iterate through the test loader\n",
        "with torch.no_grad():\n",
        "    for inputs, labels in test_loader:\n",
        "        # Move inputs and labels to the device\n",
        "        inputs, labels = inputs.to(device), labels.to(device)\n",
        "\n",
        "        # Forward pass\n",
        "        outputs = loaded_model(inputs)\n",
        "\n",
        "        # Get predicted labels\n",
        "        _, preds = torch.max(outputs, 1)\n",
        "\n",
        "        # Append true and predicted labels to the lists\n",
        "        true_labels.extend(labels.cpu().numpy())\n",
        "        predicted_labels.extend(preds.cpu().numpy())"
      ]
    },
    {
      "cell_type": "markdown",
      "metadata": {
        "id": "5PeTuw0eVtlw"
      },
      "source": [
        "###Predict with GPU"
      ]
    },
    {
      "cell_type": "code",
      "execution_count": null,
      "metadata": {
        "colab": {
          "base_uri": "https://localhost:8080/"
        },
        "id": "rnfuu47fp-vL",
        "outputId": "0ba2aa33-7323-4509-a70e-f4bd4853e079"
      },
      "outputs": [
        {
          "name": "stdout",
          "output_type": "stream",
          "text": [
            "Predicted Class: Class Skill\n",
            "Highest Probability: 27.29%\n"
          ]
        }
      ],
      "source": [
        "# Make predictions\n",
        "with torch.no_grad():\n",
        "    output2 = loaded_model(frame_tensor)\n",
        "\n",
        "logits2 = output2  # Replace this with your actual output tensor\n",
        "probabilities = F.softmax(logits2, dim=1)\n",
        "\n",
        "# Get the predicted class index and its probability\n",
        "predicted_class_index = torch.argmax(output2).item()\n",
        "predicted_class_name = class_index_to_name[predicted_class_index]\n",
        "highest_probability = probabilities[0, predicted_class_index].item()\n",
        "\n",
        "print(f'Predicted Class: {predicted_class_name}')\n",
        "print(f'Highest Probability: {highest_probability:.2%}')\n"
      ]
    },
    {
      "cell_type": "code",
      "execution_count": null,
      "metadata": {
        "colab": {
          "base_uri": "https://localhost:8080/"
        },
        "id": "qKBfqEpUxmEE",
        "outputId": "75b06aeb-2b0f-43c6-ec48-f4bf2849b455"
      },
      "outputs": [
        {
          "name": "stdout",
          "output_type": "stream",
          "text": [
            "Number of Classes: 4\n"
          ]
        }
      ],
      "source": [
        "num_classes = loaded_model.classifier[3].out_channels\n",
        "print(f'Number of Classes: {num_classes}')\n"
      ]
    },
    {
      "cell_type": "code",
      "execution_count": null,
      "metadata": {
        "colab": {
          "base_uri": "https://localhost:8080/"
        },
        "id": "vHd3j9mfzrGU",
        "outputId": "29c5d6f2-4339-4c93-f0b1-6ce280cbe753"
      },
      "outputs": [
        {
          "name": "stdout",
          "output_type": "stream",
          "text": [
            "Number of Classes: 4\n"
          ]
        }
      ],
      "source": [
        "# Assuming your model is named 'model'\n",
        "final_layer_weight_size = loaded_model.classifier[3].weight.size()\n",
        "\n",
        "# The number of classes is the first dimension of the weight matrix\n",
        "num_classes = final_layer_weight_size[0]\n",
        "\n",
        "print(f'Number of Classes: {num_classes}')\n"
      ]
    },
    {
      "cell_type": "markdown",
      "metadata": {
        "id": "xuJlFzrF-Dve"
      },
      "source": [
        "#Test confusion matrix"
      ]
    },
    {
      "cell_type": "code",
      "execution_count": null,
      "metadata": {
        "colab": {
          "base_uri": "https://localhost:8080/"
        },
        "id": "RUe64VjhZ_B_",
        "outputId": "eaf8d1f1-50df-43fc-cacd-be846c4ca20b"
      },
      "outputs": [
        {
          "data": {
            "text/plain": [
              "Index(['true_label', 'predicted_label'], dtype='object')"
            ]
          },
          "execution_count": 62,
          "metadata": {},
          "output_type": "execute_result"
        }
      ],
      "source": [
        "file_path = \"/content/drive/MyDrive/Game analysis/Video/Vdo_model/true_predict_A5_habor_habor.csv\"\n",
        "df = pd.read_csv(file_path)\n",
        "df.columns"
      ]
    },
    {
      "cell_type": "code",
      "execution_count": null,
      "metadata": {
        "colab": {
          "base_uri": "https://localhost:8080/"
        },
        "id": "WiSClZt7aV6t",
        "outputId": "03181176-8d15-4ecd-c714-212183fc530d"
      },
      "outputs": [
        {
          "name": "stdout",
          "output_type": "stream",
          "text": [
            "['Buy', 'Death', 'Defuse', 'Free', 'Kill', 'Orb', 'Plant', 'Skill']\n"
          ]
        }
      ],
      "source": [
        "class_names = hmdb51_test_A5.classes\n",
        "print(class_names)"
      ]
    },
    {
      "cell_type": "code",
      "execution_count": null,
      "metadata": {
        "id": "ZM1ofJJlhzIN"
      },
      "outputs": [],
      "source": [
        "class_map = {\n",
        "    'Buy': 'Buy_Action',\n",
        "    'Free': 'Class_0_Action',\n",
        "    'Skill': 'Class_Skill_Action',\n",
        "    'Death': 'Dead_Action',\n",
        "    'Defuse': 'Defuse_Action',\n",
        "    'Orb': 'Orb_Action',\n",
        "    'Plant': 'Plant_Action',\n",
        "    'Kill': 'Shoot_Action'\n",
        "}\n"
      ]
    },
    {
      "cell_type": "code",
      "execution_count": null,
      "metadata": {
        "colab": {
          "base_uri": "https://localhost:8080/",
          "height": 673
        },
        "id": "ukItxs3Slecv",
        "outputId": "9db90ebc-810e-4818-c541-5b0914442f1e"
      },
      "outputs": [
        {
          "data": {
            "image/png": "[encoded data removed]",
            "text/plain": [
              "<Figure size 1000x600 with 2 Axes>"
            ]
          },
          "metadata": {},
          "output_type": "display_data"
        }
      ],
      "source": [
        "file_path = \"/content/drive/MyDrive/Game analysis/Video/Vdo_model/true_predict_A5_habor_habor.csv\"\n",
        "\n",
        "# อ่านไฟล์ CSV เข้า DataFrame\n",
        "df = pd.read_csv(file_path)\n",
        "class_names = hmdb51_test_A5.classes\n",
        "\n",
        "# สร้าง confusion matrix\n",
        "conf_matrix = confusion_matrix(df['true_label'], df['predicted_label'])\n",
        "class_name2 =['Buy_Action', 'Dead_Action', 'Defuse_Action', 'Class_0_Action', 'Shoot_Action', 'Orb_Action', 'Plant_Action', 'Class_Skill_Action']\n",
        "\n",
        "\n",
        "# กำหนดชื่อคลาสใหม่\n",
        "  #modified_class_names = ['Buy_Action', 'Class_0_Action', 'Class_Skill_Action', 'Dead_Action', 'Defuse_Action', 'Orb_Action', 'Plant_Action', 'Shoot_Action']\n",
        "\n",
        "# สร้าง DataFrame จาก confusion matrix และเรียงลำดับตามชื่อคลาสใหม่\n",
        "  #conf_matrix_df = pd.DataFrame(conf_matrix, index=modified_class_names, columns=modified_class_names)\n",
        "# สร้าง heatmap\n",
        "plt.figure(figsize=(10, 6))\n",
        "sns.heatmap(conf_matrix, annot=True,xticklabels=class_name2, yticklabels=class_name2,fmt='d', cmap='Blues')\n",
        "plt.xlabel('Predicted Label')\n",
        "plt.ylabel('True Label')\n",
        "plt.title('Confusion Matrix')\n",
        "plt.show()\n"
      ]
    },
    {
      "cell_type": "markdown",
      "metadata": {
        "id": "dmBWHOvpC1MS"
      },
      "source": [
        "##เปลี่ยนชื่อให้สวย\n"
      ]
    },
    {
      "cell_type": "code",
      "execution_count": null,
      "metadata": {
        "colab": {
          "base_uri": "https://localhost:8080/"
        },
        "id": "l44cF166B-e1",
        "outputId": "d7df5f6c-6546-4cc9-f087-f8a1a2d077cc"
      },
      "outputs": [
        {
          "name": "stdout",
          "output_type": "stream",
          "text": [
            "Modified Class Names: ['Buy_Action', 'Dead_Action', 'Defuse_Action', 'Class_0_Action', 'Shoot_Action', 'Orb_Action', 'Plant_Action', 'Class_Skill_Action']\n"
          ]
        }
      ],
      "source": [
        "file_path = \"/content/drive/MyDrive/Game analysis/Video/Vdo_model/true_predict_A5_habor_habor.csv\"\n",
        "df = pd.read_csv(file_path)\n",
        "# การแปลงชื่อคลาส\n",
        "modified_names = {\n",
        "    'Buy': 'Buy_Action',\n",
        "    'Free': 'Class_0_Action',\n",
        "    'Skill': 'Class_Skill_Action',\n",
        "    'Death': 'Dead_Action',\n",
        "    'Defuse': 'Defuse_Action',\n",
        "    'Orb': 'Orb_Action',\n",
        "    'Plant': 'Plant_Action',\n",
        "    'Kill': 'Shoot_Action'\n",
        "}\n",
        "\n",
        "modified_class_names = [modified_names.get(class_name, class_name) for class_name in class_names]\n",
        "print(\"Modified Class Names:\", modified_class_names)"
      ]
    },
    {
      "cell_type": "markdown",
      "metadata": {
        "id": "cN4i4NCeC3ID"
      },
      "source": [
        "##ชื่อ orignal"
      ]
    },
    {
      "cell_type": "code",
      "execution_count": null,
      "metadata": {
        "colab": {
          "base_uri": "https://localhost:8080/",
          "height": 564
        },
        "id": "n65my_D0CTE8",
        "outputId": "92458ace-979a-4252-d95d-9aed8313c3fa"
      },
      "outputs": [
        {
          "data": {
            "image/png": "[encoded data removed]",
            "text/plain": [
              "<Figure size 1000x600 with 2 Axes>"
            ]
          },
          "metadata": {},
          "output_type": "display_data"
        }
      ],
      "source": [
        "from sklearn.metrics import confusion_matrix\n",
        "import seaborn as sns\n",
        "import matplotlib.pyplot as plt\n",
        "\n",
        "# สร้าง confusion matrix\n",
        "conf_matrix = confusion_matrix(df['true_label'], df['predicted_label'])\n",
        "\n",
        "class_names = hmdb51_test_A5.classes\n",
        "\n",
        "# สร้าง heatmap\n",
        "plt.figure(figsize=(10, 6))\n",
        "sns.heatmap(conf_matrix, annot=True,  xticklabels=class_names, yticklabels=class_names,fmt='d', cmap='Blues')\n",
        "plt.xlabel('Predicted Label')\n",
        "plt.ylabel('True Label')\n",
        "plt.title('Confusion Matrix')\n",
        "plt.show()\n"
      ]
    },
    {
      "cell_type": "markdown",
      "metadata": {
        "id": "KsuOmJkyacF3"
      },
      "source": [
        "##plot อื่นๆ"
      ]
    },
    {
      "cell_type": "code",
      "execution_count": null,
      "metadata": {
        "colab": {
          "background_save": true,
          "base_uri": "https://localhost:8080/"
        },
        "id": "UKlBifqFC6jT",
        "outputId": "862d7851-0b8d-441f-9019-ce6facaa453c"
      },
      "outputs": [
        {
          "name": "stdout",
          "output_type": "stream",
          "text": [
            "Classification Report:\n"
          ]
        },
        {
          "ename": "ValueError",
          "evalue": "unknown is not supported",
          "output_type": "error",
          "traceback": [
            "\u001b[0;31m---------------------------------------------------------------------------\u001b[0m",
            "\u001b[0;31mValueError\u001b[0m                                Traceback (most recent call last)",
            "\u001b[0;32m<ipython-input-101-dcab0e7393c1>\u001b[0m in \u001b[0;36m<cell line: 3>\u001b[0;34m()\u001b[0m\n\u001b[1;32m      1\u001b[0m \u001b[0;31m# Print classification report\u001b[0m\u001b[0;34m\u001b[0m\u001b[0;34m\u001b[0m\u001b[0m\n\u001b[1;32m      2\u001b[0m \u001b[0mprint\u001b[0m\u001b[0;34m(\u001b[0m\u001b[0;34m\"Classification Report:\"\u001b[0m\u001b[0;34m)\u001b[0m\u001b[0;34m\u001b[0m\u001b[0;34m\u001b[0m\u001b[0m\n\u001b[0;32m----> 3\u001b[0;31m \u001b[0mprint\u001b[0m\u001b[0;34m(\u001b[0m\u001b[0mclassification_report\u001b[0m\u001b[0;34m(\u001b[0m\u001b[0mtrue_labels\u001b[0m\u001b[0;34m,\u001b[0m \u001b[0mpredicted_labels\u001b[0m\u001b[0;34m)\u001b[0m\u001b[0;34m)\u001b[0m\u001b[0;34m\u001b[0m\u001b[0;34m\u001b[0m\u001b[0m\n\u001b[0m",
            "\u001b[0;32m/usr/local/lib/python3.10/dist-packages/sklearn/metrics/_classification.py\u001b[0m in \u001b[0;36mclassification_report\u001b[0;34m(y_true, y_pred, labels, target_names, sample_weight, digits, output_dict, zero_division)\u001b[0m\n\u001b[1;32m   2308\u001b[0m     \"\"\"\n\u001b[1;32m   2309\u001b[0m \u001b[0;34m\u001b[0m\u001b[0m\n\u001b[0;32m-> 2310\u001b[0;31m     \u001b[0my_type\u001b[0m\u001b[0;34m,\u001b[0m \u001b[0my_true\u001b[0m\u001b[0;34m,\u001b[0m \u001b[0my_pred\u001b[0m \u001b[0;34m=\u001b[0m \u001b[0m_check_targets\u001b[0m\u001b[0;34m(\u001b[0m\u001b[0my_true\u001b[0m\u001b[0;34m,\u001b[0m \u001b[0my_pred\u001b[0m\u001b[0;34m)\u001b[0m\u001b[0;34m\u001b[0m\u001b[0;34m\u001b[0m\u001b[0m\n\u001b[0m\u001b[1;32m   2311\u001b[0m \u001b[0;34m\u001b[0m\u001b[0m\n\u001b[1;32m   2312\u001b[0m     \u001b[0;32mif\u001b[0m \u001b[0mlabels\u001b[0m \u001b[0;32mis\u001b[0m \u001b[0;32mNone\u001b[0m\u001b[0;34m:\u001b[0m\u001b[0;34m\u001b[0m\u001b[0;34m\u001b[0m\u001b[0m\n",
            "\u001b[0;32m/usr/local/lib/python3.10/dist-packages/sklearn/metrics/_classification.py\u001b[0m in \u001b[0;36m_check_targets\u001b[0;34m(y_true, y_pred)\u001b[0m\n\u001b[1;32m    104\u001b[0m     \u001b[0;31m# No metrics support \"multiclass-multioutput\" format\u001b[0m\u001b[0;34m\u001b[0m\u001b[0;34m\u001b[0m\u001b[0m\n\u001b[1;32m    105\u001b[0m     \u001b[0;32mif\u001b[0m \u001b[0my_type\u001b[0m \u001b[0;32mnot\u001b[0m \u001b[0;32min\u001b[0m \u001b[0;34m[\u001b[0m\u001b[0;34m\"binary\"\u001b[0m\u001b[0;34m,\u001b[0m \u001b[0;34m\"multiclass\"\u001b[0m\u001b[0;34m,\u001b[0m \u001b[0;34m\"multilabel-indicator\"\u001b[0m\u001b[0;34m]\u001b[0m\u001b[0;34m:\u001b[0m\u001b[0;34m\u001b[0m\u001b[0;34m\u001b[0m\u001b[0m\n\u001b[0;32m--> 106\u001b[0;31m         \u001b[0;32mraise\u001b[0m \u001b[0mValueError\u001b[0m\u001b[0;34m(\u001b[0m\u001b[0;34m\"{0} is not supported\"\u001b[0m\u001b[0;34m.\u001b[0m\u001b[0mformat\u001b[0m\u001b[0;34m(\u001b[0m\u001b[0my_type\u001b[0m\u001b[0;34m)\u001b[0m\u001b[0;34m)\u001b[0m\u001b[0;34m\u001b[0m\u001b[0;34m\u001b[0m\u001b[0m\n\u001b[0m\u001b[1;32m    107\u001b[0m \u001b[0;34m\u001b[0m\u001b[0m\n\u001b[1;32m    108\u001b[0m     \u001b[0;32mif\u001b[0m \u001b[0my_type\u001b[0m \u001b[0;32min\u001b[0m \u001b[0;34m[\u001b[0m\u001b[0;34m\"binary\"\u001b[0m\u001b[0;34m,\u001b[0m \u001b[0;34m\"multiclass\"\u001b[0m\u001b[0;34m]\u001b[0m\u001b[0;34m:\u001b[0m\u001b[0;34m\u001b[0m\u001b[0;34m\u001b[0m\u001b[0m\n",
            "\u001b[0;31mValueError\u001b[0m: unknown is not supported"
          ]
        }
      ],
      "source": [
        "# Print classification report\n",
        "print(\"Classification Report:\")\n",
        "print(classification_report(true_labels, predicted_labels))\n"
      ]
    },
    {
      "cell_type": "code",
      "execution_count": null,
      "metadata": {
        "colab": {
          "base_uri": "https://localhost:8080/"
        },
        "id": "xOSaG_TxDIq_",
        "outputId": "ad27c962-0daf-44bb-d054-5883d2137fee"
      },
      "outputs": [
        {
          "name": "stdout",
          "output_type": "stream",
          "text": [
            "+--------------------+-----------+--------+----------+----------+\n",
            "|       Class        | Precision | Recall | F1-Score | Accuracy |\n",
            "+--------------------+-----------+--------+----------+----------+\n",
            "|     Buy_Action     |   1.0000  | 0.9889 |  0.9944  |          |\n",
            "|   Class_0_Action   |   0.9906  | 0.9906 |  0.9906  |          |\n",
            "| Class_Skill_Action |   1.0000  | 0.9891 |  0.9945  |          |\n",
            "|    Dead_Action     |   0.8208  | 0.9667 |  0.8878  |          |\n",
            "|   Defuse_Action    |   0.9651  | 0.9022 |  0.9326  |          |\n",
            "|     Orb_Action     |   1.0000  | 0.9891 |  0.9945  |          |\n",
            "|    Plant_Action    |   0.9574  | 0.9091 |  0.9326  |          |\n",
            "|    Shoot_Action    |   0.9773  | 0.9556 |  0.9663  |          |\n",
            "|      Overall       |           |        |          |  0.9614  |\n",
            "+--------------------+-----------+--------+----------+----------+\n"
          ]
        }
      ],
      "source": [
        "from prettytable import PrettyTable\n",
        "from sklearn.metrics import accuracy_score, precision_score, recall_score, f1_score\n",
        "\n",
        "# ตั้งชื่อคลาสตามที่กำหนด\n",
        "class_labels = hmdb51_test_A5.classes\n",
        "\n",
        "# คำนวณ precision, recall, f1-score, และ accuracy สำหรับแต่ละคลาส\n",
        "precision_per_class = precision_score(true_labels, predicted_labels, average=None)\n",
        "recall_per_class = recall_score(true_labels, predicted_labels, average=None)\n",
        "f1_per_class = f1_score(true_labels, predicted_labels, average=None)\n",
        "accuracy_per_class = accuracy_score(true_labels, predicted_labels)\n",
        "\n",
        "# สร้าง PrettyTable\n",
        "table = PrettyTable([\"Class\", \"Precision\", \"Recall\", \"F1-Score\", \"Accuracy\"])\n",
        "\n",
        "# เพิ่มแถวในตารางสำหรับแต่ละคลาส\n",
        "for class_label, precision, recall, f1 in zip(modified_class_names, precision_per_class, recall_per_class, f1_per_class):\n",
        "    table.add_row([class_label, f\"{precision:.4f}\", f\"{recall:.4f}\", f\"{f1:.4f}\", \"\"])\n",
        "\n",
        "\n",
        "# เพิ่มแถวสำหรับค่าความแม่นยำโดยรวม\n",
        "table.add_row([\"Overall\", \"\", \"\", \"\", f\"{accuracy_per_class:.4f}\"])\n",
        "\n",
        "# แสดงตาราง\n",
        "print(table)\n"
      ]
    },
    {
      "cell_type": "code",
      "execution_count": null,
      "metadata": {
        "colab": {
          "base_uri": "https://localhost:8080/"
        },
        "id": "sNzGztf9YjvI",
        "outputId": "70cf4303-484e-4366-9882-88ba0dcb6118"
      },
      "outputs": [
        {
          "name": "stdout",
          "output_type": "stream",
          "text": [
            "Classification Report:\n",
            "                    precision    recall  f1-score   support\n",
            "\n",
            "        Buy_Action       1.00      0.99      0.99        90\n",
            "    Class_0_Action       0.99      0.99      0.99       106\n",
            "Class_Skill_Action       1.00      0.99      0.99        92\n",
            "       Dead_Action       0.82      0.97      0.89        90\n",
            "     Defuse_Action       0.97      0.90      0.93        92\n",
            "        Orb_Action       1.00      0.99      0.99        92\n",
            "      Plant_Action       0.96      0.91      0.93        99\n",
            "      Shoot_Action       0.98      0.96      0.97        90\n",
            "\n",
            "          accuracy                           0.96       751\n",
            "         macro avg       0.96      0.96      0.96       751\n",
            "      weighted avg       0.96      0.96      0.96       751\n",
            "\n"
          ]
        }
      ],
      "source": [
        "from sklearn.metrics import classification_report\n",
        "\n",
        "# Print classification report\n",
        "print(\"Classification Report:\")\n",
        "print(classification_report(true_labels, predicted_labels, target_names=modified_class_names))\n"
      ]
    },
    {
      "cell_type": "markdown",
      "source": [
        "# Predict 1 Video else round"
      ],
      "metadata": {
        "id": "glRa--MRzqZP"
      }
    },
    {
      "cell_type": "markdown",
      "source": [
        "###Import"
      ],
      "metadata": {
        "id": "JCx4WSBLBGLF"
      }
    },
    {
      "cell_type": "code",
      "source": [
        "%cd /content/drive/MyDrive/Game analysis/Video/Vdo_model/video แบ่งรอบไม่ตัด/video_data\n",
        "%ls"
      ],
      "metadata": {
        "colab": {
          "base_uri": "https://localhost:8080/"
        },
        "id": "lTX9izylzuwA",
        "outputId": "6413b872-8d30-44a9-d247-a3813a46a466"
      },
      "execution_count": 6,
      "outputs": [
        {
          "output_type": "stream",
          "name": "stdout",
          "text": [
            "/content/drive/.shortcut-targets-by-id/1jusOl_HN_QQ9kYMlGXffiLoyy9tUOXuM/Game analysis/Video/Vdo_model/video แบ่งรอบไม่ตัด/video_data\n",
            "\u001b[0m\u001b[01;34mtest_video_cutvideo\u001b[0m/  \u001b[01;34mtest_video_fullvideo\u001b[0m/\n"
          ]
        }
      ]
    },
    {
      "cell_type": "markdown",
      "source": [
        "###Install ffmpeg"
      ],
      "metadata": {
        "id": "DGsseQj8BJ-d"
      }
    },
    {
      "cell_type": "code",
      "source": [
        "from IPython.display import clear_output\n",
        "!sudo curl -L https://github.com/BtbN/FFmpeg-Builds/releases/download/latest/ffmpeg-master-latest-linux64-gpl.tar.xz -o /usr/local/bin/ffmpeg.tar.xz\n",
        "clear_output()\n",
        "%cd /usr/local/bin/\n",
        "clear_output()\n",
        "!7z e /usr/local/bin/ffmpeg.tar.xz\n",
        "clear_output()\n",
        "!7z e /usr/local/bin/ffmpeg.tar\n",
        "clear_output()\n",
        "!sudo chmod a+rx /usr/local/bin/ffmpeg\n",
        "clear_output()\n",
        "%cd /content/\n",
        "!sudo curl -L https://mkvtoolnix.download/appimage/MKVToolNix_GUI-70.0.0-x86_64.AppImage -o /usr/local/bin/MKVToolNix_GUI-70.0.0-x86_64.AppImage\n",
        "!sudo chmod u+rx /usr/local/bin/MKVToolNix_GUI-70.0.0-x86_64.AppImage\n",
        "!sudo ln -s /usr/local/bin/MKVToolNix_GUI-70.0.0-x86_64.AppImage /usr/local/bin/mkvmerge\n",
        "!sudo chmod a+rx /usr/local/bin/mkvmerge\n",
        "clear_output()\n",
        "!ffmpeg -version"
      ],
      "metadata": {
        "id": "7BB7kGKfAD-k"
      },
      "execution_count": null,
      "outputs": []
    },
    {
      "cell_type": "code",
      "source": [
        "import os\n",
        "import subprocess\n",
        "\n",
        "# กำหนด path ของวิดีโอที่ต้องการตัด\n",
        "inputFile = \"/content/drive/MyDrive/Game analysis/Video/Vdo_model/video แบ่งรอบไม่ตัด/video_data/test_video_fullvideo/[8-30-23][03.05-33.00] nosyy - yoru - rank immortal 1 - รอบ 1.avi\"\n",
        "\n",
        "# เรียกใช้ ffmpeg เพื่อรับข้อมูลเกี่ยวกับวิดีโอและคำนวณความยาวของมัน\n",
        "command = ['ffmpeg', '-i', inputFile, '-f', 'null', '-']\n",
        "result = subprocess.run(command, stdout=subprocess.PIPE, stderr=subprocess.STDOUT)\n",
        "output = result.stdout.decode('utf-8')\n",
        "\n",
        "# หาค่า duration จาก output\n",
        "duration_index = output.find('Duration: ') + len('Duration: ')\n",
        "duration = output[duration_index:duration_index+11]\n",
        "duration = duration.split(':')\n",
        "duration = int(duration[0])*3600 + int(duration[1])*60 + int(duration[2].split('.')[0])\n",
        "\n",
        "# กำหนดความยาวของคลิปวิดีโอที่ต้องการตัด\n",
        "clipDuration = 2  # คลิปวิดีโอละ 2 วินาที\n",
        "\n",
        "# กำหนด path ที่ต้องการบันทึกไฟล์ผลลัพธ์\n",
        "outputFolder = \"/content/drive/MyDrive/Game analysis/Video/Vdo_model/video แบ่งรอบไม่ตัด/video_data/test_video_cutvideo/Immortal_1\"\n",
        "\n",
        "# คำนวณจำนวนคลิปวิดีโอที่ต้องการตัด\n",
        "numClips = duration // clipDuration\n",
        "\n",
        "# สร้างคำสั่ง FFMPEG สำหรับการตัดแต่ละคลิปวิดีโอ\n",
        "for i in range(numClips):\n",
        "    # คำนวณเวลาเริ่มต้นและสิ้นสุดของคลิปวิดีโอ\n",
        "    startTime = i * clipDuration\n",
        "    endTime = startTime + clipDuration\n",
        "\n",
        "    # สร้าง command line สำหรับ FFMPEG\n",
        "    commandLine = ['-hide_banner', '-i', inputFile, '-map', '0', '-c', 'copy', '-ss', \"{:02d}:{:02d}:{:02d}\".format(startTime // 3600, (startTime // 60) % 60, startTime % 60), '-to', \"{:02d}:{:02d}:{:02d}\".format(endTime // 3600, (endTime // 60) % 60, endTime % 60)]\n",
        "\n",
        "    sourceName = os.path.splitext(os.path.basename(os.path.abspath(inputFile)))[0]\n",
        "    sourceExtention = os.path.splitext(os.path.basename(os.path.abspath(inputFile)))[1]\n",
        "\n",
        "    # กำหนด path ของไฟล์ผลลัพธ์\n",
        "    outputFile = os.path.join(outputFolder, (sourceName + f'_clip{i+1}' + sourceExtention))\n",
        "    commandLine += [outputFile]\n",
        "\n",
        "    # ใช้ FFMPEG เพื่อตัดคลิปวิดีโอ\n",
        "    subprocess.run(['ffmpeg'] + commandLine)\n"
      ],
      "metadata": {
        "id": "RhXuGqTvC9LF"
      },
      "execution_count": 14,
      "outputs": []
    },
    {
      "cell_type": "code",
      "source": [
        "import os\n",
        "import subprocess\n",
        "\n",
        "# กำหนด path ของวิดีโอที่ต้องการตัด\n",
        "inputFile = \"/content/drive/MyDrive/Game analysis/Video/Vdo_model/video แบ่งรอบไม่ตัด/video_data/test_video_fullvideo/[8-30-23][03.05-33.00] nosyy - yoru - rank immortal 1 - รอบ 1.avi\"\n",
        "\n",
        "# เรียกใช้ ffmpeg เพื่อรับข้อมูลเกี่ยวกับวิดีโอและคำนวณความยาวของมัน\n",
        "command = ['ffmpeg', '-i', inputFile, '-f', 'null', '-']\n",
        "result = subprocess.run(command, stdout=subprocess.PIPE, stderr=subprocess.STDOUT)\n",
        "output = result.stdout.decode('utf-8')\n",
        "\n",
        "# หาค่า duration จาก output\n",
        "duration_index = output.find('Duration: ') + len('Duration: ')\n",
        "duration = output[duration_index:duration_index+11]\n",
        "duration = duration.split(':')\n",
        "duration = int(duration[0])*3600 + int(duration[1])*60 + int(duration[2].split('.')[0])\n",
        "\n",
        "# กำหนดความยาวของคลิปวิดีโอที่ต้องการตัด\n",
        "clipDuration = 2  # คลิปวิดีโอละ 2 วินาที\n",
        "\n",
        "# กำหนด path ที่ต้องการบันทึกไฟล์ผลลัพธ์\n",
        "outputFolder = \"/content/drive/MyDrive/Game analysis/Video/Vdo_model/video แบ่งรอบไม่ตัด/video_data/test_video_cutvideo/Immortal_1\"\n",
        "\n",
        "# คำนวณจำนวนคลิปวิดีโอที่ต้องการตัด\n",
        "numClips = duration // clipDuration\n",
        "\n",
        "# สร้างคำสั่ง FFMPEG สำหรับการตัดแต่ละคลิปวิดีโอ\n",
        "for i in range(numClips):\n",
        "    # คำนวณเวลาเริ่มต้นและสิ้นสุดของคลิปวิดีโอ\n",
        "    startTime = i * clipDuration\n",
        "    endTime = startTime + clipDuration\n",
        "\n",
        "    # สร้าง command line สำหรับ FFMPEG\n",
        "    commandLine = ['-hide_banner', '-i', inputFile, '-map', '0', '-c', 'copy', '-ss', \"{:02d}:{:02d}:{:02d}\".format(startTime // 3600, (startTime // 60) % 60, startTime % 60), '-to', \"{:02d}:{:02d}:{:02d}\".format(endTime // 3600, (endTime // 60) % 60, endTime % 60)]\n",
        "\n",
        "    # กำหนด path ของไฟล์ผลลัพธ์\n",
        "    outputFile = os.path.join(outputFolder, f\"video_test_{i+1}.avi\")\n",
        "    commandLine += [outputFile]\n",
        "\n",
        "    # ใช้ FFMPEG เพื่อตัดคลิปวิดีโอ\n",
        "    subprocess.run(['ffmpeg'] + commandLine)\n"
      ],
      "metadata": {
        "id": "ZOF5dwJ2ajZO"
      },
      "execution_count": 37,
      "outputs": []
    },
    {
      "cell_type": "code",
      "source": [
        "import os\n",
        "\n",
        "# กำหนด path ของโฟลเดอร์ที่มีวิดีโอ\n",
        "folder_path = \"/content/drive/MyDrive/Game analysis/Video/Vdo_model/video แบ่งรอบไม่ตัด/video_data/test_video_cutvideo/Immortal_1/\"\n",
        "\n",
        "# สร้างไฟล์ text\n",
        "output_file_path = \"/content/drive/MyDrive/Game analysis/Video/Vdo_model/video แบ่งรอบไม่ตัด/test_train_splits/Immortal_1_test_split1.txt\"\n",
        "with open(output_file_path, \"w\") as f:\n",
        "    # วนลูปผ่านไฟล์ในโฟลเดอร์\n",
        "    for i, filename in enumerate(os.listdir(folder_path), start=1):\n",
        "        # ตรวจสอบว่าไฟล์เป็นไฟล์วิดีโอ (.avi) หรือไม่\n",
        "        if filename.endswith(\".avi\"):\n",
        "            # สร้างชื่อไฟล์ใหม่\n",
        "            new_filename = f\"video_test_{i}.avi 2\\n\"\n",
        "            # เขียนชื่อไฟล์ใหม่ลงในไฟล์ text\n",
        "            f.write(new_filename)\n"
      ],
      "metadata": {
        "id": "mc5iJ_QCVFle"
      },
      "execution_count": 34,
      "outputs": []
    },
    {
      "cell_type": "markdown",
      "source": [
        "### Load Model & Load data"
      ],
      "metadata": {
        "id": "nRwvIO7pZKt2"
      }
    },
    {
      "cell_type": "code",
      "source": [
        "# Define the model architecture\n",
        "loaded_model1 = MoViNet(_C.MODEL.MoViNetA5, causal=False, pretrained=True)\n",
        "loaded_model1.classifier[3] = torch.nn.Conv3d(2048, 8, (1, 1, 1))\n",
        "\n",
        "# Specify the path to the checkpoint file\n",
        "best_checkpoint_path = '/content/drive/MyDrive/Game analysis/Video/Vdo_model/Model/Model Yoru Checkpoint/A5_yoru+habor_Checkpoint_epoch_round112 (1).pth'\n",
        "\n",
        "# Load the checkpoint, specifying map_location to CPU\n",
        "best_checkpoint = torch.load(best_checkpoint_path, map_location=torch.device('cpu'))\n",
        "\n",
        "# Load the model's state dictionary\n",
        "loaded_model1.load_state_dict(best_checkpoint['model_state_dict'])\n",
        "\n",
        "# Set the model to evaluation mode\n",
        "loaded_model1.eval()\n"
      ],
      "metadata": {
        "id": "S9BCy-ReKVmo"
      },
      "execution_count": null,
      "outputs": []
    },
    {
      "cell_type": "code",
      "source": [
        "torch.manual_seed(97)\n",
        "num_frames = 24 # 16\n",
        "clip_steps = 12\n",
        "Bs_Train = 1\n",
        "Bs_Test = 1\n",
        "\n",
        "transform_test_A5 = transforms.Compose([\n",
        "                                 T.ToFloatTensorInZeroOne(),\n",
        "                                 T.Resize((400, 400)),\n",
        "                                 #T.Normalize(mean=[0.43216, 0.394666, 0.37645], std=[0.22803, 0.22145, 0.216989]),\n",
        "                                 T.CenterCrop((320, 320))]) #Size for model\n",
        "\n",
        "\n",
        "hmdb51_test_A5 = torchvision.datasets.HMDB51('/content/drive/MyDrive/Game analysis/Video/Vdo_model/video แบ่งรอบไม่ตัด/video_data/test_video_cutvideo/',\n",
        "                                             '/content/drive/MyDrive/Game analysis/Video/Vdo_model/video แบ่งรอบไม่ตัด/test_train_splits//',\n",
        "                                              frames_per_clip=24,frame_rate=24,step_between_clips = clip_steps, fold=1, train=False,transform=transform_test_A5, num_workers=2)\n",
        "\n",
        "test_loader_A5  = DataLoader(hmdb51_test_A5 , batch_size=Bs_Test, shuffle=False)"
      ],
      "metadata": {
        "colab": {
          "base_uri": "https://localhost:8080/"
        },
        "id": "agXir6ekXvsm",
        "outputId": "e8dfeeeb-6dd3-4f58-a265-fac4fcaff483"
      },
      "execution_count": 38,
      "outputs": [
        {
          "output_type": "stream",
          "name": "stderr",
          "text": [
            "100%|██████████| 4/4 [00:07<00:00,  1.94s/it]\n"
          ]
        }
      ]
    },
    {
      "cell_type": "code",
      "source": [
        "print(hmdb51_test_A5)"
      ],
      "metadata": {
        "colab": {
          "base_uri": "https://localhost:8080/"
        },
        "id": "l7Wa8VYmX-A0",
        "outputId": "5e644394-ec0e-4a31-dcf7-10f02649caa2"
      },
      "execution_count": 39,
      "outputs": [
        {
          "output_type": "stream",
          "name": "stdout",
          "text": [
            "Dataset HMDB51\n",
            "    Number of datapoints: 109\n",
            "    Root location: /content/drive/MyDrive/Game analysis/Video/Vdo_model/video แบ่งรอบไม่ตัด/video_data/test_video_cutvideo/\n"
          ]
        }
      ]
    },
    {
      "cell_type": "markdown",
      "source": [
        "### Predict"
      ],
      "metadata": {
        "id": "tYngCyS1a-RT"
      }
    },
    {
      "cell_type": "code",
      "source": [
        "from sklearn.metrics import confusion_matrix\n",
        "from prettytable import PrettyTable\n",
        "from sklearn.metrics import accuracy_score, precision_score, recall_score, f1_score\n",
        "import numpy as np\n",
        "import torch\n",
        "from torch.utils.data import DataLoader\n",
        "import seaborn as sns\n",
        "import matplotlib.pyplot as plt\n",
        "import numpy as np\n",
        "from sklearn.metrics import confusion_matrix\n",
        "from sklearn.metrics import classification_report"
      ],
      "metadata": {
        "id": "QOzLX6wfa38n"
      },
      "execution_count": 40,
      "outputs": []
    },
    {
      "cell_type": "code",
      "source": [
        "device = next(loaded_model1.parameters()).device\n",
        "true_labels, predicted_labels = [], []\n",
        "with torch.no_grad():\n",
        "    for data, _, target in test_loader_A5:\n",
        "        # Move data and target to the same device as the model\n",
        "        data, target = data.to(device), target.to(device)\n",
        "\n",
        "        output = F.log_softmax(loaded_model1(data), dim=1)\n",
        "        _, predicted = torch.max(output, dim=1)\n",
        "\n",
        "        true_labels.extend(target.cpu().numpy())\n",
        "        predicted_labels.extend(predicted.cpu().numpy())"
      ],
      "metadata": {
        "colab": {
          "base_uri": "https://localhost:8080/"
        },
        "id": "sy7Ker0FbAhV",
        "outputId": "74653cd6-bef7-4862-dfcc-ba50c3fc31b1"
      },
      "execution_count": 41,
      "outputs": [
        {
          "output_type": "stream",
          "name": "stderr",
          "text": [
            "/usr/local/lib/python3.10/dist-packages/torchvision/io/video.py:161: UserWarning: The pts_unit 'pts' gives wrong results. Please use pts_unit 'sec'.\n",
            "  warnings.warn(\"The pts_unit 'pts' gives wrong results. Please use pts_unit 'sec'.\")\n"
          ]
        }
      ]
    },
    {
      "cell_type": "code",
      "source": [
        "import pandas as pd\n",
        "from google.colab import drive\n",
        "\n",
        "# Mount Google Drive เพื่อให้สามารถเข้าถึงไดเรกทอรีบน Google Drive\n",
        "drive.mount('/content/drive')\n",
        "\n",
        "# สร้าง DataFrame จาก true_labels และ predicted_labels\n",
        "df = pd.DataFrame({'true_label': true_labels, 'predicted_label': predicted_labels})\n",
        "\n",
        "# บันทึก DataFrame เป็นไฟล์ CSV ในเส้นทางที่กำหนด\n",
        "output_path = '/content/drive/MyDrive/Game analysis/Video/Vdo_model/video แบ่งรอบไม่ตัด/true_predict_A5_yoru+habor_with 1 round.csv'\n",
        "df.to_csv(output_path, index=False)\n",
        "\n",
        "# บันทึก DataFrame เป็นไฟล์ CSV\n",
        "df.to_csv('true_predict_A5_yoru+habor_with 1 round.csv', index=False)"
      ],
      "metadata": {
        "colab": {
          "base_uri": "https://localhost:8080/"
        },
        "id": "IphcaFMslIoc",
        "outputId": "5a5c138e-2880-4082-f3b3-5bf18dea03d1"
      },
      "execution_count": 45,
      "outputs": [
        {
          "output_type": "stream",
          "name": "stdout",
          "text": [
            "Drive already mounted at /content/drive; to attempt to forcibly remount, call drive.mount(\"/content/drive\", force_remount=True).\n"
          ]
        }
      ]
    },
    {
      "cell_type": "code",
      "source": [
        "import pandas as pd\n",
        "\n",
        "# โหลดไฟล์ CSV เป็น DataFrame\n",
        "file_path = '/content/drive/MyDrive/Game analysis/Video/Vdo_model/video แบ่งรอบไม่ตัด/true_predict_A5_yoru+habor_with 1 round.csv'\n",
        "df = pd.read_csv(file_path)\n",
        "\n",
        "# แสดง DataFrame\n",
        "df"
      ],
      "metadata": {
        "colab": {
          "base_uri": "https://localhost:8080/",
          "height": 423
        },
        "id": "oSzZKgD7l_G8",
        "outputId": "60ea1ec6-433a-48f5-af5f-89c7bdfa10a1"
      },
      "execution_count": 48,
      "outputs": [
        {
          "output_type": "execute_result",
          "data": {
            "text/plain": [
              "     true_label  predicted_label\n",
              "0             0                0\n",
              "1             0                0\n",
              "2             0                0\n",
              "3             0                7\n",
              "4             0                7\n",
              "..          ...              ...\n",
              "104           0                0\n",
              "105           0                0\n",
              "106           0                0\n",
              "107           0                0\n",
              "108           0                0\n",
              "\n",
              "[109 rows x 2 columns]"
            ],
            "text/html": [
              "\n",
              "  <div id=\"df-8e1f4553-edf4-4bd5-b613-06ec449a378a\" class=\"colab-df-container\">\n",
              "    <div>\n",
              "<style scoped>\n",
              "    .dataframe tbody tr th:only-of-type {\n",
              "        vertical-align: middle;\n",
              "    }\n",
              "\n",
              "    .dataframe tbody tr th {\n",
              "        vertical-align: top;\n",
              "    }\n",
              "\n",
              "    .dataframe thead th {\n",
              "        text-align: right;\n",
              "    }\n",
              "</style>\n",
              "<table border=\"1\" class=\"dataframe\">\n",
              "  <thead>\n",
              "    <tr style=\"text-align: right;\">\n",
              "      <th></th>\n",
              "      <th>true_label</th>\n",
              "      <th>predicted_label</th>\n",
              "    </tr>\n",
              "  </thead>\n",
              "  <tbody>\n",
              "    <tr>\n",
              "      <th>0</th>\n",
              "      <td>0</td>\n",
              "      <td>0</td>\n",
              "    </tr>\n",
              "    <tr>\n",
              "      <th>1</th>\n",
              "      <td>0</td>\n",
              "      <td>0</td>\n",
              "    </tr>\n",
              "    <tr>\n",
              "      <th>2</th>\n",
              "      <td>0</td>\n",
              "      <td>0</td>\n",
              "    </tr>\n",
              "    <tr>\n",
              "      <th>3</th>\n",
              "      <td>0</td>\n",
              "      <td>7</td>\n",
              "    </tr>\n",
              "    <tr>\n",
              "      <th>4</th>\n",
              "      <td>0</td>\n",
              "      <td>7</td>\n",
              "    </tr>\n",
              "    <tr>\n",
              "      <th>...</th>\n",
              "      <td>...</td>\n",
              "      <td>...</td>\n",
              "    </tr>\n",
              "    <tr>\n",
              "      <th>104</th>\n",
              "      <td>0</td>\n",
              "      <td>0</td>\n",
              "    </tr>\n",
              "    <tr>\n",
              "      <th>105</th>\n",
              "      <td>0</td>\n",
              "      <td>0</td>\n",
              "    </tr>\n",
              "    <tr>\n",
              "      <th>106</th>\n",
              "      <td>0</td>\n",
              "      <td>0</td>\n",
              "    </tr>\n",
              "    <tr>\n",
              "      <th>107</th>\n",
              "      <td>0</td>\n",
              "      <td>0</td>\n",
              "    </tr>\n",
              "    <tr>\n",
              "      <th>108</th>\n",
              "      <td>0</td>\n",
              "      <td>0</td>\n",
              "    </tr>\n",
              "  </tbody>\n",
              "</table>\n",
              "<p>109 rows × 2 columns</p>\n",
              "</div>\n",
              "    <div class=\"colab-df-buttons\">\n",
              "\n",
              "  <div class=\"colab-df-container\">\n",
              "    <button class=\"colab-df-convert\" onclick=\"convertToInteractive('df-8e1f4553-edf4-4bd5-b613-06ec449a378a')\"\n",
              "            title=\"Convert this dataframe to an interactive table.\"\n",
              "            style=\"display:none;\">\n",
              "\n",
              "  <svg xmlns=\"http://www.w3.org/2000/svg\" height=\"24px\" viewBox=\"0 -960 960 960\">\n",
              "    <path d=\"M120-120v-720h720v720H120Zm60-500h600v-160H180v160Zm220 220h160v-160H400v160Zm0 220h160v-160H400v160ZM180-400h160v-160H180v160Zm440 0h160v-160H620v160ZM180-180h160v-160H180v160Zm440 0h160v-160H620v160Z\"/>\n",
              "  </svg>\n",
              "    </button>\n",
              "\n",
              "  <style>\n",
              "    .colab-df-container {\n",
              "      display:flex;\n",
              "      gap: 12px;\n",
              "    }\n",
              "\n",
              "    .colab-df-convert {\n",
              "      background-color: #E8F0FE;\n",
              "      border: none;\n",
              "      border-radius: 50%;\n",
              "      cursor: pointer;\n",
              "      display: none;\n",
              "      fill: #1967D2;\n",
              "      height: 32px;\n",
              "      padding: 0 0 0 0;\n",
              "      width: 32px;\n",
              "    }\n",
              "\n",
              "    .colab-df-convert:hover {\n",
              "      background-color: #E2EBFA;\n",
              "      box-shadow: 0px 1px 2px rgba(60, 64, 67, 0.3), 0px 1px 3px 1px rgba(60, 64, 67, 0.15);\n",
              "      fill: #174EA6;\n",
              "    }\n",
              "\n",
              "    .colab-df-buttons div {\n",
              "      margin-bottom: 4px;\n",
              "    }\n",
              "\n",
              "    [theme=dark] .colab-df-convert {\n",
              "      background-color: #3B4455;\n",
              "      fill: #D2E3FC;\n",
              "    }\n",
              "\n",
              "    [theme=dark] .colab-df-convert:hover {\n",
              "      background-color: #434B5C;\n",
              "      box-shadow: 0px 1px 3px 1px rgba(0, 0, 0, 0.15);\n",
              "      filter: drop-shadow(0px 1px 2px rgba(0, 0, 0, 0.3));\n",
              "      fill: #FFFFFF;\n",
              "    }\n",
              "  </style>\n",
              "\n",
              "    <script>\n",
              "      const buttonEl =\n",
              "        document.querySelector('#df-8e1f4553-edf4-4bd5-b613-06ec449a378a button.colab-df-convert');\n",
              "      buttonEl.style.display =\n",
              "        google.colab.kernel.accessAllowed ? 'block' : 'none';\n",
              "\n",
              "      async function convertToInteractive(key) {\n",
              "        const element = document.querySelector('#df-8e1f4553-edf4-4bd5-b613-06ec449a378a');\n",
              "        const dataTable =\n",
              "          await google.colab.kernel.invokeFunction('convertToInteractive',\n",
              "                                                    [key], {});\n",
              "        if (!dataTable) return;\n",
              "\n",
              "        const docLinkHtml = 'Like what you see? Visit the ' +\n",
              "          '<a target=\"_blank\" href=https://colab.research.google.com/notebooks/data_table.ipynb>data table notebook</a>'\n",
              "          + ' to learn more about interactive tables.';\n",
              "        element.innerHTML = '';\n",
              "        dataTable['output_type'] = 'display_data';\n",
              "        await google.colab.output.renderOutput(dataTable, element);\n",
              "        const docLink = document.createElement('div');\n",
              "        docLink.innerHTML = docLinkHtml;\n",
              "        element.appendChild(docLink);\n",
              "      }\n",
              "    </script>\n",
              "  </div>\n",
              "\n",
              "\n",
              "<div id=\"df-4bbeeab7-7d56-4722-928b-dc7ac51d91d5\">\n",
              "  <button class=\"colab-df-quickchart\" onclick=\"quickchart('df-4bbeeab7-7d56-4722-928b-dc7ac51d91d5')\"\n",
              "            title=\"Suggest charts\"\n",
              "            style=\"display:none;\">\n",
              "\n",
              "<svg xmlns=\"http://www.w3.org/2000/svg\" height=\"24px\"viewBox=\"0 0 24 24\"\n",
              "     width=\"24px\">\n",
              "    <g>\n",
              "        <path d=\"M19 3H5c-1.1 0-2 .9-2 2v14c0 1.1.9 2 2 2h14c1.1 0 2-.9 2-2V5c0-1.1-.9-2-2-2zM9 17H7v-7h2v7zm4 0h-2V7h2v10zm4 0h-2v-4h2v4z\"/>\n",
              "    </g>\n",
              "</svg>\n",
              "  </button>\n",
              "\n",
              "<style>\n",
              "  .colab-df-quickchart {\n",
              "      --bg-color: #E8F0FE;\n",
              "      --fill-color: #1967D2;\n",
              "      --hover-bg-color: #E2EBFA;\n",
              "      --hover-fill-color: #174EA6;\n",
              "      --disabled-fill-color: #AAA;\n",
              "      --disabled-bg-color: #DDD;\n",
              "  }\n",
              "\n",
              "  [theme=dark] .colab-df-quickchart {\n",
              "      --bg-color: #3B4455;\n",
              "      --fill-color: #D2E3FC;\n",
              "      --hover-bg-color: #434B5C;\n",
              "      --hover-fill-color: #FFFFFF;\n",
              "      --disabled-bg-color: #3B4455;\n",
              "      --disabled-fill-color: #666;\n",
              "  }\n",
              "\n",
              "  .colab-df-quickchart {\n",
              "    background-color: var(--bg-color);\n",
              "    border: none;\n",
              "    border-radius: 50%;\n",
              "    cursor: pointer;\n",
              "    display: none;\n",
              "    fill: var(--fill-color);\n",
              "    height: 32px;\n",
              "    padding: 0;\n",
              "    width: 32px;\n",
              "  }\n",
              "\n",
              "  .colab-df-quickchart:hover {\n",
              "    background-color: var(--hover-bg-color);\n",
              "    box-shadow: 0 1px 2px rgba(60, 64, 67, 0.3), 0 1px 3px 1px rgba(60, 64, 67, 0.15);\n",
              "    fill: var(--button-hover-fill-color);\n",
              "  }\n",
              "\n",
              "  .colab-df-quickchart-complete:disabled,\n",
              "  .colab-df-quickchart-complete:disabled:hover {\n",
              "    background-color: var(--disabled-bg-color);\n",
              "    fill: var(--disabled-fill-color);\n",
              "    box-shadow: none;\n",
              "  }\n",
              "\n",
              "  .colab-df-spinner {\n",
              "    border: 2px solid var(--fill-color);\n",
              "    border-color: transparent;\n",
              "    border-bottom-color: var(--fill-color);\n",
              "    animation:\n",
              "      spin 1s steps(1) infinite;\n",
              "  }\n",
              "\n",
              "  @keyframes spin {\n",
              "    0% {\n",
              "      border-color: transparent;\n",
              "      border-bottom-color: var(--fill-color);\n",
              "      border-left-color: var(--fill-color);\n",
              "    }\n",
              "    20% {\n",
              "      border-color: transparent;\n",
              "      border-left-color: var(--fill-color);\n",
              "      border-top-color: var(--fill-color);\n",
              "    }\n",
              "    30% {\n",
              "      border-color: transparent;\n",
              "      border-left-color: var(--fill-color);\n",
              "      border-top-color: var(--fill-color);\n",
              "      border-right-color: var(--fill-color);\n",
              "    }\n",
              "    40% {\n",
              "      border-color: transparent;\n",
              "      border-right-color: var(--fill-color);\n",
              "      border-top-color: var(--fill-color);\n",
              "    }\n",
              "    60% {\n",
              "      border-color: transparent;\n",
              "      border-right-color: var(--fill-color);\n",
              "    }\n",
              "    80% {\n",
              "      border-color: transparent;\n",
              "      border-right-color: var(--fill-color);\n",
              "      border-bottom-color: var(--fill-color);\n",
              "    }\n",
              "    90% {\n",
              "      border-color: transparent;\n",
              "      border-bottom-color: var(--fill-color);\n",
              "    }\n",
              "  }\n",
              "</style>\n",
              "\n",
              "  <script>\n",
              "    async function quickchart(key) {\n",
              "      const quickchartButtonEl =\n",
              "        document.querySelector('#' + key + ' button');\n",
              "      quickchartButtonEl.disabled = true;  // To prevent multiple clicks.\n",
              "      quickchartButtonEl.classList.add('colab-df-spinner');\n",
              "      try {\n",
              "        const charts = await google.colab.kernel.invokeFunction(\n",
              "            'suggestCharts', [key], {});\n",
              "      } catch (error) {\n",
              "        console.error('Error during call to suggestCharts:', error);\n",
              "      }\n",
              "      quickchartButtonEl.classList.remove('colab-df-spinner');\n",
              "      quickchartButtonEl.classList.add('colab-df-quickchart-complete');\n",
              "    }\n",
              "    (() => {\n",
              "      let quickchartButtonEl =\n",
              "        document.querySelector('#df-4bbeeab7-7d56-4722-928b-dc7ac51d91d5 button');\n",
              "      quickchartButtonEl.style.display =\n",
              "        google.colab.kernel.accessAllowed ? 'block' : 'none';\n",
              "    })();\n",
              "  </script>\n",
              "</div>\n",
              "    </div>\n",
              "  </div>\n"
            ],
            "application/vnd.google.colaboratory.intrinsic+json": {
              "type": "dataframe",
              "variable_name": "df",
              "summary": "{\n  \"name\": \"df\",\n  \"rows\": 109,\n  \"fields\": [\n    {\n      \"column\": \"true_label\",\n      \"properties\": {\n        \"dtype\": \"number\",\n        \"std\": 0,\n        \"min\": 0,\n        \"max\": 0,\n        \"samples\": [\n          0\n        ],\n        \"num_unique_values\": 1,\n        \"semantic_type\": \"\",\n        \"description\": \"\"\n      }\n    },\n    {\n      \"column\": \"predicted_label\",\n      \"properties\": {\n        \"dtype\": \"number\",\n        \"std\": 2,\n        \"min\": 0,\n        \"max\": 7,\n        \"samples\": [\n          7\n        ],\n        \"num_unique_values\": 5,\n        \"semantic_type\": \"\",\n        \"description\": \"\"\n      }\n    }\n  ]\n}"
            }
          },
          "metadata": {},
          "execution_count": 48
        }
      ]
    },
    {
      "cell_type": "code",
      "source": [
        "conf_matrix = confusion_matrix(true_labels, predicted_labels)\n",
        "print(\"Confusion Matrix:\")\n",
        "print(conf_matrix)"
      ],
      "metadata": {
        "colab": {
          "base_uri": "https://localhost:8080/"
        },
        "id": "oWn0wAUgmqKE",
        "outputId": "96c6bb42-3a63-4a5a-9fd8-bbe7e0f83be5"
      },
      "execution_count": 49,
      "outputs": [
        {
          "output_type": "stream",
          "name": "stdout",
          "text": [
            "Confusion Matrix:\n",
            "[[76  1 11  4 17]\n",
            " [ 0  0  0  0  0]\n",
            " [ 0  0  0  0  0]\n",
            " [ 0  0  0  0  0]\n",
            " [ 0  0  0  0  0]]\n"
          ]
        }
      ]
    },
    {
      "cell_type": "code",
      "source": [
        "unique_predicted_labels = df['predicted_label'].unique()\n",
        "print(unique_predicted_labels)\n"
      ],
      "metadata": {
        "colab": {
          "base_uri": "https://localhost:8080/"
        },
        "id": "LF5HqpTzm2V7",
        "outputId": "b1edaa73-7342-4873-ae06-d5c2d59ead3c"
      },
      "execution_count": 50,
      "outputs": [
        {
          "output_type": "stream",
          "name": "stdout",
          "text": [
            "[0 7 6 2 1]\n"
          ]
        }
      ]
    },
    {
      "cell_type": "code",
      "source": [
        "class_names = hmdb51_test_A5.classes\n",
        "print(class_names)"
      ],
      "metadata": {
        "colab": {
          "base_uri": "https://localhost:8080/"
        },
        "id": "vDVA_0iopgMo",
        "outputId": "2e84b671-96e4-43ff-ed48-3a74cb0c29e8"
      },
      "execution_count": 53,
      "outputs": [
        {
          "output_type": "stream",
          "name": "stdout",
          "text": [
            "['Immortal_1']\n"
          ]
        }
      ]
    },
    {
      "cell_type": "code",
      "source": [
        "#class_names_test = ['Buy_Action', 'Class 0 Action', 'Class Skill Action', 'Dead_Action', 'Defuse Action', 'Orb Action', 'Plant Action', 'Shoot Action']\n",
        "plt.figure(figsize=(10, 6))\n",
        "sns.heatmap(conf_matrix, annot=True, fmt='d', cmap='Blues', xticklabels=class_names, yticklabels=class_names)\n",
        "plt.xlabel('Predicted Label')\n",
        "plt.ylabel('True Label')\n",
        "plt.title('Confusion Matrix')\n",
        "plt.show()\n"
      ],
      "metadata": {
        "colab": {
          "base_uri": "https://localhost:8080/",
          "height": 564
        },
        "id": "igkXqx6upOJU",
        "outputId": "9aba7078-0005-4b93-add8-fd3e2a09b858"
      },
      "execution_count": 52,
      "outputs": [
        {
          "output_type": "display_data",
          "data": {
            "text/plain": [
              "<Figure size 1000x600 with 2 Axes>"
            ],
            "image/png": "[encoded data removed]"
          },
          "metadata": {}
        }
      ]
    }
  ],
  "metadata": {
    "colab": {
      "collapsed_sections": [
        "vd5t8zqx__nD",
        "wsXl-K_I4Q66",
        "UhaQ6ZkO7re1",
        "rUlpNpbeWedl",
        "NA8ukNeGQLXh",
        "F2nDiJauZOIB",
        "UfExloFD62Ik",
        "b5vaZXKqZQiq",
        "331t5Ov1Ph6l",
        "Uxho7EyfeHO6",
        "at08RywSXm3k",
        "S_B4HWxzUVYi",
        "1NTIgedif8w9",
        "USAxQblmUS6U",
        "n_uO5JRvVKrW",
        "REF8jRA4UQf1",
        "kE9s9Cmu7Wu0",
        "DKIU9Xkvajnr",
        "LzmvWZDDQ8hm",
        "Ia1sX-YLb_FO",
        "C2-llb6H0cmr",
        "nMSQ2d692qt_",
        "Elx-UMFnfr51",
        "lDW4EomIK4FZ",
        "pxAWJLfTfYkh",
        "YHq8q7W1IiMs",
        "V28Q2P5CvSvJ",
        "Da_NNaLhuWIw",
        "TtSDICQauZKt",
        "gBpjiYOOqqy0",
        "-Air01s1WG3c",
        "xuJlFzrF-Dve",
        "dmBWHOvpC1MS",
        "cN4i4NCeC3ID",
        "JCx4WSBLBGLF",
        "DGsseQj8BJ-d",
        "nRwvIO7pZKt2"
      ],
      "provenance": [],
      "include_colab_link": true
    },
    "kernelspec": {
      "display_name": "Python 3",
      "name": "python3"
    },
    "language_info": {
      "codemirror_mode": {
        "name": "ipython",
        "version": 3
      },
      "file_extension": ".py",
      "mimetype": "text/x-python",
      "name": "python",
      "nbconvert_exporter": "python",
      "pygments_lexer": "ipython3",
      "version": "3.8.10"
    }
  },
  "nbformat": 4,
  "nbformat_minor": 0
}