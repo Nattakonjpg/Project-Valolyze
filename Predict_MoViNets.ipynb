{
  "nbformat": 4,
  "nbformat_minor": 0,
  "metadata": {
    "colab": {
      "provenance": [],
      "collapsed_sections": [
        "ZPNR7VCjtSrk",
        "mE2LznW34v9V",
        "JH0kX09_6mCb",
        "d9SqL4GLtbzh",
        "CGfHxBPDqmS9",
        "f7mI1uHQthtu",
        "u6vOR-FGts1n",
        "q8NKj2JJtUbO"
      ],
      "authorship_tag": "ABX9TyPuFS4GMdGm2S5mOFejowqp",
      "include_colab_link": true
    },
    "kernelspec": {
      "name": "python3",
      "display_name": "Python 3"
    },
    "language_info": {
      "name": "python"
    }
  },
  "cells": [
    {
      "cell_type": "markdown",
      "metadata": {
        "id": "view-in-github",
        "colab_type": "text"
      },
      "source": [
        "<a href=\"https://colab.research.google.com/github/Nattakonjpg/Project-Valolyze/blob/main/Predict_MoViNets.ipynb\" target=\"_parent\"><img src=\"https://colab.research.google.com/assets/colab-badge.svg\" alt=\"Open In Colab\"/></a>"
      ]
    },
    {
      "cell_type": "markdown",
      "source": [
        "#Google Drive"
      ],
      "metadata": {
        "id": "ZPNR7VCjtSrk"
      }
    },
    {
      "cell_type": "code",
      "execution_count": 2,
      "metadata": {
        "colab": {
          "base_uri": "https://localhost:8080/"
        },
        "id": "F43oWk6etKY_",
        "outputId": "30e09180-fae0-44bd-87df-b26f163ce0f3"
      },
      "outputs": [
        {
          "output_type": "stream",
          "name": "stdout",
          "text": [
            "Mounted at /content/drive\n"
          ]
        }
      ],
      "source": [
        "from google.colab import drive\n",
        "import pandas as pd\n",
        "\n",
        "drive.mount('/content/drive')"
      ]
    },
    {
      "cell_type": "code",
      "source": [
        "%cd /content/drive/MyDrive\n",
        "%ls"
      ],
      "metadata": {
        "colab": {
          "base_uri": "https://localhost:8080/"
        },
        "id": "VLWHkH0H5RZE",
        "outputId": "bbb8c094-2429-487f-ff74-ecbba054829b"
      },
      "execution_count": 3,
      "outputs": [
        {
          "output_type": "stream",
          "name": "stdout",
          "text": [
            "/content/drive/MyDrive\n",
            " A5_yoru+habor_Checkpoint_epoch_round112.pth  \u001b[0m\u001b[01;34m'Csv file'\u001b[0m/     transforms.py\n",
            "\u001b[01;34m'Colab Notebooks'\u001b[0m/                             \u001b[01;34m__pycache__\u001b[0m/  \u001b[01;34m'video แบ่งรอบไม่ตัด'\u001b[0m\u001b[K/\n"
          ]
        }
      ]
    },
    {
      "cell_type": "markdown",
      "source": [
        "## Install package Library"
      ],
      "metadata": {
        "id": "rKAvbcCm4VMm"
      }
    },
    {
      "cell_type": "markdown",
      "source": [
        "###Install Package"
      ],
      "metadata": {
        "id": "KYXZ_46g4aT0"
      }
    },
    {
      "cell_type": "code",
      "source": [
        "!pip install av"
      ],
      "metadata": {
        "colab": {
          "base_uri": "https://localhost:8080/"
        },
        "id": "LSC1rPGV4W2x",
        "outputId": "89f3735d-ec5c-4561-85a5-9475f64b7d9d"
      },
      "execution_count": 4,
      "outputs": [
        {
          "output_type": "stream",
          "name": "stdout",
          "text": [
            "Collecting av\n",
            "  Downloading av-11.0.0-cp310-cp310-manylinux_2_17_x86_64.manylinux2014_x86_64.whl (32.9 MB)\n",
            "\u001b[2K     \u001b[90m━━━━━━━━━━━━━━━━━━━━━━━━━━━━━━━━━━━━━━━━\u001b[0m \u001b[32m32.9/32.9 MB\u001b[0m \u001b[31m21.3 MB/s\u001b[0m eta \u001b[36m0:00:00\u001b[0m\n",
            "\u001b[?25hInstalling collected packages: av\n",
            "Successfully installed av-11.0.0\n"
          ]
        }
      ]
    },
    {
      "cell_type": "code",
      "source": [
        "pip install git+https://github.com/Atze00/MoViNet-pytorch.git"
      ],
      "metadata": {
        "colab": {
          "base_uri": "https://localhost:8080/"
        },
        "id": "37ySB7RU4jSC",
        "outputId": "ca7fe365-3e78-4037-f22e-443192646d5a"
      },
      "execution_count": 5,
      "outputs": [
        {
          "output_type": "stream",
          "name": "stdout",
          "text": [
            "Collecting git+https://github.com/Atze00/MoViNet-pytorch.git\n",
            "  Cloning https://github.com/Atze00/MoViNet-pytorch.git to /tmp/pip-req-build-x27a8ay2\n",
            "  Running command git clone --filter=blob:none --quiet https://github.com/Atze00/MoViNet-pytorch.git /tmp/pip-req-build-x27a8ay2\n",
            "  Resolved https://github.com/Atze00/MoViNet-pytorch.git to commit c2d1edf48fc6c5259707f9d833f22171b4f63493\n",
            "  Preparing metadata (setup.py) ... \u001b[?25l\u001b[?25hdone\n",
            "Requirement already satisfied: torch in /usr/local/lib/python3.10/dist-packages (from MoViNet-pytorch==0.2.2) (2.1.0+cu121)\n",
            "Collecting fvcore (from MoViNet-pytorch==0.2.2)\n",
            "  Downloading fvcore-0.1.5.post20221221.tar.gz (50 kB)\n",
            "\u001b[2K     \u001b[90m━━━━━━━━━━━━━━━━━━━━━━━━━━━━━━━━━━━━━━━━\u001b[0m \u001b[32m50.2/50.2 kB\u001b[0m \u001b[31m1.4 MB/s\u001b[0m eta \u001b[36m0:00:00\u001b[0m\n",
            "\u001b[?25h  Preparing metadata (setup.py) ... \u001b[?25l\u001b[?25hdone\n",
            "Collecting einops (from MoViNet-pytorch==0.2.2)\n",
            "  Downloading einops-0.7.0-py3-none-any.whl (44 kB)\n",
            "\u001b[2K     \u001b[90m━━━━━━━━━━━━━━━━━━━━━━━━━━━━━━━━━━━━━━━━\u001b[0m \u001b[32m44.6/44.6 kB\u001b[0m \u001b[31m3.7 MB/s\u001b[0m eta \u001b[36m0:00:00\u001b[0m\n",
            "\u001b[?25hRequirement already satisfied: numpy in /usr/local/lib/python3.10/dist-packages (from fvcore->MoViNet-pytorch==0.2.2) (1.25.2)\n",
            "Collecting yacs>=0.1.6 (from fvcore->MoViNet-pytorch==0.2.2)\n",
            "  Downloading yacs-0.1.8-py3-none-any.whl (14 kB)\n",
            "Requirement already satisfied: pyyaml>=5.1 in /usr/local/lib/python3.10/dist-packages (from fvcore->MoViNet-pytorch==0.2.2) (6.0.1)\n",
            "Requirement already satisfied: tqdm in /usr/local/lib/python3.10/dist-packages (from fvcore->MoViNet-pytorch==0.2.2) (4.66.2)\n",
            "Requirement already satisfied: termcolor>=1.1 in /usr/local/lib/python3.10/dist-packages (from fvcore->MoViNet-pytorch==0.2.2) (2.4.0)\n",
            "Requirement already satisfied: Pillow in /usr/local/lib/python3.10/dist-packages (from fvcore->MoViNet-pytorch==0.2.2) (9.4.0)\n",
            "Requirement already satisfied: tabulate in /usr/local/lib/python3.10/dist-packages (from fvcore->MoViNet-pytorch==0.2.2) (0.9.0)\n",
            "Collecting iopath>=0.1.7 (from fvcore->MoViNet-pytorch==0.2.2)\n",
            "  Downloading iopath-0.1.10.tar.gz (42 kB)\n",
            "\u001b[2K     \u001b[90m━━━━━━━━━━━━━━━━━━━━━━━━━━━━━━━━━━━━━━━━\u001b[0m \u001b[32m42.2/42.2 kB\u001b[0m \u001b[31m4.9 MB/s\u001b[0m eta \u001b[36m0:00:00\u001b[0m\n",
            "\u001b[?25h  Preparing metadata (setup.py) ... \u001b[?25l\u001b[?25hdone\n",
            "Requirement already satisfied: filelock in /usr/local/lib/python3.10/dist-packages (from torch->MoViNet-pytorch==0.2.2) (3.13.1)\n",
            "Requirement already satisfied: typing-extensions in /usr/local/lib/python3.10/dist-packages (from torch->MoViNet-pytorch==0.2.2) (4.9.0)\n",
            "Requirement already satisfied: sympy in /usr/local/lib/python3.10/dist-packages (from torch->MoViNet-pytorch==0.2.2) (1.12)\n",
            "Requirement already satisfied: networkx in /usr/local/lib/python3.10/dist-packages (from torch->MoViNet-pytorch==0.2.2) (3.2.1)\n",
            "Requirement already satisfied: jinja2 in /usr/local/lib/python3.10/dist-packages (from torch->MoViNet-pytorch==0.2.2) (3.1.3)\n",
            "Requirement already satisfied: fsspec in /usr/local/lib/python3.10/dist-packages (from torch->MoViNet-pytorch==0.2.2) (2023.6.0)\n",
            "Requirement already satisfied: triton==2.1.0 in /usr/local/lib/python3.10/dist-packages (from torch->MoViNet-pytorch==0.2.2) (2.1.0)\n",
            "Collecting portalocker (from iopath>=0.1.7->fvcore->MoViNet-pytorch==0.2.2)\n",
            "  Downloading portalocker-2.8.2-py3-none-any.whl (17 kB)\n",
            "Requirement already satisfied: MarkupSafe>=2.0 in /usr/local/lib/python3.10/dist-packages (from jinja2->torch->MoViNet-pytorch==0.2.2) (2.1.5)\n",
            "Requirement already satisfied: mpmath>=0.19 in /usr/local/lib/python3.10/dist-packages (from sympy->torch->MoViNet-pytorch==0.2.2) (1.3.0)\n",
            "Building wheels for collected packages: MoViNet-pytorch, fvcore, iopath\n",
            "  Building wheel for MoViNet-pytorch (setup.py) ... \u001b[?25l\u001b[?25hdone\n",
            "  Created wheel for MoViNet-pytorch: filename=MoViNet_pytorch-0.2.2-py3-none-any.whl size=11959 sha256=91aeb58716554ad51f3a586216fd35855e7e05fd85dd7742a4f35e278a3e2fb9\n",
            "  Stored in directory: /tmp/pip-ephem-wheel-cache-n3oe67h3/wheels/a4/76/cf/b8a087460d770e5a44eff9ed975e225d43f007c8c14f8e26d2\n",
            "  Building wheel for fvcore (setup.py) ... \u001b[?25l\u001b[?25hdone\n",
            "  Created wheel for fvcore: filename=fvcore-0.1.5.post20221221-py3-none-any.whl size=61400 sha256=4c23b7b7b7007949e3b39dc4d26d02a1b25036a2166de53a5958e24968d078b4\n",
            "  Stored in directory: /root/.cache/pip/wheels/01/c0/af/77c1cf53a1be9e42a52b48e5af2169d40ec2e89f7362489dd0\n",
            "  Building wheel for iopath (setup.py) ... \u001b[?25l\u001b[?25hdone\n",
            "  Created wheel for iopath: filename=iopath-0.1.10-py3-none-any.whl size=31532 sha256=4a10f942c8de60821599f3233d14757edaa52e95775311174c2868b969327915\n",
            "  Stored in directory: /root/.cache/pip/wheels/9a/a3/b6/ac0fcd1b4ed5cfeb3db92e6a0e476cfd48ed0df92b91080c1d\n",
            "Successfully built MoViNet-pytorch fvcore iopath\n",
            "Installing collected packages: yacs, portalocker, einops, iopath, fvcore, MoViNet-pytorch\n",
            "Successfully installed MoViNet-pytorch-0.2.2 einops-0.7.0 fvcore-0.1.5.post20221221 iopath-0.1.10 portalocker-2.8.2 yacs-0.1.8\n"
          ]
        }
      ]
    },
    {
      "cell_type": "code",
      "source": [
        "import time\n",
        "import torchvision\n",
        "import torch.nn.functional as F\n",
        "import torchvision.transforms as transforms\n",
        "import torch.optim as optim\n",
        "from torch.utils.data import random_split, DataLoader\n",
        "import torch\n",
        "import transforms as T\n",
        "from movinets import MoViNet\n",
        "from movinets.config import _C"
      ],
      "metadata": {
        "id": "IMpJEty04eL4"
      },
      "execution_count": 6,
      "outputs": []
    },
    {
      "cell_type": "markdown",
      "source": [
        "#Model"
      ],
      "metadata": {
        "id": "VQJRu2uvjBBD"
      }
    },
    {
      "cell_type": "markdown",
      "source": [
        "##Install ffmpeg\n"
      ],
      "metadata": {
        "id": "mE2LznW34v9V"
      }
    },
    {
      "cell_type": "code",
      "source": [
        "from IPython.display import clear_output\n",
        "!sudo curl -L https://github.com/BtbN/FFmpeg-Builds/releases/download/latest/ffmpeg-master-latest-linux64-gpl.tar.xz -o /usr/local/bin/ffmpeg.tar.xz\n",
        "clear_output()\n",
        "%cd /usr/local/bin/\n",
        "clear_output()\n",
        "!7z e /usr/local/bin/ffmpeg.tar.xz\n",
        "clear_output()\n",
        "!7z e /usr/local/bin/ffmpeg.tar\n",
        "clear_output()\n",
        "!sudo chmod a+rx /usr/local/bin/ffmpeg\n",
        "clear_output()\n",
        "%cd /content/\n",
        "!sudo curl -L https://mkvtoolnix.download/appimage/MKVToolNix_GUI-70.0.0-x86_64.AppImage -o /usr/local/bin/MKVToolNix_GUI-70.0.0-x86_64.AppImage\n",
        "!sudo chmod u+rx /usr/local/bin/MKVToolNix_GUI-70.0.0-x86_64.AppImage\n",
        "!sudo ln -s /usr/local/bin/MKVToolNix_GUI-70.0.0-x86_64.AppImage /usr/local/bin/mkvmerge\n",
        "!sudo chmod a+rx /usr/local/bin/mkvmerge\n",
        "clear_output()\n",
        "!ffmpeg -version"
      ],
      "metadata": {
        "colab": {
          "base_uri": "https://localhost:8080/"
        },
        "id": "cPAZitZX4x8S",
        "outputId": "10ef3593-4e76-4e86-857a-a6c564e5c0d1"
      },
      "execution_count": 7,
      "outputs": [
        {
          "output_type": "stream",
          "name": "stdout",
          "text": [
            "ffmpeg version N-113725-g37702e2066-20240220 Copyright (c) 2000-2024 the FFmpeg developers\n",
            "built with gcc 13.2.0 (crosstool-NG 1.25.0.232_c175b21)\n",
            "configuration: --prefix=/ffbuild/prefix --pkg-config-flags=--static --pkg-config=pkg-config --cross-prefix=x86_64-ffbuild-linux-gnu- --arch=x86_64 --target-os=linux --enable-gpl --enable-version3 --disable-debug --enable-iconv --enable-libxml2 --enable-zlib --enable-libfreetype --enable-libfribidi --enable-gmp --enable-openssl --enable-lzma --enable-fontconfig --enable-libharfbuzz --enable-libvorbis --enable-opencl --enable-libpulse --enable-libvmaf --enable-libxcb --enable-xlib --enable-amf --enable-libaom --enable-libaribb24 --enable-avisynth --enable-chromaprint --enable-libdav1d --enable-libdavs2 --disable-libfdk-aac --enable-ffnvcodec --enable-cuda-llvm --enable-frei0r --enable-libgme --enable-libkvazaar --enable-libaribcaption --enable-libass --enable-libbluray --enable-libjxl --enable-libmp3lame --enable-libopus --enable-librist --enable-libssh --enable-libtheora --enable-libvpx --enable-libwebp --enable-lv2 --enable-libvpl --enable-openal --enable-libopencore-amrnb --enable-libopencore-amrwb --enable-libopenh264 --enable-libopenjpeg --enable-libopenmpt --enable-librav1e --enable-librubberband --disable-schannel --enable-sdl2 --enable-libsoxr --enable-libsrt --enable-libsvtav1 --enable-libtwolame --enable-libuavs3d --enable-libdrm --enable-vaapi --enable-libvidstab --enable-vulkan --enable-libshaderc --enable-libplacebo --enable-libx264 --enable-libx265 --enable-libxavs2 --enable-libxvid --enable-libzimg --enable-libzvbi --extra-cflags=-DLIBTWOLAME_STATIC --extra-cxxflags= --extra-ldflags=-pthread --extra-ldexeflags=-pie --extra-libs='-ldl -lgomp' --extra-version=20240220\n",
            "libavutil      58. 39.100 / 58. 39.100\n",
            "libavcodec     60. 39.101 / 60. 39.101\n",
            "libavformat    60. 21.101 / 60. 21.101\n",
            "libavdevice    60.  4.100 / 60.  4.100\n",
            "libavfilter     9. 17.100 /  9. 17.100\n",
            "libswscale      7.  6.100 /  7.  6.100\n",
            "libswresample   4. 13.100 /  4. 13.100\n",
            "libpostproc    57.  4.100 / 57.  4.100\n"
          ]
        }
      ]
    },
    {
      "cell_type": "markdown",
      "source": [
        "### **FFMPEG**\n",
        "- Path Folder video ต้นฉบับ\n",
        "- Path output video\n",
        "- ตัดวิดีโอต้นฉบับให้เป็นวิดีโอละ 2 วินาที\n",
        "- ตั้งชื่อวิดีโอ \"video_test_{i+1}.avi\""
      ],
      "metadata": {
        "id": "JH0kX09_6mCb"
      }
    },
    {
      "cell_type": "code",
      "source": [
        "import os\n",
        "import subprocess\n",
        "\n",
        "# กำหนด path ของวิดีโอที่ต้องการตัด\n",
        "inputFile = \"/content/drive/MyDrive/video แบ่งรอบไม่ตัด/video แบ่งรอบไม่ตัด/video_data/test_video_fullvideo/nosyy - yoru - rank immortal 1 - รอบ 1.avi\"\n",
        "\n",
        "# เรียกใช้ ffmpeg เพื่อรับข้อมูลเกี่ยวกับวิดีโอและคำนวณความยาวของมัน\n",
        "command = ['ffmpeg', '-i', inputFile, '-f', 'null', '-']\n",
        "result = subprocess.run(command, stdout=subprocess.PIPE, stderr=subprocess.STDOUT)\n",
        "output = result.stdout.decode('utf-8')\n",
        "\n",
        "# หาค่า duration จาก output\n",
        "duration_index = output.find('Duration: ') + len('Duration: ')\n",
        "duration = output[duration_index:duration_index+11]\n",
        "duration = duration.split(':')\n",
        "duration = int(duration[0])*3600 + int(duration[1])*60 + int(duration[2].split('.')[0])\n",
        "\n",
        "# กำหนดความยาวของคลิปวิดีโอที่ต้องการตัด\n",
        "clipDuration = 2  # คลิปวิดีโอละ 2 วินาที\n",
        "\n",
        "# กำหนด path ที่ต้องการบันทึกไฟล์ผลลัพธ์\n",
        "outputFolder = \"/content/drive/MyDrive/video แบ่งรอบไม่ตัด/video แบ่งรอบไม่ตัด/video_data/test_video_cutvideo/nosyy - yoru - rank immortal 1 - รอบ 1\"\n",
        "\n",
        "# คำนวณจำนวนคลิปวิดีโอที่ต้องการตัด\n",
        "numClips = duration // clipDuration\n",
        "\n",
        "# สร้างคำสั่ง FFMPEG สำหรับการตัดแต่ละคลิปวิดีโอ\n",
        "clip_start_times = []  # เก็บเวลาเริ่มต้นของแต่ละคลิปวิดีโอ\n",
        "for i in range(numClips):\n",
        "    # คำนวณเวลาเริ่มต้นและสิ้นสุดของคลิปวิดีโอ\n",
        "    startTime = i * clipDuration\n",
        "    endTime = startTime + clipDuration\n",
        "\n",
        "    # สร้าง command line สำหรับ FFMPEG\n",
        "    commandLine = ['-hide_banner', '-i', inputFile, '-map', '0', '-c', 'copy', '-ss', \"{:02d}:{:02d}:{:02d}\".format(startTime // 3600, (startTime // 60) % 60, startTime % 60), '-to', \"{:02d}:{:02d}:{:02d}\".format(endTime // 3600, (endTime // 60) % 60, endTime % 60)]\n",
        "\n",
        "    # กำหนด path ของไฟล์ผลลัพธ์\n",
        "    outputFile = os.path.join(outputFolder, f\"video_test_{i+1}.avi\")\n",
        "    commandLine += [outputFile]\n",
        "\n",
        "    # ใช้ FFMPEG เพื่อตัดคลิปวิดีโอ\n",
        "    subprocess.run(['ffmpeg'] + commandLine)\n",
        "\n",
        "    # เก็บเวลาเริ่มต้นของแต่ละคลิปวิดีโอ\n",
        "    clip_start_times.append(\"{:02d}:{:02d}:{:02d}\".format(startTime // 3600, (startTime // 60) % 60, startTime % 60))\n",
        "\n",
        "# พิมพ์เวลาเริ่มต้นของแต่ละคลิปวิดีโอ\n",
        "for i, start_time in enumerate(clip_start_times):\n",
        "    print(f\"Clip {i+1}: {start_time}\")\n"
      ],
      "metadata": {
        "id": "xHm2i3Y2_nSR"
      },
      "execution_count": null,
      "outputs": []
    },
    {
      "cell_type": "code",
      "source": [
        "# Create a DataFrame with clip_start_times\n",
        "df = pd.DataFrame({'clip_start_times': clip_start_times})\n",
        "\n",
        "# Save the DataFrame to a CSV file\n",
        "df.to_csv('/content/drive/MyDrive/Csv file/clip_start_times.csv', index=False)"
      ],
      "metadata": {
        "id": "IqV6P--dnvZG"
      },
      "execution_count": 12,
      "outputs": []
    },
    {
      "cell_type": "markdown",
      "source": [
        "###FFmpeg Create text file"
      ],
      "metadata": {
        "id": "d9SqL4GLtbzh"
      }
    },
    {
      "cell_type": "code",
      "source": [
        "import os\n",
        "\n",
        "# กำหนด path ของโฟลเดอร์ที่มีวิดีโอ\n",
        "input_path =  \"/content/drive/MyDrive/video แบ่งรอบไม่ตัด/video แบ่งรอบไม่ตัด/video_data/test_video_cutvideo/nosyy - yoru - rank immortal 1 - รอบ 1\"\n",
        "\n",
        "# สร้างไฟล์ text\n",
        "output_file_path = \"/content/drive/MyDrive/video แบ่งรอบไม่ตัด/video แบ่งรอบไม่ตัด/test_train_splits/nosyy - yoru - rank immortal 1 - รอบ 1/nosyy - yoru - rank immortal 1 - รอบ 1_test_split1.txt\"\n",
        "with open(output_file_path, \"w\") as f:\n",
        "    # วนลูปผ่านไฟล์ในโฟลเดอร์\n",
        "    for i, filename in enumerate(os.listdir(input_path), start=1):\n",
        "        # ตรวจสอบว่าไฟล์เป็นไฟล์วิดีโอ (.avi) หรือไม่\n",
        "        if filename.endswith(\".avi\"):\n",
        "            # สร้างชื่อไฟล์ใหม่\n",
        "            new_filename = f\"video_test_{i}.avi 2\\n\"\n",
        "            # เขียนชื่อไฟล์ใหม่ลงในไฟล์ text\n",
        "            f.write(new_filename)\n"
      ],
      "metadata": {
        "id": "WJDYrxXoCnaV"
      },
      "execution_count": 14,
      "outputs": []
    },
    {
      "cell_type": "markdown",
      "source": [
        "##Import Model"
      ],
      "metadata": {
        "id": "CGfHxBPDqmS9"
      }
    },
    {
      "cell_type": "code",
      "source": [
        "# Define the model architecture\n",
        "loaded_model1 = MoViNet(_C.MODEL.MoViNetA5, causal=False, pretrained=True)\n",
        "loaded_model1.classifier[3] = torch.nn.Conv3d(2048, 8, (1, 1, 1))\n",
        "\n",
        "# Specify the path to the checkpoint file\n",
        "best_checkpoint_path = '/content/drive/MyDrive/A5_yoru+habor_Checkpoint_epoch_round112.pth'\n",
        "\n",
        "# Load the checkpoint, specifying map_location to CPU\n",
        "best_checkpoint = torch.load(best_checkpoint_path, map_location=torch.device('cpu'))\n",
        "\n",
        "# Load the model's state dictionary\n",
        "loaded_model1.load_state_dict(best_checkpoint['model_state_dict'])\n",
        "\n",
        "# Set the model to evaluation mode\n",
        "loaded_model1.eval()\n"
      ],
      "metadata": {
        "id": "NVd0OBTmq3Cu"
      },
      "execution_count": null,
      "outputs": []
    },
    {
      "cell_type": "markdown",
      "source": [
        "###Prepare data"
      ],
      "metadata": {
        "id": "f7mI1uHQthtu"
      }
    },
    {
      "cell_type": "code",
      "source": [
        "torch.manual_seed(97)\n",
        "num_frames = 24 # 16\n",
        "clip_steps = 12\n",
        "Bs_Train = 1\n",
        "Bs_Test = 1\n",
        "\n",
        "transform_test_A5 = transforms.Compose([\n",
        "                                 T.ToFloatTensorInZeroOne(),\n",
        "                                 T.Resize((400, 400)),\n",
        "                                 #T.Normalize(mean=[0.43216, 0.394666, 0.37645], std=[0.22803, 0.22145, 0.216989]),\n",
        "                                 T.CenterCrop((320, 320))]) #Size for model\n",
        "\n",
        "\n",
        "hmdb51_test_A5 = torchvision.datasets.HMDB51('/content/drive/MyDrive/video แบ่งรอบไม่ตัด/video แบ่งรอบไม่ตัด/video_data/test_video_cutvideo/nosyy - yoru - rank immortal 1 - รอบ 1/',\n",
        "                                             '/content/drive/MyDrive/video แบ่งรอบไม่ตัด/video แบ่งรอบไม่ตัด/test_train_splits/test_video_round_1/',\n",
        "                                              frames_per_clip=24,frame_rate=24,step_between_clips = 24, fold=1, train=False,transform=transform_test_A5, num_workers=2)\n",
        "\n",
        "test_loader_A5  = DataLoader(hmdb51_test_A5 , batch_size=Bs_Test, shuffle=False)"
      ],
      "metadata": {
        "colab": {
          "base_uri": "https://localhost:8080/"
        },
        "id": "5NlnA8o3rPIh",
        "outputId": "6ca495f7-83d9-4b22-ecf3-4c18248b67ad"
      },
      "execution_count": 24,
      "outputs": [
        {
          "output_type": "stream",
          "name": "stderr",
          "text": [
            "100%|██████████| 2/2 [00:02<00:00,  1.41s/it]\n"
          ]
        }
      ]
    },
    {
      "cell_type": "code",
      "source": [
        "print(hmdb51_test_A5)"
      ],
      "metadata": {
        "colab": {
          "base_uri": "https://localhost:8080/"
        },
        "id": "UeBerrAJsIeE",
        "outputId": "050f79de-62a4-4bd1-cafe-6bb8d46ca9f3"
      },
      "execution_count": 26,
      "outputs": [
        {
          "output_type": "stream",
          "name": "stdout",
          "text": [
            "Dataset HMDB51\n",
            "    Number of datapoints: 30\n",
            "    Root location: /content/drive/MyDrive/video แบ่งรอบไม่ตัด/video แบ่งรอบไม่ตัด/video_data/test_video_cutvideo/nosyy - yoru - rank immortal 1 - รอบ 1/\n"
          ]
        }
      ]
    },
    {
      "cell_type": "markdown",
      "source": [
        "##Predict data validation"
      ],
      "metadata": {
        "id": "-iUTJ-okto_d"
      }
    },
    {
      "cell_type": "code",
      "source": [
        "device = next(loaded_model1.parameters()).device\n",
        "true_labels, predicted_labels = [], []\n",
        "with torch.no_grad():\n",
        "    for data, _, target in test_loader_A5:\n",
        "        # Move data and target to the same device as the model\n",
        "        data, target = data.to(device), target.to(device)\n",
        "\n",
        "        output = F.log_softmax(loaded_model1(data), dim=1)\n",
        "        _, predicted = torch.max(output, dim=1)\n",
        "\n",
        "        true_labels.extend(target.cpu().numpy())\n",
        "        predicted_labels.extend(predicted.cpu().numpy())"
      ],
      "metadata": {
        "colab": {
          "base_uri": "https://localhost:8080/"
        },
        "id": "ghvVECn7q0Y1",
        "outputId": "929418b1-79cb-43e7-c61c-10f9beddf239"
      },
      "execution_count": 27,
      "outputs": [
        {
          "output_type": "stream",
          "name": "stderr",
          "text": [
            "/usr/local/lib/python3.10/dist-packages/torchvision/io/video.py:161: UserWarning: The pts_unit 'pts' gives wrong results. Please use pts_unit 'sec'.\n",
            "  warnings.warn(\"The pts_unit 'pts' gives wrong results. Please use pts_unit 'sec'.\")\n"
          ]
        }
      ]
    },
    {
      "cell_type": "markdown",
      "source": [
        "Take Predict to dataframe and Save to csv file"
      ],
      "metadata": {
        "id": "uL7isF5P1DZa"
      }
    },
    {
      "cell_type": "code",
      "source": [
        "# สร้าง DataFrame จาก true_labels และ predicted_labels\n",
        "df_output = pd.DataFrame({'true_label': true_labels, 'predicted_label': predicted_labels})\n",
        "\n",
        "# บันทึก DataFrame เป็นไฟล์ CSV ในเส้นทางที่กำหนด\n",
        "output_path = '/content/drive/MyDrive/Csv file/Predict_round1_30.csv'\n",
        "df_output.to_csv(output_path, index=False)\n"
      ],
      "metadata": {
        "id": "waqbFHirxVBC"
      },
      "execution_count": 29,
      "outputs": []
    },
    {
      "cell_type": "markdown",
      "source": [
        "#Output"
      ],
      "metadata": {
        "id": "JNsA8robi4vr"
      }
    },
    {
      "cell_type": "code",
      "source": [
        "df_combined = pd.concat([df_output, df['clip_start_times']], axis=1)\n",
        "df_combined.drop(columns=['true_label'], inplace=True)\n",
        "df_combined.index += 1\n",
        "df_combined"
      ],
      "metadata": {
        "id": "rLwvTuBLyyeo"
      },
      "execution_count": 32,
      "outputs": []
    },
    {
      "cell_type": "code",
      "source": [
        "df_combined.index += 1\n",
        "df_combined"
      ],
      "metadata": {
        "colab": {
          "base_uri": "https://localhost:8080/",
          "height": 990
        },
        "id": "NIpt6baQ0Xvj",
        "outputId": "d182ed3d-33af-4d2e-cb0e-d41624f4ecd7"
      },
      "execution_count": 47,
      "outputs": [
        {
          "output_type": "execute_result",
          "data": {
            "text/plain": [
              "    predicted_label clip_start_times\n",
              "1                 0         00:00:00\n",
              "2                 0         00:00:02\n",
              "3                 7         00:00:04\n",
              "4                 7         00:00:06\n",
              "5                 7         00:00:08\n",
              "6                 7         00:00:10\n",
              "7                 7         00:00:12\n",
              "8                 7         00:00:14\n",
              "9                 0         00:00:16\n",
              "10                0         00:00:18\n",
              "11                0         00:00:20\n",
              "12                0         00:00:22\n",
              "13                0         00:00:24\n",
              "14                0         00:00:26\n",
              "15                0         00:00:28\n",
              "16                0         00:00:30\n",
              "17                0         00:00:32\n",
              "18                0         00:00:34\n",
              "19                7         00:00:36\n",
              "20                0         00:00:38\n",
              "21                0         00:00:40\n",
              "22                6         00:00:42\n",
              "23                0         00:00:44\n",
              "24                2         00:00:46\n",
              "25                0         00:00:48\n",
              "26                0         00:00:50\n",
              "27                0         00:00:52\n",
              "28                0         00:00:54\n",
              "29                0         00:00:56\n",
              "30                0         00:00:58"
            ],
            "text/html": [
              "\n",
              "  <div id=\"df-57466ff7-bfcf-4442-873a-b7f3df54b884\" class=\"colab-df-container\">\n",
              "    <div>\n",
              "<style scoped>\n",
              "    .dataframe tbody tr th:only-of-type {\n",
              "        vertical-align: middle;\n",
              "    }\n",
              "\n",
              "    .dataframe tbody tr th {\n",
              "        vertical-align: top;\n",
              "    }\n",
              "\n",
              "    .dataframe thead th {\n",
              "        text-align: right;\n",
              "    }\n",
              "</style>\n",
              "<table border=\"1\" class=\"dataframe\">\n",
              "  <thead>\n",
              "    <tr style=\"text-align: right;\">\n",
              "      <th></th>\n",
              "      <th>predicted_label</th>\n",
              "      <th>clip_start_times</th>\n",
              "    </tr>\n",
              "  </thead>\n",
              "  <tbody>\n",
              "    <tr>\n",
              "      <th>1</th>\n",
              "      <td>0</td>\n",
              "      <td>00:00:00</td>\n",
              "    </tr>\n",
              "    <tr>\n",
              "      <th>2</th>\n",
              "      <td>0</td>\n",
              "      <td>00:00:02</td>\n",
              "    </tr>\n",
              "    <tr>\n",
              "      <th>3</th>\n",
              "      <td>7</td>\n",
              "      <td>00:00:04</td>\n",
              "    </tr>\n",
              "    <tr>\n",
              "      <th>4</th>\n",
              "      <td>7</td>\n",
              "      <td>00:00:06</td>\n",
              "    </tr>\n",
              "    <tr>\n",
              "      <th>5</th>\n",
              "      <td>7</td>\n",
              "      <td>00:00:08</td>\n",
              "    </tr>\n",
              "    <tr>\n",
              "      <th>6</th>\n",
              "      <td>7</td>\n",
              "      <td>00:00:10</td>\n",
              "    </tr>\n",
              "    <tr>\n",
              "      <th>7</th>\n",
              "      <td>7</td>\n",
              "      <td>00:00:12</td>\n",
              "    </tr>\n",
              "    <tr>\n",
              "      <th>8</th>\n",
              "      <td>7</td>\n",
              "      <td>00:00:14</td>\n",
              "    </tr>\n",
              "    <tr>\n",
              "      <th>9</th>\n",
              "      <td>0</td>\n",
              "      <td>00:00:16</td>\n",
              "    </tr>\n",
              "    <tr>\n",
              "      <th>10</th>\n",
              "      <td>0</td>\n",
              "      <td>00:00:18</td>\n",
              "    </tr>\n",
              "    <tr>\n",
              "      <th>11</th>\n",
              "      <td>0</td>\n",
              "      <td>00:00:20</td>\n",
              "    </tr>\n",
              "    <tr>\n",
              "      <th>12</th>\n",
              "      <td>0</td>\n",
              "      <td>00:00:22</td>\n",
              "    </tr>\n",
              "    <tr>\n",
              "      <th>13</th>\n",
              "      <td>0</td>\n",
              "      <td>00:00:24</td>\n",
              "    </tr>\n",
              "    <tr>\n",
              "      <th>14</th>\n",
              "      <td>0</td>\n",
              "      <td>00:00:26</td>\n",
              "    </tr>\n",
              "    <tr>\n",
              "      <th>15</th>\n",
              "      <td>0</td>\n",
              "      <td>00:00:28</td>\n",
              "    </tr>\n",
              "    <tr>\n",
              "      <th>16</th>\n",
              "      <td>0</td>\n",
              "      <td>00:00:30</td>\n",
              "    </tr>\n",
              "    <tr>\n",
              "      <th>17</th>\n",
              "      <td>0</td>\n",
              "      <td>00:00:32</td>\n",
              "    </tr>\n",
              "    <tr>\n",
              "      <th>18</th>\n",
              "      <td>0</td>\n",
              "      <td>00:00:34</td>\n",
              "    </tr>\n",
              "    <tr>\n",
              "      <th>19</th>\n",
              "      <td>7</td>\n",
              "      <td>00:00:36</td>\n",
              "    </tr>\n",
              "    <tr>\n",
              "      <th>20</th>\n",
              "      <td>0</td>\n",
              "      <td>00:00:38</td>\n",
              "    </tr>\n",
              "    <tr>\n",
              "      <th>21</th>\n",
              "      <td>0</td>\n",
              "      <td>00:00:40</td>\n",
              "    </tr>\n",
              "    <tr>\n",
              "      <th>22</th>\n",
              "      <td>6</td>\n",
              "      <td>00:00:42</td>\n",
              "    </tr>\n",
              "    <tr>\n",
              "      <th>23</th>\n",
              "      <td>0</td>\n",
              "      <td>00:00:44</td>\n",
              "    </tr>\n",
              "    <tr>\n",
              "      <th>24</th>\n",
              "      <td>2</td>\n",
              "      <td>00:00:46</td>\n",
              "    </tr>\n",
              "    <tr>\n",
              "      <th>25</th>\n",
              "      <td>0</td>\n",
              "      <td>00:00:48</td>\n",
              "    </tr>\n",
              "    <tr>\n",
              "      <th>26</th>\n",
              "      <td>0</td>\n",
              "      <td>00:00:50</td>\n",
              "    </tr>\n",
              "    <tr>\n",
              "      <th>27</th>\n",
              "      <td>0</td>\n",
              "      <td>00:00:52</td>\n",
              "    </tr>\n",
              "    <tr>\n",
              "      <th>28</th>\n",
              "      <td>0</td>\n",
              "      <td>00:00:54</td>\n",
              "    </tr>\n",
              "    <tr>\n",
              "      <th>29</th>\n",
              "      <td>0</td>\n",
              "      <td>00:00:56</td>\n",
              "    </tr>\n",
              "    <tr>\n",
              "      <th>30</th>\n",
              "      <td>0</td>\n",
              "      <td>00:00:58</td>\n",
              "    </tr>\n",
              "  </tbody>\n",
              "</table>\n",
              "</div>\n",
              "    <div class=\"colab-df-buttons\">\n",
              "\n",
              "  <div class=\"colab-df-container\">\n",
              "    <button class=\"colab-df-convert\" onclick=\"convertToInteractive('df-57466ff7-bfcf-4442-873a-b7f3df54b884')\"\n",
              "            title=\"Convert this dataframe to an interactive table.\"\n",
              "            style=\"display:none;\">\n",
              "\n",
              "  <svg xmlns=\"http://www.w3.org/2000/svg\" height=\"24px\" viewBox=\"0 -960 960 960\">\n",
              "    <path d=\"M120-120v-720h720v720H120Zm60-500h600v-160H180v160Zm220 220h160v-160H400v160Zm0 220h160v-160H400v160ZM180-400h160v-160H180v160Zm440 0h160v-160H620v160ZM180-180h160v-160H180v160Zm440 0h160v-160H620v160Z\"/>\n",
              "  </svg>\n",
              "    </button>\n",
              "\n",
              "  <style>\n",
              "    .colab-df-container {\n",
              "      display:flex;\n",
              "      gap: 12px;\n",
              "    }\n",
              "\n",
              "    .colab-df-convert {\n",
              "      background-color: #E8F0FE;\n",
              "      border: none;\n",
              "      border-radius: 50%;\n",
              "      cursor: pointer;\n",
              "      display: none;\n",
              "      fill: #1967D2;\n",
              "      height: 32px;\n",
              "      padding: 0 0 0 0;\n",
              "      width: 32px;\n",
              "    }\n",
              "\n",
              "    .colab-df-convert:hover {\n",
              "      background-color: #E2EBFA;\n",
              "      box-shadow: 0px 1px 2px rgba(60, 64, 67, 0.3), 0px 1px 3px 1px rgba(60, 64, 67, 0.15);\n",
              "      fill: #174EA6;\n",
              "    }\n",
              "\n",
              "    .colab-df-buttons div {\n",
              "      margin-bottom: 4px;\n",
              "    }\n",
              "\n",
              "    [theme=dark] .colab-df-convert {\n",
              "      background-color: #3B4455;\n",
              "      fill: #D2E3FC;\n",
              "    }\n",
              "\n",
              "    [theme=dark] .colab-df-convert:hover {\n",
              "      background-color: #434B5C;\n",
              "      box-shadow: 0px 1px 3px 1px rgba(0, 0, 0, 0.15);\n",
              "      filter: drop-shadow(0px 1px 2px rgba(0, 0, 0, 0.3));\n",
              "      fill: #FFFFFF;\n",
              "    }\n",
              "  </style>\n",
              "\n",
              "    <script>\n",
              "      const buttonEl =\n",
              "        document.querySelector('#df-57466ff7-bfcf-4442-873a-b7f3df54b884 button.colab-df-convert');\n",
              "      buttonEl.style.display =\n",
              "        google.colab.kernel.accessAllowed ? 'block' : 'none';\n",
              "\n",
              "      async function convertToInteractive(key) {\n",
              "        const element = document.querySelector('#df-57466ff7-bfcf-4442-873a-b7f3df54b884');\n",
              "        const dataTable =\n",
              "          await google.colab.kernel.invokeFunction('convertToInteractive',\n",
              "                                                    [key], {});\n",
              "        if (!dataTable) return;\n",
              "\n",
              "        const docLinkHtml = 'Like what you see? Visit the ' +\n",
              "          '<a target=\"_blank\" href=https://colab.research.google.com/notebooks/data_table.ipynb>data table notebook</a>'\n",
              "          + ' to learn more about interactive tables.';\n",
              "        element.innerHTML = '';\n",
              "        dataTable['output_type'] = 'display_data';\n",
              "        await google.colab.output.renderOutput(dataTable, element);\n",
              "        const docLink = document.createElement('div');\n",
              "        docLink.innerHTML = docLinkHtml;\n",
              "        element.appendChild(docLink);\n",
              "      }\n",
              "    </script>\n",
              "  </div>\n",
              "\n",
              "\n",
              "<div id=\"df-deeece12-cd46-48fd-8d5b-1751397c9aa8\">\n",
              "  <button class=\"colab-df-quickchart\" onclick=\"quickchart('df-deeece12-cd46-48fd-8d5b-1751397c9aa8')\"\n",
              "            title=\"Suggest charts\"\n",
              "            style=\"display:none;\">\n",
              "\n",
              "<svg xmlns=\"http://www.w3.org/2000/svg\" height=\"24px\"viewBox=\"0 0 24 24\"\n",
              "     width=\"24px\">\n",
              "    <g>\n",
              "        <path d=\"M19 3H5c-1.1 0-2 .9-2 2v14c0 1.1.9 2 2 2h14c1.1 0 2-.9 2-2V5c0-1.1-.9-2-2-2zM9 17H7v-7h2v7zm4 0h-2V7h2v10zm4 0h-2v-4h2v4z\"/>\n",
              "    </g>\n",
              "</svg>\n",
              "  </button>\n",
              "\n",
              "<style>\n",
              "  .colab-df-quickchart {\n",
              "      --bg-color: #E8F0FE;\n",
              "      --fill-color: #1967D2;\n",
              "      --hover-bg-color: #E2EBFA;\n",
              "      --hover-fill-color: #174EA6;\n",
              "      --disabled-fill-color: #AAA;\n",
              "      --disabled-bg-color: #DDD;\n",
              "  }\n",
              "\n",
              "  [theme=dark] .colab-df-quickchart {\n",
              "      --bg-color: #3B4455;\n",
              "      --fill-color: #D2E3FC;\n",
              "      --hover-bg-color: #434B5C;\n",
              "      --hover-fill-color: #FFFFFF;\n",
              "      --disabled-bg-color: #3B4455;\n",
              "      --disabled-fill-color: #666;\n",
              "  }\n",
              "\n",
              "  .colab-df-quickchart {\n",
              "    background-color: var(--bg-color);\n",
              "    border: none;\n",
              "    border-radius: 50%;\n",
              "    cursor: pointer;\n",
              "    display: none;\n",
              "    fill: var(--fill-color);\n",
              "    height: 32px;\n",
              "    padding: 0;\n",
              "    width: 32px;\n",
              "  }\n",
              "\n",
              "  .colab-df-quickchart:hover {\n",
              "    background-color: var(--hover-bg-color);\n",
              "    box-shadow: 0 1px 2px rgba(60, 64, 67, 0.3), 0 1px 3px 1px rgba(60, 64, 67, 0.15);\n",
              "    fill: var(--button-hover-fill-color);\n",
              "  }\n",
              "\n",
              "  .colab-df-quickchart-complete:disabled,\n",
              "  .colab-df-quickchart-complete:disabled:hover {\n",
              "    background-color: var(--disabled-bg-color);\n",
              "    fill: var(--disabled-fill-color);\n",
              "    box-shadow: none;\n",
              "  }\n",
              "\n",
              "  .colab-df-spinner {\n",
              "    border: 2px solid var(--fill-color);\n",
              "    border-color: transparent;\n",
              "    border-bottom-color: var(--fill-color);\n",
              "    animation:\n",
              "      spin 1s steps(1) infinite;\n",
              "  }\n",
              "\n",
              "  @keyframes spin {\n",
              "    0% {\n",
              "      border-color: transparent;\n",
              "      border-bottom-color: var(--fill-color);\n",
              "      border-left-color: var(--fill-color);\n",
              "    }\n",
              "    20% {\n",
              "      border-color: transparent;\n",
              "      border-left-color: var(--fill-color);\n",
              "      border-top-color: var(--fill-color);\n",
              "    }\n",
              "    30% {\n",
              "      border-color: transparent;\n",
              "      border-left-color: var(--fill-color);\n",
              "      border-top-color: var(--fill-color);\n",
              "      border-right-color: var(--fill-color);\n",
              "    }\n",
              "    40% {\n",
              "      border-color: transparent;\n",
              "      border-right-color: var(--fill-color);\n",
              "      border-top-color: var(--fill-color);\n",
              "    }\n",
              "    60% {\n",
              "      border-color: transparent;\n",
              "      border-right-color: var(--fill-color);\n",
              "    }\n",
              "    80% {\n",
              "      border-color: transparent;\n",
              "      border-right-color: var(--fill-color);\n",
              "      border-bottom-color: var(--fill-color);\n",
              "    }\n",
              "    90% {\n",
              "      border-color: transparent;\n",
              "      border-bottom-color: var(--fill-color);\n",
              "    }\n",
              "  }\n",
              "</style>\n",
              "\n",
              "  <script>\n",
              "    async function quickchart(key) {\n",
              "      const quickchartButtonEl =\n",
              "        document.querySelector('#' + key + ' button');\n",
              "      quickchartButtonEl.disabled = true;  // To prevent multiple clicks.\n",
              "      quickchartButtonEl.classList.add('colab-df-spinner');\n",
              "      try {\n",
              "        const charts = await google.colab.kernel.invokeFunction(\n",
              "            'suggestCharts', [key], {});\n",
              "      } catch (error) {\n",
              "        console.error('Error during call to suggestCharts:', error);\n",
              "      }\n",
              "      quickchartButtonEl.classList.remove('colab-df-spinner');\n",
              "      quickchartButtonEl.classList.add('colab-df-quickchart-complete');\n",
              "    }\n",
              "    (() => {\n",
              "      let quickchartButtonEl =\n",
              "        document.querySelector('#df-deeece12-cd46-48fd-8d5b-1751397c9aa8 button');\n",
              "      quickchartButtonEl.style.display =\n",
              "        google.colab.kernel.accessAllowed ? 'block' : 'none';\n",
              "    })();\n",
              "  </script>\n",
              "</div>\n",
              "    </div>\n",
              "  </div>\n"
            ],
            "application/vnd.google.colaboratory.intrinsic+json": {
              "type": "dataframe",
              "variable_name": "df_combined",
              "repr_error": "'str' object has no attribute 'empty'"
            }
          },
          "metadata": {},
          "execution_count": 47
        }
      ]
    },
    {
      "cell_type": "code",
      "source": [
        "def get_class_names():\n",
        "    # สร้างรายชื่อคลาสตามลำดับที่คุณต้องการ\n",
        "    return [\"Buy_Aciton\",\"Class 0 Aciton\", \"Dead_Aciton\", \"Defuse Aciton\", \"Orb Aciton\", \"Plant Aciton\", \"Shoot_Aciton\", \"Skill_Aciton\"]\n",
        "\n",
        "# ใช้ฟังก์ชันเพื่อรับชื่อคลาส\n",
        "class_names = get_class_names()\n",
        "\n",
        "# เรียกใช้ชื่อคลาสตามตำแหน่งที่ทำนายได้\n",
        "for label in predicted_labels:\n",
        "    print(class_names[label])\n"
      ],
      "metadata": {
        "colab": {
          "base_uri": "https://localhost:8080/"
        },
        "id": "zJ9splhI3wUe",
        "outputId": "17faac1e-058e-41f7-90ff-9166e998c6fb"
      },
      "execution_count": 51,
      "outputs": [
        {
          "output_type": "stream",
          "name": "stdout",
          "text": [
            "Buy_Aciton\n",
            "Buy_Aciton\n",
            "Skill_Aciton\n",
            "Skill_Aciton\n",
            "Skill_Aciton\n",
            "Skill_Aciton\n",
            "Skill_Aciton\n",
            "Skill_Aciton\n",
            "Buy_Aciton\n",
            "Buy_Aciton\n",
            "Buy_Aciton\n",
            "Buy_Aciton\n",
            "Buy_Aciton\n",
            "Buy_Aciton\n",
            "Buy_Aciton\n",
            "Buy_Aciton\n",
            "Buy_Aciton\n",
            "Buy_Aciton\n",
            "Skill_Aciton\n",
            "Buy_Aciton\n",
            "Buy_Aciton\n",
            "Shoot_Aciton\n",
            "Buy_Aciton\n",
            "Dead_Aciton\n",
            "Buy_Aciton\n",
            "Buy_Aciton\n",
            "Buy_Aciton\n",
            "Buy_Aciton\n",
            "Buy_Aciton\n",
            "Buy_Aciton\n"
          ]
        }
      ]
    },
    {
      "cell_type": "code",
      "source": [
        "predicted_class_names = [\n",
        "    \"Buy_Aciton\", \"Buy_Aciton\", \"Skill_Aciton\", \"Skill_Aciton\", \"Skill_Aciton\",\n",
        "    \"Skill_Aciton\", \"Skill_Aciton\", \"Skill_Aciton\", \"Buy_Aciton\", \"Buy_Aciton\",\n",
        "    \"Buy_Aciton\", \"Buy_Aciton\", \"Buy_Aciton\", \"Buy_Aciton\", \"Buy_Aciton\", \"Buy_Aciton\",\n",
        "    \"Buy_Aciton\", \"Buy_Aciton\", \"Skill_Aciton\", \"Buy_Aciton\", \"Buy_Aciton\", \"Shoot_Aciton\",\n",
        "    \"Buy_Aciton\", \"Dead_Aciton\", \"Buy_Aciton\", \"Buy_Aciton\", \"Buy_Aciton\", \"Buy_Aciton\",\n",
        "    \"Buy_Aciton\", \"Buy_Aciton\"\n",
        "]\n",
        "\n",
        "# แสดงชื่อคลาสตามลำดับของการทำนาย\n",
        "for class_name in predicted_class_names:\n",
        "    print(class_name)\n"
      ],
      "metadata": {
        "colab": {
          "base_uri": "https://localhost:8080/"
        },
        "id": "Zz0eeZ924fT1",
        "outputId": "3e91e9f8-8672-4493-b69e-74744d6abf27"
      },
      "execution_count": 52,
      "outputs": [
        {
          "output_type": "stream",
          "name": "stdout",
          "text": [
            "Buy_Aciton\n",
            "Buy_Aciton\n",
            "Skill_Aciton\n",
            "Skill_Aciton\n",
            "Skill_Aciton\n",
            "Skill_Aciton\n",
            "Skill_Aciton\n",
            "Skill_Aciton\n",
            "Buy_Aciton\n",
            "Buy_Aciton\n",
            "Buy_Aciton\n",
            "Buy_Aciton\n",
            "Buy_Aciton\n",
            "Buy_Aciton\n",
            "Buy_Aciton\n",
            "Buy_Aciton\n",
            "Buy_Aciton\n",
            "Buy_Aciton\n",
            "Skill_Aciton\n",
            "Buy_Aciton\n",
            "Buy_Aciton\n",
            "Shoot_Aciton\n",
            "Buy_Aciton\n",
            "Dead_Aciton\n",
            "Buy_Aciton\n",
            "Buy_Aciton\n",
            "Buy_Aciton\n",
            "Buy_Aciton\n",
            "Buy_Aciton\n",
            "Buy_Aciton\n"
          ]
        }
      ]
    },
    {
      "cell_type": "markdown",
      "source": [
        "#Check Data.Csv"
      ],
      "metadata": {
        "id": "u6vOR-FGts1n"
      }
    },
    {
      "cell_type": "markdown",
      "source": [
        "###Import Csv\n"
      ],
      "metadata": {
        "id": "q8NKj2JJtUbO"
      }
    },
    {
      "cell_type": "code",
      "source": [
        "csv_file = '/content/drive/MyDrive/Csv file/true_predict_A5_yoru+habor_2_with 1 round(ครั้งที่2)+Predict_class.csv'"
      ],
      "metadata": {
        "id": "OsDNqWActUp5"
      },
      "execution_count": null,
      "outputs": []
    },
    {
      "cell_type": "markdown",
      "source": [
        "##Dataframe"
      ],
      "metadata": {
        "id": "QjX8MN354D9H"
      }
    },
    {
      "cell_type": "code",
      "source": [
        "import pandas as pd\n",
        "\n",
        "# Create DataFrame from CSV file\n",
        "df = pd.read_csv(csv_file)"
      ],
      "metadata": {
        "id": "sKpiCtnKtVxc"
      },
      "execution_count": null,
      "outputs": []
    },
    {
      "cell_type": "markdown",
      "source": [
        "###สร้าง col เวลาเริ่ม เวลาจบ ของแต่ละ row Video"
      ],
      "metadata": {
        "id": "hzpcTOof4GfX"
      }
    },
    {
      "cell_type": "code",
      "source": [
        "# หาความยาวของ DataFrame\n",
        "num_rows = len(df)\n",
        "\n",
        "# สร้างคอลัมน์ใหม่สำหรับเวลาแต่ละวิดีโอ 2 วินาที\n",
        "clip_start_times = [i * 2 for i in range(num_rows)]\n",
        "clip_end_times = [(i + 1) * 2 for i in range(num_rows)]\n",
        "\n",
        "# แปลงค่าเวลาให้เป็นรูปแบบ HH:MM:SS\n",
        "formatted_start_times = [f\"{t//3600:02d}:{(t%3600)//60:02d}:{t%60:02d}\" for t in clip_start_times]\n",
        "formatted_end_times = [f\"{t//3600:02d}:{(t%3600)//60:02d}:{t%60:02d}\" for t in clip_end_times]\n",
        "\n",
        "# เพิ่มคอลัมน์ใหม่ลงใน DataFrame\n",
        "df['Start_Time'] = formatted_start_times\n",
        "df['End_Time'] = formatted_end_times\n"
      ],
      "metadata": {
        "id": "rncRWxcP0mwa"
      },
      "execution_count": null,
      "outputs": []
    },
    {
      "cell_type": "code",
      "source": [
        "# จัดลำดับคอลัมน์ใหม่\n",
        "new_column_order = ['Start_Time', 'End_Time', 'predicted_label', 'predicted_class_names']\n",
        "df = df.reindex(columns=new_column_order)\n",
        "df.head()"
      ],
      "metadata": {
        "colab": {
          "base_uri": "https://localhost:8080/"
        },
        "id": "0g2g2vYp0wyv",
        "outputId": "bb0d94da-6232-44f4-f618-9e42b5d0ba00"
      },
      "execution_count": null,
      "outputs": [
        {
          "output_type": "execute_result",
          "data": {
            "text/plain": [
              "  Start_Time  End_Time  predicted_label predicted_class_names\n",
              "0   00:00:00  00:00:02                0            Buy action\n",
              "1   00:00:02  00:00:04                0            Buy action\n",
              "2   00:00:04  00:00:06                0            Buy action\n",
              "3   00:00:06  00:00:08                7          Skill Action\n",
              "4   00:00:08  00:00:10                7          Skill Action"
            ],
            "text/html": [
              "\n",
              "  <div id=\"df-951d3524-f72b-4c13-8089-1c0f9f7febdc\" class=\"colab-df-container\">\n",
              "    <div>\n",
              "<style scoped>\n",
              "    .dataframe tbody tr th:only-of-type {\n",
              "        vertical-align: middle;\n",
              "    }\n",
              "\n",
              "    .dataframe tbody tr th {\n",
              "        vertical-align: top;\n",
              "    }\n",
              "\n",
              "    .dataframe thead th {\n",
              "        text-align: right;\n",
              "    }\n",
              "</style>\n",
              "<table border=\"1\" class=\"dataframe\">\n",
              "  <thead>\n",
              "    <tr style=\"text-align: right;\">\n",
              "      <th></th>\n",
              "      <th>Start_Time</th>\n",
              "      <th>End_Time</th>\n",
              "      <th>predicted_label</th>\n",
              "      <th>predicted_class_names</th>\n",
              "    </tr>\n",
              "  </thead>\n",
              "  <tbody>\n",
              "    <tr>\n",
              "      <th>0</th>\n",
              "      <td>00:00:00</td>\n",
              "      <td>00:00:02</td>\n",
              "      <td>0</td>\n",
              "      <td>Buy action</td>\n",
              "    </tr>\n",
              "    <tr>\n",
              "      <th>1</th>\n",
              "      <td>00:00:02</td>\n",
              "      <td>00:00:04</td>\n",
              "      <td>0</td>\n",
              "      <td>Buy action</td>\n",
              "    </tr>\n",
              "    <tr>\n",
              "      <th>2</th>\n",
              "      <td>00:00:04</td>\n",
              "      <td>00:00:06</td>\n",
              "      <td>0</td>\n",
              "      <td>Buy action</td>\n",
              "    </tr>\n",
              "    <tr>\n",
              "      <th>3</th>\n",
              "      <td>00:00:06</td>\n",
              "      <td>00:00:08</td>\n",
              "      <td>7</td>\n",
              "      <td>Skill Action</td>\n",
              "    </tr>\n",
              "    <tr>\n",
              "      <th>4</th>\n",
              "      <td>00:00:08</td>\n",
              "      <td>00:00:10</td>\n",
              "      <td>7</td>\n",
              "      <td>Skill Action</td>\n",
              "    </tr>\n",
              "  </tbody>\n",
              "</table>\n",
              "</div>\n",
              "    <div class=\"colab-df-buttons\">\n",
              "\n",
              "  <div class=\"colab-df-container\">\n",
              "    <button class=\"colab-df-convert\" onclick=\"convertToInteractive('df-951d3524-f72b-4c13-8089-1c0f9f7febdc')\"\n",
              "            title=\"Convert this dataframe to an interactive table.\"\n",
              "            style=\"display:none;\">\n",
              "\n",
              "  <svg xmlns=\"http://www.w3.org/2000/svg\" height=\"24px\" viewBox=\"0 -960 960 960\">\n",
              "    <path d=\"M120-120v-720h720v720H120Zm60-500h600v-160H180v160Zm220 220h160v-160H400v160Zm0 220h160v-160H400v160ZM180-400h160v-160H180v160Zm440 0h160v-160H620v160ZM180-180h160v-160H180v160Zm440 0h160v-160H620v160Z\"/>\n",
              "  </svg>\n",
              "    </button>\n",
              "\n",
              "  <style>\n",
              "    .colab-df-container {\n",
              "      display:flex;\n",
              "      gap: 12px;\n",
              "    }\n",
              "\n",
              "    .colab-df-convert {\n",
              "      background-color: #E8F0FE;\n",
              "      border: none;\n",
              "      border-radius: 50%;\n",
              "      cursor: pointer;\n",
              "      display: none;\n",
              "      fill: #1967D2;\n",
              "      height: 32px;\n",
              "      padding: 0 0 0 0;\n",
              "      width: 32px;\n",
              "    }\n",
              "\n",
              "    .colab-df-convert:hover {\n",
              "      background-color: #E2EBFA;\n",
              "      box-shadow: 0px 1px 2px rgba(60, 64, 67, 0.3), 0px 1px 3px 1px rgba(60, 64, 67, 0.15);\n",
              "      fill: #174EA6;\n",
              "    }\n",
              "\n",
              "    .colab-df-buttons div {\n",
              "      margin-bottom: 4px;\n",
              "    }\n",
              "\n",
              "    [theme=dark] .colab-df-convert {\n",
              "      background-color: #3B4455;\n",
              "      fill: #D2E3FC;\n",
              "    }\n",
              "\n",
              "    [theme=dark] .colab-df-convert:hover {\n",
              "      background-color: #434B5C;\n",
              "      box-shadow: 0px 1px 3px 1px rgba(0, 0, 0, 0.15);\n",
              "      filter: drop-shadow(0px 1px 2px rgba(0, 0, 0, 0.3));\n",
              "      fill: #FFFFFF;\n",
              "    }\n",
              "  </style>\n",
              "\n",
              "    <script>\n",
              "      const buttonEl =\n",
              "        document.querySelector('#df-951d3524-f72b-4c13-8089-1c0f9f7febdc button.colab-df-convert');\n",
              "      buttonEl.style.display =\n",
              "        google.colab.kernel.accessAllowed ? 'block' : 'none';\n",
              "\n",
              "      async function convertToInteractive(key) {\n",
              "        const element = document.querySelector('#df-951d3524-f72b-4c13-8089-1c0f9f7febdc');\n",
              "        const dataTable =\n",
              "          await google.colab.kernel.invokeFunction('convertToInteractive',\n",
              "                                                    [key], {});\n",
              "        if (!dataTable) return;\n",
              "\n",
              "        const docLinkHtml = 'Like what you see? Visit the ' +\n",
              "          '<a target=\"_blank\" href=https://colab.research.google.com/notebooks/data_table.ipynb>data table notebook</a>'\n",
              "          + ' to learn more about interactive tables.';\n",
              "        element.innerHTML = '';\n",
              "        dataTable['output_type'] = 'display_data';\n",
              "        await google.colab.output.renderOutput(dataTable, element);\n",
              "        const docLink = document.createElement('div');\n",
              "        docLink.innerHTML = docLinkHtml;\n",
              "        element.appendChild(docLink);\n",
              "      }\n",
              "    </script>\n",
              "  </div>\n",
              "\n",
              "\n",
              "<div id=\"df-47837542-706a-4648-837e-d7c0ebf5cb11\">\n",
              "  <button class=\"colab-df-quickchart\" onclick=\"quickchart('df-47837542-706a-4648-837e-d7c0ebf5cb11')\"\n",
              "            title=\"Suggest charts\"\n",
              "            style=\"display:none;\">\n",
              "\n",
              "<svg xmlns=\"http://www.w3.org/2000/svg\" height=\"24px\"viewBox=\"0 0 24 24\"\n",
              "     width=\"24px\">\n",
              "    <g>\n",
              "        <path d=\"M19 3H5c-1.1 0-2 .9-2 2v14c0 1.1.9 2 2 2h14c1.1 0 2-.9 2-2V5c0-1.1-.9-2-2-2zM9 17H7v-7h2v7zm4 0h-2V7h2v10zm4 0h-2v-4h2v4z\"/>\n",
              "    </g>\n",
              "</svg>\n",
              "  </button>\n",
              "\n",
              "<style>\n",
              "  .colab-df-quickchart {\n",
              "      --bg-color: #E8F0FE;\n",
              "      --fill-color: #1967D2;\n",
              "      --hover-bg-color: #E2EBFA;\n",
              "      --hover-fill-color: #174EA6;\n",
              "      --disabled-fill-color: #AAA;\n",
              "      --disabled-bg-color: #DDD;\n",
              "  }\n",
              "\n",
              "  [theme=dark] .colab-df-quickchart {\n",
              "      --bg-color: #3B4455;\n",
              "      --fill-color: #D2E3FC;\n",
              "      --hover-bg-color: #434B5C;\n",
              "      --hover-fill-color: #FFFFFF;\n",
              "      --disabled-bg-color: #3B4455;\n",
              "      --disabled-fill-color: #666;\n",
              "  }\n",
              "\n",
              "  .colab-df-quickchart {\n",
              "    background-color: var(--bg-color);\n",
              "    border: none;\n",
              "    border-radius: 50%;\n",
              "    cursor: pointer;\n",
              "    display: none;\n",
              "    fill: var(--fill-color);\n",
              "    height: 32px;\n",
              "    padding: 0;\n",
              "    width: 32px;\n",
              "  }\n",
              "\n",
              "  .colab-df-quickchart:hover {\n",
              "    background-color: var(--hover-bg-color);\n",
              "    box-shadow: 0 1px 2px rgba(60, 64, 67, 0.3), 0 1px 3px 1px rgba(60, 64, 67, 0.15);\n",
              "    fill: var(--button-hover-fill-color);\n",
              "  }\n",
              "\n",
              "  .colab-df-quickchart-complete:disabled,\n",
              "  .colab-df-quickchart-complete:disabled:hover {\n",
              "    background-color: var(--disabled-bg-color);\n",
              "    fill: var(--disabled-fill-color);\n",
              "    box-shadow: none;\n",
              "  }\n",
              "\n",
              "  .colab-df-spinner {\n",
              "    border: 2px solid var(--fill-color);\n",
              "    border-color: transparent;\n",
              "    border-bottom-color: var(--fill-color);\n",
              "    animation:\n",
              "      spin 1s steps(1) infinite;\n",
              "  }\n",
              "\n",
              "  @keyframes spin {\n",
              "    0% {\n",
              "      border-color: transparent;\n",
              "      border-bottom-color: var(--fill-color);\n",
              "      border-left-color: var(--fill-color);\n",
              "    }\n",
              "    20% {\n",
              "      border-color: transparent;\n",
              "      border-left-color: var(--fill-color);\n",
              "      border-top-color: var(--fill-color);\n",
              "    }\n",
              "    30% {\n",
              "      border-color: transparent;\n",
              "      border-left-color: var(--fill-color);\n",
              "      border-top-color: var(--fill-color);\n",
              "      border-right-color: var(--fill-color);\n",
              "    }\n",
              "    40% {\n",
              "      border-color: transparent;\n",
              "      border-right-color: var(--fill-color);\n",
              "      border-top-color: var(--fill-color);\n",
              "    }\n",
              "    60% {\n",
              "      border-color: transparent;\n",
              "      border-right-color: var(--fill-color);\n",
              "    }\n",
              "    80% {\n",
              "      border-color: transparent;\n",
              "      border-right-color: var(--fill-color);\n",
              "      border-bottom-color: var(--fill-color);\n",
              "    }\n",
              "    90% {\n",
              "      border-color: transparent;\n",
              "      border-bottom-color: var(--fill-color);\n",
              "    }\n",
              "  }\n",
              "</style>\n",
              "\n",
              "  <script>\n",
              "    async function quickchart(key) {\n",
              "      const quickchartButtonEl =\n",
              "        document.querySelector('#' + key + ' button');\n",
              "      quickchartButtonEl.disabled = true;  // To prevent multiple clicks.\n",
              "      quickchartButtonEl.classList.add('colab-df-spinner');\n",
              "      try {\n",
              "        const charts = await google.colab.kernel.invokeFunction(\n",
              "            'suggestCharts', [key], {});\n",
              "      } catch (error) {\n",
              "        console.error('Error during call to suggestCharts:', error);\n",
              "      }\n",
              "      quickchartButtonEl.classList.remove('colab-df-spinner');\n",
              "      quickchartButtonEl.classList.add('colab-df-quickchart-complete');\n",
              "    }\n",
              "    (() => {\n",
              "      let quickchartButtonEl =\n",
              "        document.querySelector('#df-47837542-706a-4648-837e-d7c0ebf5cb11 button');\n",
              "      quickchartButtonEl.style.display =\n",
              "        google.colab.kernel.accessAllowed ? 'block' : 'none';\n",
              "    })();\n",
              "  </script>\n",
              "</div>\n",
              "    </div>\n",
              "  </div>\n"
            ],
            "application/vnd.google.colaboratory.intrinsic+json": {
              "type": "dataframe",
              "variable_name": "df",
              "repr_error": "'str' object has no attribute 'empty'"
            }
          },
          "metadata": {},
          "execution_count": 17
        }
      ]
    },
    {
      "cell_type": "markdown",
      "source": [
        "###Save to Csv"
      ],
      "metadata": {
        "id": "gnDucDJd4QAX"
      }
    },
    {
      "cell_type": "code",
      "source": [
        "# บันทึก DataFrame ที่มีลำดับคอลัมน์ใหม่ลงในไฟล์ CSV\n",
        "output_csv_file = '/content/drive/MyDrive/Csv file/true_predict_A5_yoru+habor_2_with 1 round(ครั้งที่2)+Predict_class_with_time.csv'\n",
        "df.to_csv(output_csv_file, index=False, columns=new_column_order)\n"
      ],
      "metadata": {
        "id": "I4yjoh-O1EGt"
      },
      "execution_count": null,
      "outputs": []
    }
  ]
}